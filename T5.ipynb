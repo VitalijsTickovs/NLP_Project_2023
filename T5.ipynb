{
 "cells": [
  {
   "cell_type": "code",
   "execution_count": 1,
   "id": "3ab69249",
   "metadata": {},
   "outputs": [
    {
     "name": "stdout",
     "output_type": "stream",
     "text": [
      "Intel MKL WARNING: Support of Intel(R) Streaming SIMD Extensions 4.2 (Intel(R) SSE4.2) enabled only processors has been deprecated. Intel oneAPI Math Kernel Library 2025.0 will require Intel(R) Advanced Vector Extensions (Intel(R) AVX) instructions.\n",
      "Intel MKL WARNING: Support of Intel(R) Streaming SIMD Extensions 4.2 (Intel(R) SSE4.2) enabled only processors has been deprecated. Intel oneAPI Math Kernel Library 2025.0 will require Intel(R) Advanced Vector Extensions (Intel(R) AVX) instructions.\n"
     ]
    }
   ],
   "source": [
    "import pandas as pd\n",
    "import numpy as np\n",
    "import seaborn as sns\n",
    "import matplotlib.pyplot as plt\n",
    "%matplotlib inline"
   ]
  },
  {
   "cell_type": "code",
   "execution_count": 2,
   "id": "b3b58e3a",
   "metadata": {},
   "outputs": [],
   "source": [
    "import re    # for regular expressions\n",
    "from string import punctuation\n",
    "from nltk.stem import SnowballStemmer    #if you are brave enough to do stemming\n",
    "from nltk.corpus import stopwords      #if you want to remove stopwords\n",
    "from nltk.tokenize import word_tokenize"
   ]
  },
  {
   "cell_type": "code",
   "execution_count": 3,
   "id": "5dd6e84d",
   "metadata": {},
   "outputs": [],
   "source": [
    "import string"
   ]
  },
  {
   "cell_type": "code",
   "execution_count": 4,
   "id": "fc32c37c",
   "metadata": {},
   "outputs": [
    {
     "data": {
      "text/html": [
       "<div>\n",
       "<style scoped>\n",
       "    .dataframe tbody tr th:only-of-type {\n",
       "        vertical-align: middle;\n",
       "    }\n",
       "\n",
       "    .dataframe tbody tr th {\n",
       "        vertical-align: top;\n",
       "    }\n",
       "\n",
       "    .dataframe thead th {\n",
       "        text-align: right;\n",
       "    }\n",
       "</style>\n",
       "<table border=\"1\" class=\"dataframe\">\n",
       "  <thead>\n",
       "    <tr style=\"text-align: right;\">\n",
       "      <th></th>\n",
       "      <th>id</th>\n",
       "      <th>locale</th>\n",
       "      <th>title</th>\n",
       "      <th>price</th>\n",
       "      <th>brand</th>\n",
       "      <th>color</th>\n",
       "      <th>size</th>\n",
       "      <th>model</th>\n",
       "      <th>material</th>\n",
       "      <th>author</th>\n",
       "      <th>desc</th>\n",
       "    </tr>\n",
       "  </thead>\n",
       "  <tbody>\n",
       "    <tr>\n",
       "      <th>0</th>\n",
       "      <td>B005ZSSN10</td>\n",
       "      <td>DE</td>\n",
       "      <td>RED DRAGON Amberjack 3 - Steel Tip 22 Gramm Wo...</td>\n",
       "      <td>30.95</td>\n",
       "      <td>RED DRAGON</td>\n",
       "      <td>NaN</td>\n",
       "      <td>NaN</td>\n",
       "      <td>RDD0089</td>\n",
       "      <td>NaN</td>\n",
       "      <td>NaN</td>\n",
       "      <td>Amberjacks Steel Dartpfeile sind verfügbar in ...</td>\n",
       "    </tr>\n",
       "    <tr>\n",
       "      <th>1</th>\n",
       "      <td>B08PRYN6LD</td>\n",
       "      <td>DE</td>\n",
       "      <td>Simply Keto Lower Carb* Schokodrops ohne Zucke...</td>\n",
       "      <td>17.90</td>\n",
       "      <td>Simply Keto</td>\n",
       "      <td>NaN</td>\n",
       "      <td>750 g (1er Pack)</td>\n",
       "      <td>NaN</td>\n",
       "      <td>NaN</td>\n",
       "      <td>NaN</td>\n",
       "      <td>🌱 NATÜRLICHE SÜSSE DURCH ERYTHRIT - Wir stelle...</td>\n",
       "    </tr>\n",
       "    <tr>\n",
       "      <th>2</th>\n",
       "      <td>B09MBZJ48V</td>\n",
       "      <td>DE</td>\n",
       "      <td>Sennheiser 508377 PC 5.2 Chat, Stilvolles Mult...</td>\n",
       "      <td>68.89</td>\n",
       "      <td>Sennheiser</td>\n",
       "      <td>Multi-Colour</td>\n",
       "      <td>One size</td>\n",
       "      <td>508377</td>\n",
       "      <td>Kunstleder</td>\n",
       "      <td>NaN</td>\n",
       "      <td>3.5 MM BUCHSE - Kann problemlos an Geräte mit ...</td>\n",
       "    </tr>\n",
       "    <tr>\n",
       "      <th>3</th>\n",
       "      <td>B08ZN6F26S</td>\n",
       "      <td>DE</td>\n",
       "      <td>AmyBenton Auto ab 1 2 3 ahre - Baby Aufziehbar...</td>\n",
       "      <td>18.99</td>\n",
       "      <td>Amy &amp; Benton</td>\n",
       "      <td>Animal Car</td>\n",
       "      <td>NaN</td>\n",
       "      <td>2008B</td>\n",
       "      <td>aufziehauto 1 jahr</td>\n",
       "      <td>NaN</td>\n",
       "      <td>【Auto aufziehbar】: Drücken Sie einfach leicht ...</td>\n",
       "    </tr>\n",
       "    <tr>\n",
       "      <th>4</th>\n",
       "      <td>B094DGRV7D</td>\n",
       "      <td>DE</td>\n",
       "      <td>PLAYMOBIL - 70522 - Cavaliere mit grauem Pony</td>\n",
       "      <td>7.17</td>\n",
       "      <td>PLAYMOBIL</td>\n",
       "      <td>Nicht Zutreffend.</td>\n",
       "      <td>OneSize</td>\n",
       "      <td>70522</td>\n",
       "      <td>Polypropylen</td>\n",
       "      <td>NaN</td>\n",
       "      <td>Inhalt: 1 Stück</td>\n",
       "    </tr>\n",
       "  </tbody>\n",
       "</table>\n",
       "</div>"
      ],
      "text/plain": [
       "           id locale                                              title  \\\n",
       "0  B005ZSSN10     DE  RED DRAGON Amberjack 3 - Steel Tip 22 Gramm Wo...   \n",
       "1  B08PRYN6LD     DE  Simply Keto Lower Carb* Schokodrops ohne Zucke...   \n",
       "2  B09MBZJ48V     DE  Sennheiser 508377 PC 5.2 Chat, Stilvolles Mult...   \n",
       "3  B08ZN6F26S     DE  AmyBenton Auto ab 1 2 3 ahre - Baby Aufziehbar...   \n",
       "4  B094DGRV7D     DE      PLAYMOBIL - 70522 - Cavaliere mit grauem Pony   \n",
       "\n",
       "   price         brand              color              size    model  \\\n",
       "0  30.95    RED DRAGON                NaN               NaN  RDD0089   \n",
       "1  17.90   Simply Keto                NaN  750 g (1er Pack)      NaN   \n",
       "2  68.89    Sennheiser       Multi-Colour          One size   508377   \n",
       "3  18.99  Amy & Benton         Animal Car               NaN    2008B   \n",
       "4   7.17     PLAYMOBIL  Nicht Zutreffend.           OneSize    70522   \n",
       "\n",
       "             material author  \\\n",
       "0                 NaN    NaN   \n",
       "1                 NaN    NaN   \n",
       "2          Kunstleder    NaN   \n",
       "3  aufziehauto 1 jahr    NaN   \n",
       "4        Polypropylen    NaN   \n",
       "\n",
       "                                                desc  \n",
       "0  Amberjacks Steel Dartpfeile sind verfügbar in ...  \n",
       "1  🌱 NATÜRLICHE SÜSSE DURCH ERYTHRIT - Wir stelle...  \n",
       "2  3.5 MM BUCHSE - Kann problemlos an Geräte mit ...  \n",
       "3  【Auto aufziehbar】: Drücken Sie einfach leicht ...  \n",
       "4                                    Inhalt: 1 Stück  "
      ]
     },
     "execution_count": 4,
     "metadata": {},
     "output_type": "execute_result"
    }
   ],
   "source": [
    "products = pd.read_csv('products_train.csv')\n",
    "products.head()"
   ]
  },
  {
   "cell_type": "code",
   "execution_count": 5,
   "id": "27b11fe6",
   "metadata": {},
   "outputs": [],
   "source": [
    "products = products.dropna(subset=['title'])"
   ]
  },
  {
   "cell_type": "code",
   "execution_count": 6,
   "id": "128566c5",
   "metadata": {},
   "outputs": [
    {
     "data": {
      "text/plain": [
       "array(['DE', 'JP', 'UK', 'ES', 'FR', 'IT'], dtype=object)"
      ]
     },
     "execution_count": 6,
     "metadata": {},
     "output_type": "execute_result"
    }
   ],
   "source": [
    "products['locale'].unique()"
   ]
  },
  {
   "cell_type": "code",
   "execution_count": 7,
   "id": "b2761801",
   "metadata": {},
   "outputs": [],
   "source": [
    "products_uk = products[products['locale']=='UK']"
   ]
  },
  {
   "cell_type": "code",
   "execution_count": 8,
   "id": "20a8aa79",
   "metadata": {},
   "outputs": [
    {
     "data": {
      "text/html": [
       "<div>\n",
       "<style scoped>\n",
       "    .dataframe tbody tr th:only-of-type {\n",
       "        vertical-align: middle;\n",
       "    }\n",
       "\n",
       "    .dataframe tbody tr th {\n",
       "        vertical-align: top;\n",
       "    }\n",
       "\n",
       "    .dataframe thead th {\n",
       "        text-align: right;\n",
       "    }\n",
       "</style>\n",
       "<table border=\"1\" class=\"dataframe\">\n",
       "  <thead>\n",
       "    <tr style=\"text-align: right;\">\n",
       "      <th></th>\n",
       "      <th>id</th>\n",
       "      <th>locale</th>\n",
       "      <th>title</th>\n",
       "      <th>price</th>\n",
       "      <th>brand</th>\n",
       "      <th>color</th>\n",
       "      <th>size</th>\n",
       "      <th>model</th>\n",
       "      <th>material</th>\n",
       "      <th>author</th>\n",
       "      <th>desc</th>\n",
       "    </tr>\n",
       "  </thead>\n",
       "  <tbody>\n",
       "    <tr>\n",
       "      <th>913336</th>\n",
       "      <td>B087LZNPHS</td>\n",
       "      <td>UK</td>\n",
       "      <td>SOCHOW Sherpa Fleece Throw Blanket, Double-Sid...</td>\n",
       "      <td>24.99</td>\n",
       "      <td>SOCHOW</td>\n",
       "      <td>Teal Green</td>\n",
       "      <td>127cm×150cm</td>\n",
       "      <td>NaN</td>\n",
       "      <td>100% Polyester</td>\n",
       "      <td>NaN</td>\n",
       "      <td>COLOR: The sherpa throw blanket is available i...</td>\n",
       "    </tr>\n",
       "    <tr>\n",
       "      <th>913337</th>\n",
       "      <td>B08THFN1KX</td>\n",
       "      <td>UK</td>\n",
       "      <td>Hippowarehouse Personalised Photo Printed Mous...</td>\n",
       "      <td>9.95</td>\n",
       "      <td>Hippowarehouse</td>\n",
       "      <td>White</td>\n",
       "      <td>240mm x 190mm x 60mm</td>\n",
       "      <td>50245-Mat-Perso</td>\n",
       "      <td>Rubber</td>\n",
       "      <td>NaN</td>\n",
       "      <td>Competitively priced</td>\n",
       "    </tr>\n",
       "    <tr>\n",
       "      <th>913338</th>\n",
       "      <td>0804185328</td>\n",
       "      <td>UK</td>\n",
       "      <td>500 Easy Recipes for Every Machine, Both Stove...</td>\n",
       "      <td>16.49</td>\n",
       "      <td>Clarkson Potter</td>\n",
       "      <td>White</td>\n",
       "      <td>NaN</td>\n",
       "      <td>NaN</td>\n",
       "      <td>NaN</td>\n",
       "      <td>Scarbrough, Mark</td>\n",
       "      <td>NaN</td>\n",
       "    </tr>\n",
       "    <tr>\n",
       "      <th>913339</th>\n",
       "      <td>B09VBKDBW6</td>\n",
       "      <td>UK</td>\n",
       "      <td>TYHJOY Mini Bag Sealer, Handheld Vacuum Heat S...</td>\n",
       "      <td>11.99</td>\n",
       "      <td>TYHJOY</td>\n",
       "      <td>Black</td>\n",
       "      <td>NaN</td>\n",
       "      <td>FBA-sealer-black</td>\n",
       "      <td>Acrylonitrile Butadiene Styrene</td>\n",
       "      <td>NaN</td>\n",
       "      <td>【AFTER-SALE】This handheld food heat sealer sho...</td>\n",
       "    </tr>\n",
       "    <tr>\n",
       "      <th>913340</th>\n",
       "      <td>B096ZW8B49</td>\n",
       "      <td>UK</td>\n",
       "      <td>Lucosobie Steering Wheel Lock - Car Anti-Theft...</td>\n",
       "      <td>26.99</td>\n",
       "      <td>Lucosobie</td>\n",
       "      <td>Black</td>\n",
       "      <td>NaN</td>\n",
       "      <td>NaN</td>\n",
       "      <td>Alloy Steel</td>\n",
       "      <td>NaN</td>\n",
       "      <td>🔐【 Anti-Friction &amp; Customer First】Each box of ...</td>\n",
       "    </tr>\n",
       "  </tbody>\n",
       "</table>\n",
       "</div>"
      ],
      "text/plain": [
       "                id locale                                              title  \\\n",
       "913336  B087LZNPHS     UK  SOCHOW Sherpa Fleece Throw Blanket, Double-Sid...   \n",
       "913337  B08THFN1KX     UK  Hippowarehouse Personalised Photo Printed Mous...   \n",
       "913338  0804185328     UK  500 Easy Recipes for Every Machine, Both Stove...   \n",
       "913339  B09VBKDBW6     UK  TYHJOY Mini Bag Sealer, Handheld Vacuum Heat S...   \n",
       "913340  B096ZW8B49     UK  Lucosobie Steering Wheel Lock - Car Anti-Theft...   \n",
       "\n",
       "        price            brand       color                  size  \\\n",
       "913336  24.99           SOCHOW  Teal Green           127cm×150cm   \n",
       "913337   9.95   Hippowarehouse       White  240mm x 190mm x 60mm   \n",
       "913338  16.49  Clarkson Potter       White                   NaN   \n",
       "913339  11.99           TYHJOY       Black                   NaN   \n",
       "913340  26.99        Lucosobie       Black                   NaN   \n",
       "\n",
       "                   model                         material            author  \\\n",
       "913336               NaN                   100% Polyester               NaN   \n",
       "913337   50245-Mat-Perso                           Rubber               NaN   \n",
       "913338               NaN                              NaN  Scarbrough, Mark   \n",
       "913339  FBA-sealer-black  Acrylonitrile Butadiene Styrene               NaN   \n",
       "913340               NaN                      Alloy Steel               NaN   \n",
       "\n",
       "                                                     desc  \n",
       "913336  COLOR: The sherpa throw blanket is available i...  \n",
       "913337                               Competitively priced  \n",
       "913338                                                NaN  \n",
       "913339  【AFTER-SALE】This handheld food heat sealer sho...  \n",
       "913340  🔐【 Anti-Friction & Customer First】Each box of ...  "
      ]
     },
     "execution_count": 8,
     "metadata": {},
     "output_type": "execute_result"
    }
   ],
   "source": [
    "products_uk.head()"
   ]
  },
  {
   "cell_type": "code",
   "execution_count": 9,
   "id": "b2b0b487",
   "metadata": {},
   "outputs": [
    {
     "data": {
      "text/plain": [
       "id           object\n",
       "locale       object\n",
       "title        object\n",
       "price       float64\n",
       "brand        object\n",
       "color        object\n",
       "size         object\n",
       "model        object\n",
       "material     object\n",
       "author       object\n",
       "desc         object\n",
       "dtype: object"
      ]
     },
     "execution_count": 9,
     "metadata": {},
     "output_type": "execute_result"
    }
   ],
   "source": [
    "products_uk.dtypes"
   ]
  },
  {
   "cell_type": "code",
   "execution_count": 10,
   "id": "37e73eed",
   "metadata": {},
   "outputs": [],
   "source": [
    "def clean(text, stem_words=True):\n",
    "    \n",
    "#     text = re.sub('(?<=[0-9])\\,(?=[0-9])', \"\", text)\n",
    "#     print(text)\n",
    "#     text = re.sub('^(?!.[a-zA-Z])(?!.\\d)[a-zA-Z0-9]+$', \"\", text)\n",
    "    text = re.findall(r'\\b(?:[a-zA-Z]+|\\d+)\\b', text)\n",
    "    text = \" \".join(text)\n",
    "    return text"
   ]
  },
  {
   "cell_type": "code",
   "execution_count": 11,
   "id": "30267a2c",
   "metadata": {},
   "outputs": [
    {
     "name": "stderr",
     "output_type": "stream",
     "text": [
      "/var/folders/lh/0lt7mv811l56hczm0y7dwzym0000gn/T/ipykernel_20177/2897974719.py:1: SettingWithCopyWarning: \n",
      "A value is trying to be set on a copy of a slice from a DataFrame.\n",
      "Try using .loc[row_indexer,col_indexer] = value instead\n",
      "\n",
      "See the caveats in the documentation: https://pandas.pydata.org/pandas-docs/stable/user_guide/indexing.html#returning-a-view-versus-a-copy\n",
      "  products_uk['title'] = products_uk['title'].apply(clean)\n"
     ]
    }
   ],
   "source": [
    "products_uk['title'] = products_uk['title'].apply(clean)"
   ]
  },
  {
   "cell_type": "code",
   "execution_count": 12,
   "id": "be78683e",
   "metadata": {},
   "outputs": [
    {
     "data": {
      "text/plain": [
       "array(['SOCHOW Sherpa Fleece Throw Blanket Double Sided Super Soft Luxurious Plush Blanket Teal Green',\n",
       "       'Hippowarehouse Personalised Photo Printed Mouse Mat Pad Accessory Black Rubber Base Collage Option Home Office Fathers Day Teacher Present x x',\n",
       "       '500 Easy Recipes for Every Machine Both Stovetop and Electric A Cookbook',\n",
       "       ...,\n",
       "       'Before I Do the new funny and unexpected love story from the author of THIS TIME NEXT YEAR',\n",
       "       'Black iPhone Charger Cable iPhone Charger Braided Long iPhone Charger Lead USB Fast Charging Cable Compatible with iPhone 11 Pro Xs Max X 8 7 Plus 6 SE iPad and More',\n",
       "       'Kids B Crafty 100 Mini Pegs Mini Wooden Pegs Mini pegs for photos Small Wooden Pegs Small Pegs Craft Pegs Wooden Pegs Craft'],\n",
       "      dtype=object)"
      ]
     },
     "execution_count": 12,
     "metadata": {},
     "output_type": "execute_result"
    }
   ],
   "source": [
    "np.array(products_uk['title'])"
   ]
  },
  {
   "cell_type": "code",
   "execution_count": 13,
   "id": "e9ad22c4",
   "metadata": {},
   "outputs": [
    {
     "data": {
      "text/html": [
       "<div>\n",
       "<style scoped>\n",
       "    .dataframe tbody tr th:only-of-type {\n",
       "        vertical-align: middle;\n",
       "    }\n",
       "\n",
       "    .dataframe tbody tr th {\n",
       "        vertical-align: top;\n",
       "    }\n",
       "\n",
       "    .dataframe thead th {\n",
       "        text-align: right;\n",
       "    }\n",
       "</style>\n",
       "<table border=\"1\" class=\"dataframe\">\n",
       "  <thead>\n",
       "    <tr style=\"text-align: right;\">\n",
       "      <th></th>\n",
       "      <th>prev_items</th>\n",
       "      <th>next_item</th>\n",
       "      <th>locale</th>\n",
       "    </tr>\n",
       "  </thead>\n",
       "  <tbody>\n",
       "    <tr>\n",
       "      <th>0</th>\n",
       "      <td>['B09W9FND7K' 'B09JSPLN1M']</td>\n",
       "      <td>B09M7GY217</td>\n",
       "      <td>DE</td>\n",
       "    </tr>\n",
       "    <tr>\n",
       "      <th>1</th>\n",
       "      <td>['B076THCGSG' 'B007MO8IME' 'B08MF65MLV' 'B001B...</td>\n",
       "      <td>B001B4THSA</td>\n",
       "      <td>DE</td>\n",
       "    </tr>\n",
       "    <tr>\n",
       "      <th>2</th>\n",
       "      <td>['B0B1LGXWDS' 'B00AZYORS2' 'B0B1LGXWDS' 'B00AZ...</td>\n",
       "      <td>B0767DTG2Q</td>\n",
       "      <td>DE</td>\n",
       "    </tr>\n",
       "    <tr>\n",
       "      <th>3</th>\n",
       "      <td>['B09XMTWDVT' 'B0B4MZZ8MB' 'B0B7HZ2GWX' 'B09XM...</td>\n",
       "      <td>B0B4R9NN4B</td>\n",
       "      <td>DE</td>\n",
       "    </tr>\n",
       "    <tr>\n",
       "      <th>4</th>\n",
       "      <td>['B09Y5CSL3T' 'B09Y5DPTXN' 'B09FKD61R8']</td>\n",
       "      <td>B0BGVBKWGZ</td>\n",
       "      <td>DE</td>\n",
       "    </tr>\n",
       "  </tbody>\n",
       "</table>\n",
       "</div>"
      ],
      "text/plain": [
       "                                          prev_items   next_item locale\n",
       "0                        ['B09W9FND7K' 'B09JSPLN1M']  B09M7GY217     DE\n",
       "1  ['B076THCGSG' 'B007MO8IME' 'B08MF65MLV' 'B001B...  B001B4THSA     DE\n",
       "2  ['B0B1LGXWDS' 'B00AZYORS2' 'B0B1LGXWDS' 'B00AZ...  B0767DTG2Q     DE\n",
       "3  ['B09XMTWDVT' 'B0B4MZZ8MB' 'B0B7HZ2GWX' 'B09XM...  B0B4R9NN4B     DE\n",
       "4           ['B09Y5CSL3T' 'B09Y5DPTXN' 'B09FKD61R8']  B0BGVBKWGZ     DE"
      ]
     },
     "execution_count": 13,
     "metadata": {},
     "output_type": "execute_result"
    }
   ],
   "source": [
    "# load session data\n",
    "sessions = pd.read_csv('sessions_train.csv')\n",
    "\n",
    "sessions.head()"
   ]
  },
  {
   "cell_type": "code",
   "execution_count": 14,
   "id": "0c3b66a2",
   "metadata": {},
   "outputs": [
    {
     "name": "stdout",
     "output_type": "stream",
     "text": [
      "(1182181, 3)\n"
     ]
    },
    {
     "data": {
      "text/html": [
       "<div>\n",
       "<style scoped>\n",
       "    .dataframe tbody tr th:only-of-type {\n",
       "        vertical-align: middle;\n",
       "    }\n",
       "\n",
       "    .dataframe tbody tr th {\n",
       "        vertical-align: top;\n",
       "    }\n",
       "\n",
       "    .dataframe thead th {\n",
       "        text-align: right;\n",
       "    }\n",
       "</style>\n",
       "<table border=\"1\" class=\"dataframe\">\n",
       "  <thead>\n",
       "    <tr style=\"text-align: right;\">\n",
       "      <th></th>\n",
       "      <th>prev_items</th>\n",
       "      <th>next_item</th>\n",
       "      <th>locale</th>\n",
       "    </tr>\n",
       "  </thead>\n",
       "  <tbody>\n",
       "    <tr>\n",
       "      <th>2090535</th>\n",
       "      <td>['B0BFDL54Y7' 'B0BFDR9X13' 'B07J4WF8VH' 'B07Y2...</td>\n",
       "      <td>B07Y227WNJ</td>\n",
       "      <td>UK</td>\n",
       "    </tr>\n",
       "    <tr>\n",
       "      <th>2090536</th>\n",
       "      <td>['B07FM2GLNQ' 'B07GZW3P4W']</td>\n",
       "      <td>B095NNZCR6</td>\n",
       "      <td>UK</td>\n",
       "    </tr>\n",
       "    <tr>\n",
       "      <th>2090537</th>\n",
       "      <td>['B0021L95HU' 'B07DDL77RY' 'B07DDL77RY']</td>\n",
       "      <td>B002KA1FZC</td>\n",
       "      <td>UK</td>\n",
       "    </tr>\n",
       "    <tr>\n",
       "      <th>2090538</th>\n",
       "      <td>['B0B2WSZYL2' 'B000I8XZ7O']</td>\n",
       "      <td>B000I90TAO</td>\n",
       "      <td>UK</td>\n",
       "    </tr>\n",
       "    <tr>\n",
       "      <th>2090539</th>\n",
       "      <td>['B00LW1APOC' 'B00LW1APOC' 'B00OI6NQUI' 'B09HL...</td>\n",
       "      <td>B07H54NZ3K</td>\n",
       "      <td>UK</td>\n",
       "    </tr>\n",
       "  </tbody>\n",
       "</table>\n",
       "</div>"
      ],
      "text/plain": [
       "                                                prev_items   next_item locale\n",
       "2090535  ['B0BFDL54Y7' 'B0BFDR9X13' 'B07J4WF8VH' 'B07Y2...  B07Y227WNJ     UK\n",
       "2090536                        ['B07FM2GLNQ' 'B07GZW3P4W']  B095NNZCR6     UK\n",
       "2090537           ['B0021L95HU' 'B07DDL77RY' 'B07DDL77RY']  B002KA1FZC     UK\n",
       "2090538                        ['B0B2WSZYL2' 'B000I8XZ7O']  B000I90TAO     UK\n",
       "2090539  ['B00LW1APOC' 'B00LW1APOC' 'B00OI6NQUI' 'B09HL...  B07H54NZ3K     UK"
      ]
     },
     "execution_count": 14,
     "metadata": {},
     "output_type": "execute_result"
    }
   ],
   "source": [
    "# get UK sessions\n",
    "sessions_uk = sessions[sessions['locale']=='UK']\n",
    "print(sessions_uk.shape)\n",
    "sessions_uk.head()\n"
   ]
  },
  {
   "cell_type": "code",
   "execution_count": 15,
   "id": "8fc3d177",
   "metadata": {},
   "outputs": [
    {
     "name": "stdout",
     "output_type": "stream",
     "text": [
      "Wokii Vegetable Chopper Vegetable Slicer 14 in 1 Vegetable Chopper Cutter Dicer With Food Container for Onion Veg Garlic Potato Salad Mini Dicer Chopper Cutter\n"
     ]
    }
   ],
   "source": [
    "# substitute ids with titles\n",
    "import pandas as pd\n",
    "\n",
    "\n",
    "\n",
    "sessions_uk = sessions_uk.copy()\n",
    "\n",
    "# Create a dictionary to map product id to title\n",
    "id_to_title = products_uk.set_index('id')['title'].to_dict()\n",
    "print(id_to_title.get('B0BFDL54Y7'))\n"
   ]
  },
  {
   "cell_type": "code",
   "execution_count": 16,
   "id": "4fd5410d",
   "metadata": {},
   "outputs": [],
   "source": [
    "import re\n",
    "# convert string of ids to list of ids\n",
    "def convert_ids_string_to_list(ids_string):\n",
    "    return re.findall(r\"'(.*?)'\", ids_string)\n",
    "\n",
    "# convert list of ids to list of titles\n",
    "sessions_uk['prev_items'] = sessions_uk['prev_items'].apply(convert_ids_string_to_list)\n",
    "\n",
    "sessions_uk['prev_items'] = sessions_uk['prev_items'].apply(lambda x: [id_to_title.get(i) for i in x if id_to_title.get(i)])\n"
   ]
  },
  {
   "cell_type": "code",
   "execution_count": 17,
   "id": "9e62cd51",
   "metadata": {},
   "outputs": [],
   "source": [
    "\n",
    "\n",
    "# Replace product IDs in 'next_item' with their corresponding titles.\n",
    "sessions_uk['next_item'] = sessions_uk['next_item'].apply(lambda x: id_to_title.get(x) if id_to_title.get(x) else x)\n"
   ]
  },
  {
   "cell_type": "code",
   "execution_count": 18,
   "id": "439a7250",
   "metadata": {},
   "outputs": [
    {
     "data": {
      "text/html": [
       "<div>\n",
       "<style scoped>\n",
       "    .dataframe tbody tr th:only-of-type {\n",
       "        vertical-align: middle;\n",
       "    }\n",
       "\n",
       "    .dataframe tbody tr th {\n",
       "        vertical-align: top;\n",
       "    }\n",
       "\n",
       "    .dataframe thead th {\n",
       "        text-align: right;\n",
       "    }\n",
       "</style>\n",
       "<table border=\"1\" class=\"dataframe\">\n",
       "  <thead>\n",
       "    <tr style=\"text-align: right;\">\n",
       "      <th></th>\n",
       "      <th>prev_items</th>\n",
       "      <th>next_item</th>\n",
       "      <th>locale</th>\n",
       "    </tr>\n",
       "  </thead>\n",
       "  <tbody>\n",
       "    <tr>\n",
       "      <th>2090535</th>\n",
       "      <td>[Wokii Vegetable Chopper Vegetable Slicer 14 i...</td>\n",
       "      <td>ADOV Vegetable Chopper 14 in 1 Multi Function ...</td>\n",
       "      <td>UK</td>\n",
       "    </tr>\n",
       "    <tr>\n",
       "      <th>2090536</th>\n",
       "      <td>[Trust Verto Wireless Ergonomic Mouse Vertical...</td>\n",
       "      <td>Bedsure White Voile Sheer Curtains 2 Panels Wi...</td>\n",
       "      <td>UK</td>\n",
       "    </tr>\n",
       "    <tr>\n",
       "      <th>2090537</th>\n",
       "      <td>[Seven Seas Cod Liver Oil Tablets Plus Multivi...</td>\n",
       "      <td>Seven Seas Omega 3 FISH Oil Plus Cod Liver Oil...</td>\n",
       "      <td>UK</td>\n",
       "    </tr>\n",
       "    <tr>\n",
       "      <th>2090538</th>\n",
       "      <td>[ABC Products Compatible Replacement Shark 2 i...</td>\n",
       "      <td>Rubie s Official Halloween Haunted House Skele...</td>\n",
       "      <td>UK</td>\n",
       "    </tr>\n",
       "    <tr>\n",
       "      <th>2090539</th>\n",
       "      <td>[Command Medium Picture Mounting Strips Pack o...</td>\n",
       "      <td>Command Assorted Picture Hanging Strips White ...</td>\n",
       "      <td>UK</td>\n",
       "    </tr>\n",
       "  </tbody>\n",
       "</table>\n",
       "</div>"
      ],
      "text/plain": [
       "                                                prev_items  \\\n",
       "2090535  [Wokii Vegetable Chopper Vegetable Slicer 14 i...   \n",
       "2090536  [Trust Verto Wireless Ergonomic Mouse Vertical...   \n",
       "2090537  [Seven Seas Cod Liver Oil Tablets Plus Multivi...   \n",
       "2090538  [ABC Products Compatible Replacement Shark 2 i...   \n",
       "2090539  [Command Medium Picture Mounting Strips Pack o...   \n",
       "\n",
       "                                                 next_item locale  \n",
       "2090535  ADOV Vegetable Chopper 14 in 1 Multi Function ...     UK  \n",
       "2090536  Bedsure White Voile Sheer Curtains 2 Panels Wi...     UK  \n",
       "2090537  Seven Seas Omega 3 FISH Oil Plus Cod Liver Oil...     UK  \n",
       "2090538  Rubie s Official Halloween Haunted House Skele...     UK  \n",
       "2090539  Command Assorted Picture Hanging Strips White ...     UK  "
      ]
     },
     "execution_count": 18,
     "metadata": {},
     "output_type": "execute_result"
    }
   ],
   "source": [
    "# sessions_uk with titles instead of ids. ready for NLP\n",
    "sessions_uk.head()\n"
   ]
  },
  {
   "cell_type": "code",
   "execution_count": 19,
   "id": "b556846e",
   "metadata": {},
   "outputs": [
    {
     "data": {
      "text/plain": [
       "['Wokii Vegetable Chopper Vegetable Slicer 14 in 1 Vegetable Chopper Cutter Dicer With Food Container for Onion Veg Garlic Potato Salad Mini Dicer Chopper Cutter',\n",
       " 'Wokii Vegetable Chopper Vegetable Slicer 14 in 1 Vegetable Chopper Cutter Dicer With Food Container for Onion Veg Garlic Potato Salad Mini Dicer Chopper Cutter',\n",
       " 'Vinsani Kitchen Vegetable Cutter Onion Garlic Fruits Cheese Food Cutter Potato Chopper Salad Slicer with 3 Interchangeable Blade Inserts Set Stainless Steel',\n",
       " 'ADOV Vegetable Chopper 14 in 1 Multi Function Kitchen Mandoline Slicer 7 Replaceable Stainless Steel Vegetable Cutter with Egg Separator Hand Guard Julienne Grater for Onion Potato Fruits Blue']"
      ]
     },
     "execution_count": 19,
     "metadata": {},
     "output_type": "execute_result"
    }
   ],
   "source": [
    "session = sessions_uk['prev_items'].iloc[0]\n",
    "session \n"
   ]
  },
  {
   "cell_type": "code",
   "execution_count": 1,
   "id": "6e2e08c6",
   "metadata": {},
   "outputs": [
    {
     "name": "stdout",
     "output_type": "stream",
     "text": [
      "Intel MKL WARNING: Support of Intel(R) Streaming SIMD Extensions 4.2 (Intel(R) SSE4.2) enabled only processors has been deprecated. Intel oneAPI Math Kernel Library 2025.0 will require Intel(R) Advanced Vector Extensions (Intel(R) AVX) instructions.\n",
      "Intel MKL WARNING: Support of Intel(R) Streaming SIMD Extensions 4.2 (Intel(R) SSE4.2) enabled only processors has been deprecated. Intel oneAPI Math Kernel Library 2025.0 will require Intel(R) Advanced Vector Extensions (Intel(R) AVX) instructions.\n"
     ]
    },
    {
     "ename": "",
     "evalue": "",
     "output_type": "error",
     "traceback": [
      "\u001b[1;31mCanceled future for execute_request message before replies were done"
     ]
    },
    {
     "ename": "",
     "evalue": "",
     "output_type": "error",
     "traceback": [
      "\u001b[1;31mThe Kernel crashed while executing code in the the current cell or a previous cell. Please review the code in the cell(s) to identify a possible cause of the failure. Click <a href='https://aka.ms/vscodeJupyterKernelCrash'>here</a> for more info. View Jupyter <a href='command:jupyter.viewOutput'>log</a> for further details."
     ]
    }
   ],
   "source": [
    "import torch\n",
    "from torch.utils.data import Dataset, DataLoader, random_split\n",
    "from transformers import T5Tokenizer, T5ForConditionalGeneration, AdamW\n",
    "from torch.nn.utils.rnn import pad_sequence\n",
    "\n",
    "\n",
    "tokenizer = T5Tokenizer.from_pretrained('t5-base')\n",
    "\n",
    "class SessionDataset(Dataset):\n",
    "    def __init__(self, sessions, tokenizer, max_length=512):\n",
    "        self.sessions = sessions\n",
    "        self.tokenizer = tokenizer\n",
    "        self.max_length = max_length\n",
    "\n",
    "    def __len__(self):\n",
    "        return len(self.sessions)\n",
    "\n",
    "    def __getitem__(self, idx):\n",
    "        session = self.sessions.iloc[idx]\n",
    "        encoding = self.tokenizer(session['prev_items'], truncation=True, max_length=self.max_length, padding='max_length')\n",
    "        target_encoding = self.tokenizer(session['next_item'], truncation=True, max_length=self.max_length, padding='max_length')\n",
    "\n",
    "        return {\n",
    "            'input_ids': torch.tensor(encoding.input_ids, dtype=torch.long),\n",
    "            'attention_mask': torch.tensor(encoding.attention_mask, dtype=torch.long),\n",
    "            'labels': torch.tensor(target_encoding.input_ids, dtype=torch.long),\n",
    "        }\n",
    "def collate_fn(batch):\n",
    "    input_ids = [item['input_ids'] for item in batch]\n",
    "    labels = [item['labels'] for item in batch]\n",
    "    \n",
    "    input_ids = pad_sequence(input_ids, batch_first=True, padding_value=tokenizer.pad_token_id)\n",
    "    labels = pad_sequence(labels, batch_first=True, padding_value=-100)\n",
    "    \n",
    "    return {'input_ids': input_ids, 'labels': labels}"
   ]
  },
  {
   "cell_type": "code",
   "execution_count": 1,
   "id": "88baacc3",
   "metadata": {},
   "outputs": [
    {
     "name": "stdout",
     "output_type": "stream",
     "text": [
      "Intel MKL WARNING: Support of Intel(R) Streaming SIMD Extensions 4.2 (Intel(R) SSE4.2) enabled only processors has been deprecated. Intel oneAPI Math Kernel Library 2025.0 will require Intel(R) Advanced Vector Extensions (Intel(R) AVX) instructions.\n",
      "Intel MKL WARNING: Support of Intel(R) Streaming SIMD Extensions 4.2 (Intel(R) SSE4.2) enabled only processors has been deprecated. Intel oneAPI Math Kernel Library 2025.0 will require Intel(R) Advanced Vector Extensions (Intel(R) AVX) instructions.\n"
     ]
    },
    {
     "ename": "",
     "evalue": "",
     "output_type": "error",
     "traceback": [
      "\u001b[1;31mCanceled future for execute_request message before replies were done"
     ]
    },
    {
     "ename": "",
     "evalue": "",
     "output_type": "error",
     "traceback": [
      "\u001b[1;31mThe Kernel crashed while executing code in the the current cell or a previous cell. Please review the code in the cell(s) to identify a possible cause of the failure. Click <a href='https://aka.ms/vscodeJupyterKernelCrash'>here</a> for more info. View Jupyter <a href='command:jupyter.viewOutput'>log</a> for further details."
     ]
    }
   ],
   "source": [
    "\n",
    "\n",
    "\n",
    "\n",
    "dataset = SessionDataset(sessions_uk, tokenizer)\n",
    "train_size = int(0.8 * len(dataset))\n",
    "val_size = len(dataset) - train_size\n",
    "train_dataset, val_dataset = random_split(dataset, [train_size, val_size])\n",
    "\n",
    "train_loader = DataLoader(train_dataset, batch_size=8, shuffle=True,collate_fn=collate_fn)\n",
    "val_loader = DataLoader(val_dataset, batch_size=8, shuffle=False,collate_fn=collate_fn)\n",
    "\n",
    "model = T5ForConditionalGeneration.from_pretrained('t5-base')\n",
    "\n",
    "optimizer = AdamW(model.parameters(), lr=1e-4)\n",
    "\n",
    "device = torch.device('cuda') if torch.cuda.is_available() else torch.device('cpu')\n",
    "model.to(device)\n",
    "\n",
    "for epoch in range(3):  \n",
    "    running_loss = 0.0\n",
    "    model.train()  # set model to training mode\n",
    "    for i, data in enumerate(train_loader, 0):\n",
    "        inputs, labels = data['input_ids'].to(device), data['labels'].to(device)\n",
    "        optimizer.zero_grad()\n",
    "        outputs = model(input_ids=inputs, labels=labels)\n",
    "        loss = outputs.loss\n",
    "        loss.backward()\n",
    "        optimizer.step()\n",
    "        running_loss += loss.item()\n",
    "        if i % 2000 == 1999: \n",
    "            print('[%d, %5d] training loss: %.3f' %\n",
    "                  (epoch + 1, i + 1, running_loss / 2000))\n",
    "            running_loss = 0.0\n",
    "\n",
    "    # validation loop\n",
    "    model.eval()  # set model to eval mode\n",
    "    running_val_loss = 0.0\n",
    "    with torch.no_grad():  # no gradients for validation\n",
    "        for i, data in enumerate(val_loader, 0):\n",
    "            inputs, labels = data['input_ids'].to(device), data['labels'].to(device)\n",
    "            outputs = model(input_ids=inputs, labels=labels)\n",
    "            loss = outputs.loss\n",
    "            running_val_loss += loss.item()\n",
    "    print('[%d] validation loss: %.3f' %\n",
    "          (epoch + 1, running_val_loss / len(val_loader)))\n",
    "\n",
    "print('Finished Training')\n",
    "\n",
    "# Save the trained model\n",
    "torch.save(model.state_dict(), 't5_trained_model.pt')\n"
   ]
  }
 ],
 "metadata": {
  "kernelspec": {
   "display_name": "Python 3 (ipykernel)",
   "language": "python",
   "name": "python3"
  },
  "language_info": {
   "codemirror_mode": {
    "name": "ipython",
    "version": 3
   },
   "file_extension": ".py",
   "mimetype": "text/x-python",
   "name": "python",
   "nbconvert_exporter": "python",
   "pygments_lexer": "ipython3",
   "version": "3.11.3"
  }
 },
 "nbformat": 4,
 "nbformat_minor": 5
}
