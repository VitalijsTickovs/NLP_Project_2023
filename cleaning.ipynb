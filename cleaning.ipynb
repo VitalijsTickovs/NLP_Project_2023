{
 "cells": [
  {
   "cell_type": "code",
   "execution_count": 1,
   "id": "3ab69249",
   "metadata": {},
   "outputs": [],
   "source": [
    "import pandas as pd\n",
    "import numpy as np\n",
    "import seaborn as sns\n",
    "import matplotlib.pyplot as plt\n",
    "%matplotlib inline"
   ]
  },
  {
   "cell_type": "code",
   "execution_count": 2,
   "id": "b3b58e3a",
   "metadata": {},
   "outputs": [],
   "source": [
    "import re    # for regular expressions\n",
    "from string import punctuation\n",
    "from nltk.stem import SnowballStemmer    #if you are brave enough to do stemming\n",
    "from nltk.corpus import stopwords      #if you want to remove stopwords\n",
    "from nltk.tokenize import word_tokenize"
   ]
  },
  {
   "cell_type": "code",
   "execution_count": 9,
   "id": "5dd6e84d",
   "metadata": {},
   "outputs": [],
   "source": [
    "import string"
   ]
  },
  {
   "cell_type": "code",
   "execution_count": 3,
   "id": "fc32c37c",
   "metadata": {},
   "outputs": [
    {
     "data": {
      "text/html": [
       "<div>\n",
       "<style scoped>\n",
       "    .dataframe tbody tr th:only-of-type {\n",
       "        vertical-align: middle;\n",
       "    }\n",
       "\n",
       "    .dataframe tbody tr th {\n",
       "        vertical-align: top;\n",
       "    }\n",
       "\n",
       "    .dataframe thead th {\n",
       "        text-align: right;\n",
       "    }\n",
       "</style>\n",
       "<table border=\"1\" class=\"dataframe\">\n",
       "  <thead>\n",
       "    <tr style=\"text-align: right;\">\n",
       "      <th></th>\n",
       "      <th>id</th>\n",
       "      <th>locale</th>\n",
       "      <th>title</th>\n",
       "      <th>price</th>\n",
       "      <th>brand</th>\n",
       "      <th>color</th>\n",
       "      <th>size</th>\n",
       "      <th>model</th>\n",
       "      <th>material</th>\n",
       "      <th>author</th>\n",
       "      <th>desc</th>\n",
       "    </tr>\n",
       "  </thead>\n",
       "  <tbody>\n",
       "    <tr>\n",
       "      <th>0</th>\n",
       "      <td>B005ZSSN10</td>\n",
       "      <td>DE</td>\n",
       "      <td>RED DRAGON Amberjack 3 - Steel Tip 22 Gramm Wo...</td>\n",
       "      <td>30.95</td>\n",
       "      <td>RED DRAGON</td>\n",
       "      <td>NaN</td>\n",
       "      <td>NaN</td>\n",
       "      <td>RDD0089</td>\n",
       "      <td>NaN</td>\n",
       "      <td>NaN</td>\n",
       "      <td>Amberjacks Steel Dartpfeile sind verfügbar in ...</td>\n",
       "    </tr>\n",
       "    <tr>\n",
       "      <th>1</th>\n",
       "      <td>B08PRYN6LD</td>\n",
       "      <td>DE</td>\n",
       "      <td>Simply Keto Lower Carb* Schokodrops ohne Zucke...</td>\n",
       "      <td>17.90</td>\n",
       "      <td>Simply Keto</td>\n",
       "      <td>NaN</td>\n",
       "      <td>750 g (1er Pack)</td>\n",
       "      <td>NaN</td>\n",
       "      <td>NaN</td>\n",
       "      <td>NaN</td>\n",
       "      <td>🌱 NATÜRLICHE SÜSSE DURCH ERYTHRIT - Wir stelle...</td>\n",
       "    </tr>\n",
       "    <tr>\n",
       "      <th>2</th>\n",
       "      <td>B09MBZJ48V</td>\n",
       "      <td>DE</td>\n",
       "      <td>Sennheiser 508377 PC 5.2 Chat, Stilvolles Mult...</td>\n",
       "      <td>68.89</td>\n",
       "      <td>Sennheiser</td>\n",
       "      <td>Multi-Colour</td>\n",
       "      <td>One size</td>\n",
       "      <td>508377</td>\n",
       "      <td>Kunstleder</td>\n",
       "      <td>NaN</td>\n",
       "      <td>3.5 MM BUCHSE - Kann problemlos an Geräte mit ...</td>\n",
       "    </tr>\n",
       "    <tr>\n",
       "      <th>3</th>\n",
       "      <td>B08ZN6F26S</td>\n",
       "      <td>DE</td>\n",
       "      <td>AmyBenton Auto ab 1 2 3 ahre - Baby Aufziehbar...</td>\n",
       "      <td>18.99</td>\n",
       "      <td>Amy &amp; Benton</td>\n",
       "      <td>Animal Car</td>\n",
       "      <td>NaN</td>\n",
       "      <td>2008B</td>\n",
       "      <td>aufziehauto 1 jahr</td>\n",
       "      <td>NaN</td>\n",
       "      <td>【Auto aufziehbar】: Drücken Sie einfach leicht ...</td>\n",
       "    </tr>\n",
       "    <tr>\n",
       "      <th>4</th>\n",
       "      <td>B094DGRV7D</td>\n",
       "      <td>DE</td>\n",
       "      <td>PLAYMOBIL - 70522 - Cavaliere mit grauem Pony</td>\n",
       "      <td>7.17</td>\n",
       "      <td>PLAYMOBIL</td>\n",
       "      <td>Nicht Zutreffend.</td>\n",
       "      <td>OneSize</td>\n",
       "      <td>70522</td>\n",
       "      <td>Polypropylen</td>\n",
       "      <td>NaN</td>\n",
       "      <td>Inhalt: 1 Stück</td>\n",
       "    </tr>\n",
       "  </tbody>\n",
       "</table>\n",
       "</div>"
      ],
      "text/plain": [
       "           id locale                                              title  \\\n",
       "0  B005ZSSN10     DE  RED DRAGON Amberjack 3 - Steel Tip 22 Gramm Wo...   \n",
       "1  B08PRYN6LD     DE  Simply Keto Lower Carb* Schokodrops ohne Zucke...   \n",
       "2  B09MBZJ48V     DE  Sennheiser 508377 PC 5.2 Chat, Stilvolles Mult...   \n",
       "3  B08ZN6F26S     DE  AmyBenton Auto ab 1 2 3 ahre - Baby Aufziehbar...   \n",
       "4  B094DGRV7D     DE      PLAYMOBIL - 70522 - Cavaliere mit grauem Pony   \n",
       "\n",
       "   price         brand              color              size    model  \\\n",
       "0  30.95    RED DRAGON                NaN               NaN  RDD0089   \n",
       "1  17.90   Simply Keto                NaN  750 g (1er Pack)      NaN   \n",
       "2  68.89    Sennheiser       Multi-Colour          One size   508377   \n",
       "3  18.99  Amy & Benton         Animal Car               NaN    2008B   \n",
       "4   7.17     PLAYMOBIL  Nicht Zutreffend.           OneSize    70522   \n",
       "\n",
       "             material author  \\\n",
       "0                 NaN    NaN   \n",
       "1                 NaN    NaN   \n",
       "2          Kunstleder    NaN   \n",
       "3  aufziehauto 1 jahr    NaN   \n",
       "4        Polypropylen    NaN   \n",
       "\n",
       "                                                desc  \n",
       "0  Amberjacks Steel Dartpfeile sind verfügbar in ...  \n",
       "1  🌱 NATÜRLICHE SÜSSE DURCH ERYTHRIT - Wir stelle...  \n",
       "2  3.5 MM BUCHSE - Kann problemlos an Geräte mit ...  \n",
       "3  【Auto aufziehbar】: Drücken Sie einfach leicht ...  \n",
       "4                                    Inhalt: 1 Stück  "
      ]
     },
     "execution_count": 3,
     "metadata": {},
     "output_type": "execute_result"
    }
   ],
   "source": [
    "products = pd.read_csv('products_train.csv')\n",
    "products.head()"
   ]
  },
  {
   "cell_type": "code",
   "execution_count": 4,
   "id": "27b11fe6",
   "metadata": {},
   "outputs": [],
   "source": [
    "products = products.dropna(subset=['title'])"
   ]
  },
  {
   "cell_type": "code",
   "execution_count": 5,
   "id": "128566c5",
   "metadata": {},
   "outputs": [
    {
     "data": {
      "text/plain": [
       "array(['DE', 'JP', 'UK', 'ES', 'FR', 'IT'], dtype=object)"
      ]
     },
     "execution_count": 5,
     "metadata": {},
     "output_type": "execute_result"
    }
   ],
   "source": [
    "products['locale'].unique()"
   ]
  },
  {
   "cell_type": "code",
   "execution_count": 6,
   "id": "b2761801",
   "metadata": {},
   "outputs": [],
   "source": [
    "products_uk = products[products['locale']=='UK']"
   ]
  },
  {
   "cell_type": "code",
   "execution_count": 7,
   "id": "52d97dca",
   "metadata": {},
   "outputs": [],
   "source": [
    "titles = np.array(products_uk['title'])\n",
    "titles = \" \".join(titles)"
   ]
  },
  {
   "cell_type": "code",
   "execution_count": 14,
   "id": "8257839c",
   "metadata": {},
   "outputs": [],
   "source": [
    "words = re.findall(r'\\w+', titles)"
   ]
  },
  {
   "cell_type": "code",
   "execution_count": 17,
   "id": "7cd338b2",
   "metadata": {},
   "outputs": [],
   "source": [
    "from collections import Counter"
   ]
  },
  {
   "cell_type": "code",
   "execution_count": 19,
   "id": "7fa65654",
   "metadata": {},
   "outputs": [],
   "source": [
    "word_counter = Counter(words)"
   ]
  },
  {
   "cell_type": "code",
   "execution_count": 36,
   "id": "dab17c02",
   "metadata": {},
   "outputs": [],
   "source": [
    "word_frequencies = np.array(list(word_counter.values()))"
   ]
  },
  {
   "cell_type": "code",
   "execution_count": 50,
   "id": "383ee1e1",
   "metadata": {},
   "outputs": [
    {
     "data": {
      "text/plain": [
       "array([1., 1., 2.])"
      ]
     },
     "execution_count": 50,
     "metadata": {},
     "output_type": "execute_result"
    }
   ],
   "source": [
    "word_quartiles = np.quantile(word_frequencies, [0,.45,0.5])\n",
    "word_quartiles"
   ]
  },
  {
   "cell_type": "code",
   "execution_count": 52,
   "id": "bcc6ada2",
   "metadata": {},
   "outputs": [
    {
     "data": {
      "text/plain": [
       "183608"
      ]
     },
     "execution_count": 52,
     "metadata": {},
     "output_type": "execute_result"
    }
   ],
   "source": [
    "len(word_frequencies)"
   ]
  },
  {
   "cell_type": "code",
   "execution_count": 55,
   "id": "4602b498",
   "metadata": {},
   "outputs": [],
   "source": [
    "word_freq_2_more = [k for k,v in word_counter.items() if float(v) >= 2]"
   ]
  },
  {
   "cell_type": "code",
   "execution_count": 57,
   "id": "6bbe7c5d",
   "metadata": {},
   "outputs": [
    {
     "data": {
      "text/plain": [
       "97598"
      ]
     },
     "execution_count": 57,
     "metadata": {},
     "output_type": "execute_result"
    }
   ],
   "source": [
    "len(word_freq_2_more)"
   ]
  },
  {
   "cell_type": "code",
   "execution_count": 66,
   "id": "37e73eed",
   "metadata": {},
   "outputs": [],
   "source": [
    "def clean(text, stem_words=True):\n",
    "    \n",
    "#     text = re.sub('(?<=[0-9])\\,(?=[0-9])', \"\", text)\n",
    "#     print(text)\n",
    "#     text = re.sub('^(?!.[a-zA-Z])(?!.\\d)[a-zA-Z0-9]+$', \"\", text)\n",
    "    text = re.findall(r'\\b(?:[a-zA-Z]+|\\d+)\\b', text)\n",
    "    text = \" \".join(text)\n",
    "    return text"
   ]
  },
  {
   "cell_type": "code",
   "execution_count": 67,
   "id": "30267a2c",
   "metadata": {},
   "outputs": [
    {
     "name": "stderr",
     "output_type": "stream",
     "text": [
      "C:\\Users\\Dacia Logan\\AppData\\Local\\Temp\\ipykernel_22248\\2897974719.py:1: SettingWithCopyWarning: \n",
      "A value is trying to be set on a copy of a slice from a DataFrame.\n",
      "Try using .loc[row_indexer,col_indexer] = value instead\n",
      "\n",
      "See the caveats in the documentation: https://pandas.pydata.org/pandas-docs/stable/user_guide/indexing.html#returning-a-view-versus-a-copy\n",
      "  products_uk['title'] = products_uk['title'].apply(clean)\n"
     ]
    }
   ],
   "source": [
    "products_uk['title'] = products_uk['title'].apply(clean)"
   ]
  },
  {
   "cell_type": "code",
   "execution_count": 68,
   "id": "be78683e",
   "metadata": {},
   "outputs": [
    {
     "data": {
      "text/plain": [
       "array(['SOCHOW Sherpa Fleece Throw Blanket Double Sided Super Soft Luxurious Plush Blanket Teal Green',\n",
       "       'Hippowarehouse Personalised Photo Printed Mouse Mat Pad Accessory Black Rubber Base Collage Option Home Office Fathers Day Teacher Present x x',\n",
       "       '500 Easy Recipes for Every Machine Both Stovetop and Electric A Cookbook',\n",
       "       ...,\n",
       "       'Before I Do the new funny and unexpected love story from the author of THIS TIME NEXT YEAR',\n",
       "       'Black iPhone Charger Cable iPhone Charger Braided Long iPhone Charger Lead USB Fast Charging Cable Compatible with iPhone 11 Pro Xs Max X 8 7 Plus 6 SE iPad and More',\n",
       "       'Kids B Crafty 100 Mini Pegs Mini Wooden Pegs Mini pegs for photos Small Wooden Pegs Small Pegs Craft Pegs Wooden Pegs Craft'],\n",
       "      dtype=object)"
      ]
     },
     "execution_count": 68,
     "metadata": {},
     "output_type": "execute_result"
    }
   ],
   "source": [
    "np.array(products_uk['title'])"
   ]
  }
 ],
 "metadata": {
  "kernelspec": {
   "display_name": "Python 3 (ipykernel)",
   "language": "python",
   "name": "python3"
  },
  "language_info": {
   "codemirror_mode": {
    "name": "ipython",
    "version": 3
   },
   "file_extension": ".py",
   "mimetype": "text/x-python",
   "name": "python",
   "nbconvert_exporter": "python",
   "pygments_lexer": "ipython3",
   "version": "3.9.7"
  }
 },
 "nbformat": 4,
 "nbformat_minor": 5
}
