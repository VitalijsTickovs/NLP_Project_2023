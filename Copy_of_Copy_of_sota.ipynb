{
  "cells": [
    {
      "cell_type": "code",
      "execution_count": 1,
      "id": "3ab69249",
      "metadata": {
        "id": "3ab69249"
      },
      "outputs": [
        {
          "name": "stdout",
          "output_type": "stream",
          "text": [
            "Intel MKL WARNING: Support of Intel(R) Streaming SIMD Extensions 4.2 (Intel(R) SSE4.2) enabled only processors has been deprecated. Intel oneAPI Math Kernel Library 2025.0 will require Intel(R) Advanced Vector Extensions (Intel(R) AVX) instructions.\n",
            "Intel MKL WARNING: Support of Intel(R) Streaming SIMD Extensions 4.2 (Intel(R) SSE4.2) enabled only processors has been deprecated. Intel oneAPI Math Kernel Library 2025.0 will require Intel(R) Advanced Vector Extensions (Intel(R) AVX) instructions.\n"
          ]
        }
      ],
      "source": [
        "import pandas as pd\n",
        "import numpy as np\n"
      ]
    },
    {
      "cell_type": "code",
      "execution_count": 2,
      "id": "b3b58e3a",
      "metadata": {
        "id": "b3b58e3a"
      },
      "outputs": [],
      "source": [
        "import re    # for regular expressions\n",
        "from string import punctuation\n",
        "from nltk.stem import SnowballStemmer    #if you are brave enough to do stemming\n",
        "from nltk.corpus import stopwords      #if you want to remove stopwords\n",
        "from nltk.tokenize import word_tokenize"
      ]
    },
    {
      "cell_type": "code",
      "execution_count": 3,
      "id": "5dd6e84d",
      "metadata": {
        "id": "5dd6e84d"
      },
      "outputs": [],
      "source": [
        "import string"
      ]
    },
    {
      "cell_type": "code",
      "execution_count": 4,
      "id": "fc32c37c",
      "metadata": {
        "colab": {
          "base_uri": "https://localhost:8080/",
          "height": 652
        },
        "id": "fc32c37c",
        "outputId": "70db5b27-cff2-49f2-be33-d21746180f6e"
      },
      "outputs": [
        {
          "data": {
            "text/html": [
              "<div>\n",
              "<style scoped>\n",
              "    .dataframe tbody tr th:only-of-type {\n",
              "        vertical-align: middle;\n",
              "    }\n",
              "\n",
              "    .dataframe tbody tr th {\n",
              "        vertical-align: top;\n",
              "    }\n",
              "\n",
              "    .dataframe thead th {\n",
              "        text-align: right;\n",
              "    }\n",
              "</style>\n",
              "<table border=\"1\" class=\"dataframe\">\n",
              "  <thead>\n",
              "    <tr style=\"text-align: right;\">\n",
              "      <th></th>\n",
              "      <th>id</th>\n",
              "      <th>locale</th>\n",
              "      <th>title</th>\n",
              "      <th>price</th>\n",
              "      <th>brand</th>\n",
              "      <th>color</th>\n",
              "      <th>size</th>\n",
              "      <th>model</th>\n",
              "      <th>material</th>\n",
              "      <th>author</th>\n",
              "      <th>desc</th>\n",
              "    </tr>\n",
              "  </thead>\n",
              "  <tbody>\n",
              "    <tr>\n",
              "      <th>0</th>\n",
              "      <td>B005ZSSN10</td>\n",
              "      <td>DE</td>\n",
              "      <td>RED DRAGON Amberjack 3 - Steel Tip 22 Gramm Wo...</td>\n",
              "      <td>30.95</td>\n",
              "      <td>RED DRAGON</td>\n",
              "      <td>NaN</td>\n",
              "      <td>NaN</td>\n",
              "      <td>RDD0089</td>\n",
              "      <td>NaN</td>\n",
              "      <td>NaN</td>\n",
              "      <td>Amberjacks Steel Dartpfeile sind verfügbar in ...</td>\n",
              "    </tr>\n",
              "    <tr>\n",
              "      <th>1</th>\n",
              "      <td>B08PRYN6LD</td>\n",
              "      <td>DE</td>\n",
              "      <td>Simply Keto Lower Carb* Schokodrops ohne Zucke...</td>\n",
              "      <td>17.90</td>\n",
              "      <td>Simply Keto</td>\n",
              "      <td>NaN</td>\n",
              "      <td>750 g (1er Pack)</td>\n",
              "      <td>NaN</td>\n",
              "      <td>NaN</td>\n",
              "      <td>NaN</td>\n",
              "      <td>🌱 NATÜRLICHE SÜSSE DURCH ERYTHRIT - Wir stelle...</td>\n",
              "    </tr>\n",
              "    <tr>\n",
              "      <th>2</th>\n",
              "      <td>B09MBZJ48V</td>\n",
              "      <td>DE</td>\n",
              "      <td>Sennheiser 508377 PC 5.2 Chat, Stilvolles Mult...</td>\n",
              "      <td>68.89</td>\n",
              "      <td>Sennheiser</td>\n",
              "      <td>Multi-Colour</td>\n",
              "      <td>One size</td>\n",
              "      <td>508377</td>\n",
              "      <td>Kunstleder</td>\n",
              "      <td>NaN</td>\n",
              "      <td>3.5 MM BUCHSE - Kann problemlos an Geräte mit ...</td>\n",
              "    </tr>\n",
              "    <tr>\n",
              "      <th>3</th>\n",
              "      <td>B08ZN6F26S</td>\n",
              "      <td>DE</td>\n",
              "      <td>AmyBenton Auto ab 1 2 3 ahre - Baby Aufziehbar...</td>\n",
              "      <td>18.99</td>\n",
              "      <td>Amy &amp; Benton</td>\n",
              "      <td>Animal Car</td>\n",
              "      <td>NaN</td>\n",
              "      <td>2008B</td>\n",
              "      <td>aufziehauto 1 jahr</td>\n",
              "      <td>NaN</td>\n",
              "      <td>【Auto aufziehbar】: Drücken Sie einfach leicht ...</td>\n",
              "    </tr>\n",
              "    <tr>\n",
              "      <th>4</th>\n",
              "      <td>B094DGRV7D</td>\n",
              "      <td>DE</td>\n",
              "      <td>PLAYMOBIL - 70522 - Cavaliere mit grauem Pony</td>\n",
              "      <td>7.17</td>\n",
              "      <td>PLAYMOBIL</td>\n",
              "      <td>Nicht Zutreffend.</td>\n",
              "      <td>OneSize</td>\n",
              "      <td>70522</td>\n",
              "      <td>Polypropylen</td>\n",
              "      <td>NaN</td>\n",
              "      <td>Inhalt: 1 Stück</td>\n",
              "    </tr>\n",
              "  </tbody>\n",
              "</table>\n",
              "</div>"
            ],
            "text/plain": [
              "           id locale                                              title  \\\n",
              "0  B005ZSSN10     DE  RED DRAGON Amberjack 3 - Steel Tip 22 Gramm Wo...   \n",
              "1  B08PRYN6LD     DE  Simply Keto Lower Carb* Schokodrops ohne Zucke...   \n",
              "2  B09MBZJ48V     DE  Sennheiser 508377 PC 5.2 Chat, Stilvolles Mult...   \n",
              "3  B08ZN6F26S     DE  AmyBenton Auto ab 1 2 3 ahre - Baby Aufziehbar...   \n",
              "4  B094DGRV7D     DE      PLAYMOBIL - 70522 - Cavaliere mit grauem Pony   \n",
              "\n",
              "   price         brand              color              size    model  \\\n",
              "0  30.95    RED DRAGON                NaN               NaN  RDD0089   \n",
              "1  17.90   Simply Keto                NaN  750 g (1er Pack)      NaN   \n",
              "2  68.89    Sennheiser       Multi-Colour          One size   508377   \n",
              "3  18.99  Amy & Benton         Animal Car               NaN    2008B   \n",
              "4   7.17     PLAYMOBIL  Nicht Zutreffend.           OneSize    70522   \n",
              "\n",
              "             material author  \\\n",
              "0                 NaN    NaN   \n",
              "1                 NaN    NaN   \n",
              "2          Kunstleder    NaN   \n",
              "3  aufziehauto 1 jahr    NaN   \n",
              "4        Polypropylen    NaN   \n",
              "\n",
              "                                                desc  \n",
              "0  Amberjacks Steel Dartpfeile sind verfügbar in ...  \n",
              "1  🌱 NATÜRLICHE SÜSSE DURCH ERYTHRIT - Wir stelle...  \n",
              "2  3.5 MM BUCHSE - Kann problemlos an Geräte mit ...  \n",
              "3  【Auto aufziehbar】: Drücken Sie einfach leicht ...  \n",
              "4                                    Inhalt: 1 Stück  "
            ]
          },
          "execution_count": 4,
          "metadata": {},
          "output_type": "execute_result"
        }
      ],
      "source": [
        "products = pd.read_csv('products_train.csv')\n",
        "products.head() "
      ]
    },
    {
      "cell_type": "code",
      "execution_count": 5,
      "id": "27b11fe6",
      "metadata": {
        "id": "27b11fe6"
      },
      "outputs": [],
      "source": [
        "products = products.dropna(subset=['title'])"
      ]
    },
    {
      "cell_type": "code",
      "execution_count": 6,
      "id": "128566c5",
      "metadata": {
        "colab": {
          "base_uri": "https://localhost:8080/"
        },
        "id": "128566c5",
        "outputId": "a87e9609-f18c-49df-8f6c-bb03342ad9a4"
      },
      "outputs": [
        {
          "data": {
            "text/plain": [
              "array(['DE', 'JP', 'UK', 'ES', 'FR', 'IT'], dtype=object)"
            ]
          },
          "execution_count": 6,
          "metadata": {},
          "output_type": "execute_result"
        }
      ],
      "source": [
        "products['locale'].unique()"
      ]
    },
    {
      "cell_type": "code",
      "execution_count": 7,
      "id": "b2761801",
      "metadata": {
        "id": "b2761801"
      },
      "outputs": [],
      "source": [
        "products_uk = products[products['locale']=='UK']"
      ]
    },
    {
      "cell_type": "code",
      "execution_count": 8,
      "id": "20a8aa79",
      "metadata": {
        "colab": {
          "base_uri": "https://localhost:8080/",
          "height": 565
        },
        "id": "20a8aa79",
        "outputId": "a8fee9e5-f9c6-4c88-8a50-d97bfff87fec"
      },
      "outputs": [
        {
          "data": {
            "text/html": [
              "<div>\n",
              "<style scoped>\n",
              "    .dataframe tbody tr th:only-of-type {\n",
              "        vertical-align: middle;\n",
              "    }\n",
              "\n",
              "    .dataframe tbody tr th {\n",
              "        vertical-align: top;\n",
              "    }\n",
              "\n",
              "    .dataframe thead th {\n",
              "        text-align: right;\n",
              "    }\n",
              "</style>\n",
              "<table border=\"1\" class=\"dataframe\">\n",
              "  <thead>\n",
              "    <tr style=\"text-align: right;\">\n",
              "      <th></th>\n",
              "      <th>id</th>\n",
              "      <th>locale</th>\n",
              "      <th>title</th>\n",
              "      <th>price</th>\n",
              "      <th>brand</th>\n",
              "      <th>color</th>\n",
              "      <th>size</th>\n",
              "      <th>model</th>\n",
              "      <th>material</th>\n",
              "      <th>author</th>\n",
              "      <th>desc</th>\n",
              "    </tr>\n",
              "  </thead>\n",
              "  <tbody>\n",
              "    <tr>\n",
              "      <th>913336</th>\n",
              "      <td>B087LZNPHS</td>\n",
              "      <td>UK</td>\n",
              "      <td>SOCHOW Sherpa Fleece Throw Blanket, Double-Sid...</td>\n",
              "      <td>24.99</td>\n",
              "      <td>SOCHOW</td>\n",
              "      <td>Teal Green</td>\n",
              "      <td>127cm×150cm</td>\n",
              "      <td>NaN</td>\n",
              "      <td>100% Polyester</td>\n",
              "      <td>NaN</td>\n",
              "      <td>COLOR: The sherpa throw blanket is available i...</td>\n",
              "    </tr>\n",
              "    <tr>\n",
              "      <th>913337</th>\n",
              "      <td>B08THFN1KX</td>\n",
              "      <td>UK</td>\n",
              "      <td>Hippowarehouse Personalised Photo Printed Mous...</td>\n",
              "      <td>9.95</td>\n",
              "      <td>Hippowarehouse</td>\n",
              "      <td>White</td>\n",
              "      <td>240mm x 190mm x 60mm</td>\n",
              "      <td>50245-Mat-Perso</td>\n",
              "      <td>Rubber</td>\n",
              "      <td>NaN</td>\n",
              "      <td>Competitively priced</td>\n",
              "    </tr>\n",
              "    <tr>\n",
              "      <th>913338</th>\n",
              "      <td>0804185328</td>\n",
              "      <td>UK</td>\n",
              "      <td>500 Easy Recipes for Every Machine, Both Stove...</td>\n",
              "      <td>16.49</td>\n",
              "      <td>Clarkson Potter</td>\n",
              "      <td>White</td>\n",
              "      <td>NaN</td>\n",
              "      <td>NaN</td>\n",
              "      <td>NaN</td>\n",
              "      <td>Scarbrough, Mark</td>\n",
              "      <td>NaN</td>\n",
              "    </tr>\n",
              "    <tr>\n",
              "      <th>913339</th>\n",
              "      <td>B09VBKDBW6</td>\n",
              "      <td>UK</td>\n",
              "      <td>TYHJOY Mini Bag Sealer, Handheld Vacuum Heat S...</td>\n",
              "      <td>11.99</td>\n",
              "      <td>TYHJOY</td>\n",
              "      <td>Black</td>\n",
              "      <td>NaN</td>\n",
              "      <td>FBA-sealer-black</td>\n",
              "      <td>Acrylonitrile Butadiene Styrene</td>\n",
              "      <td>NaN</td>\n",
              "      <td>【AFTER-SALE】This handheld food heat sealer sho...</td>\n",
              "    </tr>\n",
              "    <tr>\n",
              "      <th>913340</th>\n",
              "      <td>B096ZW8B49</td>\n",
              "      <td>UK</td>\n",
              "      <td>Lucosobie Steering Wheel Lock - Car Anti-Theft...</td>\n",
              "      <td>26.99</td>\n",
              "      <td>Lucosobie</td>\n",
              "      <td>Black</td>\n",
              "      <td>NaN</td>\n",
              "      <td>NaN</td>\n",
              "      <td>Alloy Steel</td>\n",
              "      <td>NaN</td>\n",
              "      <td>🔐【 Anti-Friction &amp; Customer First】Each box of ...</td>\n",
              "    </tr>\n",
              "  </tbody>\n",
              "</table>\n",
              "</div>"
            ],
            "text/plain": [
              "                id locale                                              title  \\\n",
              "913336  B087LZNPHS     UK  SOCHOW Sherpa Fleece Throw Blanket, Double-Sid...   \n",
              "913337  B08THFN1KX     UK  Hippowarehouse Personalised Photo Printed Mous...   \n",
              "913338  0804185328     UK  500 Easy Recipes for Every Machine, Both Stove...   \n",
              "913339  B09VBKDBW6     UK  TYHJOY Mini Bag Sealer, Handheld Vacuum Heat S...   \n",
              "913340  B096ZW8B49     UK  Lucosobie Steering Wheel Lock - Car Anti-Theft...   \n",
              "\n",
              "        price            brand       color                  size  \\\n",
              "913336  24.99           SOCHOW  Teal Green           127cm×150cm   \n",
              "913337   9.95   Hippowarehouse       White  240mm x 190mm x 60mm   \n",
              "913338  16.49  Clarkson Potter       White                   NaN   \n",
              "913339  11.99           TYHJOY       Black                   NaN   \n",
              "913340  26.99        Lucosobie       Black                   NaN   \n",
              "\n",
              "                   model                         material            author  \\\n",
              "913336               NaN                   100% Polyester               NaN   \n",
              "913337   50245-Mat-Perso                           Rubber               NaN   \n",
              "913338               NaN                              NaN  Scarbrough, Mark   \n",
              "913339  FBA-sealer-black  Acrylonitrile Butadiene Styrene               NaN   \n",
              "913340               NaN                      Alloy Steel               NaN   \n",
              "\n",
              "                                                     desc  \n",
              "913336  COLOR: The sherpa throw blanket is available i...  \n",
              "913337                               Competitively priced  \n",
              "913338                                                NaN  \n",
              "913339  【AFTER-SALE】This handheld food heat sealer sho...  \n",
              "913340  🔐【 Anti-Friction & Customer First】Each box of ...  "
            ]
          },
          "execution_count": 8,
          "metadata": {},
          "output_type": "execute_result"
        }
      ],
      "source": [
        "products_uk.head()"
      ]
    },
    {
      "cell_type": "code",
      "execution_count": 9,
      "id": "b2b0b487",
      "metadata": {
        "colab": {
          "base_uri": "https://localhost:8080/"
        },
        "id": "b2b0b487",
        "outputId": "35a532c6-dded-4da7-880c-b9fbf24d6ec0"
      },
      "outputs": [
        {
          "data": {
            "text/plain": [
              "id           object\n",
              "locale       object\n",
              "title        object\n",
              "price       float64\n",
              "brand        object\n",
              "color        object\n",
              "size         object\n",
              "model        object\n",
              "material     object\n",
              "author       object\n",
              "desc         object\n",
              "dtype: object"
            ]
          },
          "execution_count": 9,
          "metadata": {},
          "output_type": "execute_result"
        }
      ],
      "source": [
        "products_uk.dtypes"
      ]
    },
    {
      "cell_type": "code",
      "execution_count": 10,
      "id": "37e73eed",
      "metadata": {
        "id": "37e73eed"
      },
      "outputs": [],
      "source": [
        "def clean(text, stem_words=True):\n",
        "    \n",
        "#     text = re.sub('(?<=[0-9])\\,(?=[0-9])', \"\", text)\n",
        "#     print(text)\n",
        "#     text = re.sub('^(?!.[a-zA-Z])(?!.\\d)[a-zA-Z0-9]+$', \"\", text)\n",
        "    text = re.findall(r'\\b(?:[a-zA-Z]+|\\d+)\\b', text)\n",
        "    text = \" \".join(text)\n",
        "    return text"
      ]
    },
    {
      "cell_type": "code",
      "execution_count": 11,
      "id": "30267a2c",
      "metadata": {
        "colab": {
          "base_uri": "https://localhost:8080/"
        },
        "id": "30267a2c",
        "outputId": "87f3a173-f867-4c2f-a5ac-6a36b8a1946c"
      },
      "outputs": [
        {
          "name": "stderr",
          "output_type": "stream",
          "text": [
            "/var/folders/lh/0lt7mv811l56hczm0y7dwzym0000gn/T/ipykernel_66439/3425962203.py:1: SettingWithCopyWarning: \n",
            "A value is trying to be set on a copy of a slice from a DataFrame.\n",
            "Try using .loc[row_indexer,col_indexer] = value instead\n",
            "\n",
            "See the caveats in the documentation: https://pandas.pydata.org/pandas-docs/stable/user_guide/indexing.html#returning-a-view-versus-a-copy\n",
            "  products_uk.loc[:, 'title'] = products_uk.loc[:, 'title'].apply(clean)\n"
          ]
        }
      ],
      "source": [
        "products_uk.loc[:, 'title'] = products_uk.loc[:, 'title'].apply(clean)\n"
      ]
    },
    {
      "cell_type": "code",
      "execution_count": 12,
      "id": "be78683e",
      "metadata": {
        "colab": {
          "base_uri": "https://localhost:8080/"
        },
        "id": "be78683e",
        "outputId": "65abbcaf-6bff-45f6-e1af-5643ad179025"
      },
      "outputs": [
        {
          "data": {
            "text/plain": [
              "array(['SOCHOW Sherpa Fleece Throw Blanket Double Sided Super Soft Luxurious Plush Blanket Teal Green',\n",
              "       'Hippowarehouse Personalised Photo Printed Mouse Mat Pad Accessory Black Rubber Base Collage Option Home Office Fathers Day Teacher Present x x',\n",
              "       '500 Easy Recipes for Every Machine Both Stovetop and Electric A Cookbook',\n",
              "       ...,\n",
              "       'Before I Do the new funny and unexpected love story from the author of THIS TIME NEXT YEAR',\n",
              "       'Black iPhone Charger Cable iPhone Charger Braided Long iPhone Charger Lead USB Fast Charging Cable Compatible with iPhone 11 Pro Xs Max X 8 7 Plus 6 SE iPad and More',\n",
              "       'Kids B Crafty 100 Mini Pegs Mini Wooden Pegs Mini pegs for photos Small Wooden Pegs Small Pegs Craft Pegs Wooden Pegs Craft'],\n",
              "      dtype=object)"
            ]
          },
          "execution_count": 12,
          "metadata": {},
          "output_type": "execute_result"
        }
      ],
      "source": [
        "np.array(products_uk['title'])"
      ]
    },
    {
      "cell_type": "code",
      "execution_count": 13,
      "id": "e9ad22c4",
      "metadata": {
        "colab": {
          "base_uri": "https://localhost:8080/",
          "height": 206
        },
        "id": "e9ad22c4",
        "outputId": "bdc12868-e1a7-484d-c8cd-6b0964535f00"
      },
      "outputs": [
        {
          "data": {
            "text/html": [
              "<div>\n",
              "<style scoped>\n",
              "    .dataframe tbody tr th:only-of-type {\n",
              "        vertical-align: middle;\n",
              "    }\n",
              "\n",
              "    .dataframe tbody tr th {\n",
              "        vertical-align: top;\n",
              "    }\n",
              "\n",
              "    .dataframe thead th {\n",
              "        text-align: right;\n",
              "    }\n",
              "</style>\n",
              "<table border=\"1\" class=\"dataframe\">\n",
              "  <thead>\n",
              "    <tr style=\"text-align: right;\">\n",
              "      <th></th>\n",
              "      <th>Unnamed: 0</th>\n",
              "      <th>index</th>\n",
              "      <th>prev_items</th>\n",
              "      <th>next_item</th>\n",
              "    </tr>\n",
              "  </thead>\n",
              "  <tbody>\n",
              "    <tr>\n",
              "      <th>0</th>\n",
              "      <td>2394017</td>\n",
              "      <td>2394017</td>\n",
              "      <td>['B00GMMDUIY', 'B0822FLX45']</td>\n",
              "      <td>B07V22FSNQ</td>\n",
              "    </tr>\n",
              "    <tr>\n",
              "      <th>1</th>\n",
              "      <td>2409459</td>\n",
              "      <td>2409459</td>\n",
              "      <td>['B085C5H9DP', 'B01MYYZICX', 'B01MYYZICX']</td>\n",
              "      <td>B08MTND2XX</td>\n",
              "    </tr>\n",
              "    <tr>\n",
              "      <th>2</th>\n",
              "      <td>2840125</td>\n",
              "      <td>2840125</td>\n",
              "      <td>['B0036UA2OK', 'B0036UA2OK', 'B07HM6T34R', 'B0...</td>\n",
              "      <td>B08L5C2X2G</td>\n",
              "    </tr>\n",
              "    <tr>\n",
              "      <th>3</th>\n",
              "      <td>2879975</td>\n",
              "      <td>2879975</td>\n",
              "      <td>['B002QFM5BE', 'B002QFM5BE']</td>\n",
              "      <td>B08DLDRRM1</td>\n",
              "    </tr>\n",
              "    <tr>\n",
              "      <th>4</th>\n",
              "      <td>2819734</td>\n",
              "      <td>2819734</td>\n",
              "      <td>['B00CRGPHZ8', 'B004JQPXNU']</td>\n",
              "      <td>B07MKCZJNJ</td>\n",
              "    </tr>\n",
              "  </tbody>\n",
              "</table>\n",
              "</div>"
            ],
            "text/plain": [
              "   Unnamed: 0    index                                         prev_items  \\\n",
              "0     2394017  2394017                       ['B00GMMDUIY', 'B0822FLX45']   \n",
              "1     2409459  2409459         ['B085C5H9DP', 'B01MYYZICX', 'B01MYYZICX']   \n",
              "2     2840125  2840125  ['B0036UA2OK', 'B0036UA2OK', 'B07HM6T34R', 'B0...   \n",
              "3     2879975  2879975                       ['B002QFM5BE', 'B002QFM5BE']   \n",
              "4     2819734  2819734                       ['B00CRGPHZ8', 'B004JQPXNU']   \n",
              "\n",
              "    next_item  \n",
              "0  B07V22FSNQ  \n",
              "1  B08MTND2XX  \n",
              "2  B08L5C2X2G  \n",
              "3  B08DLDRRM1  \n",
              "4  B07MKCZJNJ  "
            ]
          },
          "execution_count": 13,
          "metadata": {},
          "output_type": "execute_result"
        }
      ],
      "source": [
        "# load session data\n",
        "sessions_uk = pd.read_csv('train_sessions.csv')\n",
        "\n",
        "sessions_uk.head()"
      ]
    },
    {
      "cell_type": "code",
      "execution_count": 14,
      "id": "0c3b66a2",
      "metadata": {
        "colab": {
          "base_uri": "https://localhost:8080/"
        },
        "id": "0c3b66a2",
        "outputId": "e6f9a624-b3ed-4748-d035-ac6c3cbd42c8"
      },
      "outputs": [
        {
          "name": "stdout",
          "output_type": "stream",
          "text": [
            "(1063962, 4)\n"
          ]
        }
      ],
      "source": [
        "\n",
        "print(sessions_uk.shape)\n",
        "\n"
      ]
    },
    {
      "cell_type": "code",
      "execution_count": 15,
      "id": "8fc3d177",
      "metadata": {
        "colab": {
          "base_uri": "https://localhost:8080/"
        },
        "id": "8fc3d177",
        "outputId": "a03328a7-e338-416f-db2e-fcbdaa1cc8ca"
      },
      "outputs": [
        {
          "name": "stdout",
          "output_type": "stream",
          "text": [
            "Wokii Vegetable Chopper Vegetable Slicer 14 in 1 Vegetable Chopper Cutter Dicer With Food Container for Onion Veg Garlic Potato Salad Mini Dicer Chopper Cutter\n"
          ]
        }
      ],
      "source": [
        "# substitute ids with titles\n",
        "import pandas as pd\n",
        "\n",
        "\n",
        "\n",
        "sessions_uk = sessions_uk.copy()\n",
        "\n",
        "# Create a dictionary to map product id to title\n",
        "id_to_title = products_uk.set_index('id')['title'].to_dict()\n",
        "print(id_to_title.get('B0BFDL54Y7'))\n"
      ]
    },
    {
      "cell_type": "code",
      "execution_count": 16,
      "id": "4fd5410d",
      "metadata": {
        "id": "4fd5410d"
      },
      "outputs": [],
      "source": [
        "import re\n",
        "# convert string of ids to list of ids\n",
        "def convert_ids_string_to_list(ids_string):\n",
        "    return re.findall(r\"'(.*?)'\", ids_string)\n",
        "\n",
        "# convert list of ids to list of titles\n",
        "sessions_uk['prev_items'] = sessions_uk['prev_items'].apply(convert_ids_string_to_list)\n",
        "\n",
        "sessions_uk['prev_items'] = sessions_uk['prev_items'].apply(lambda x: [id_to_title.get(i) for i in x if id_to_title.get(i)])\n"
      ]
    },
    {
      "cell_type": "code",
      "execution_count": 17,
      "id": "9e62cd51",
      "metadata": {
        "id": "9e62cd51"
      },
      "outputs": [],
      "source": [
        "\n",
        "\n",
        "# Replace product IDs in 'next_item' with their corresponding titles.\n",
        "sessions_uk['next_item'] = sessions_uk['next_item'].apply(lambda x: id_to_title.get(x) if id_to_title.get(x) else x)\n"
      ]
    },
    {
      "cell_type": "code",
      "execution_count": 18,
      "id": "439a7250",
      "metadata": {
        "colab": {
          "base_uri": "https://localhost:8080/",
          "height": 354
        },
        "id": "439a7250",
        "outputId": "dbff7e33-b47f-4982-86b3-bfc6092ad8ac"
      },
      "outputs": [
        {
          "data": {
            "text/html": [
              "<div>\n",
              "<style scoped>\n",
              "    .dataframe tbody tr th:only-of-type {\n",
              "        vertical-align: middle;\n",
              "    }\n",
              "\n",
              "    .dataframe tbody tr th {\n",
              "        vertical-align: top;\n",
              "    }\n",
              "\n",
              "    .dataframe thead th {\n",
              "        text-align: right;\n",
              "    }\n",
              "</style>\n",
              "<table border=\"1\" class=\"dataframe\">\n",
              "  <thead>\n",
              "    <tr style=\"text-align: right;\">\n",
              "      <th></th>\n",
              "      <th>Unnamed: 0</th>\n",
              "      <th>index</th>\n",
              "      <th>prev_items</th>\n",
              "      <th>next_item</th>\n",
              "    </tr>\n",
              "  </thead>\n",
              "  <tbody>\n",
              "    <tr>\n",
              "      <th>0</th>\n",
              "      <td>2394017</td>\n",
              "      <td>2394017</td>\n",
              "      <td>[Ikea Lack Small Coffee Table Wood Beige, VASA...</td>\n",
              "      <td>VASAGLE Dining Table for 4 People Kitchen Tabl...</td>\n",
              "    </tr>\n",
              "    <tr>\n",
              "      <th>1</th>\n",
              "      <td>2409459</td>\n",
              "      <td>2409459</td>\n",
              "      <td>[Lepro Camping Lights Battery Powered Camping ...</td>\n",
              "      <td>NA Portable LED Camping Lantern Outdoor 30 LED...</td>\n",
              "    </tr>\n",
              "    <tr>\n",
              "      <th>2</th>\n",
              "      <td>2840125</td>\n",
              "      <td>2840125</td>\n",
              "      <td>[Milkshake Colour Maintainer Shampoo, Milkshak...</td>\n",
              "      <td>Amazing Lifestyle erstaunlich transparent 200 ml</td>\n",
              "    </tr>\n",
              "    <tr>\n",
              "      <th>3</th>\n",
              "      <td>2879975</td>\n",
              "      <td>2879975</td>\n",
              "      <td>[Canon Ink Cartridges Black Colour Medium, Can...</td>\n",
              "      <td>8 x 8 50 PCS 100 Cotton Fabric Bundles for Qui...</td>\n",
              "    </tr>\n",
              "    <tr>\n",
              "      <th>4</th>\n",
              "      <td>2819734</td>\n",
              "      <td>2819734</td>\n",
              "      <td>[IDEAL Rubik s Cube Twist Turn Learn Brainteas...</td>\n",
              "      <td>Spin Master Games Perplexus Rebel Maze Game wi...</td>\n",
              "    </tr>\n",
              "  </tbody>\n",
              "</table>\n",
              "</div>"
            ],
            "text/plain": [
              "   Unnamed: 0    index                                         prev_items  \\\n",
              "0     2394017  2394017  [Ikea Lack Small Coffee Table Wood Beige, VASA...   \n",
              "1     2409459  2409459  [Lepro Camping Lights Battery Powered Camping ...   \n",
              "2     2840125  2840125  [Milkshake Colour Maintainer Shampoo, Milkshak...   \n",
              "3     2879975  2879975  [Canon Ink Cartridges Black Colour Medium, Can...   \n",
              "4     2819734  2819734  [IDEAL Rubik s Cube Twist Turn Learn Brainteas...   \n",
              "\n",
              "                                           next_item  \n",
              "0  VASAGLE Dining Table for 4 People Kitchen Tabl...  \n",
              "1  NA Portable LED Camping Lantern Outdoor 30 LED...  \n",
              "2   Amazing Lifestyle erstaunlich transparent 200 ml  \n",
              "3  8 x 8 50 PCS 100 Cotton Fabric Bundles for Qui...  \n",
              "4  Spin Master Games Perplexus Rebel Maze Game wi...  "
            ]
          },
          "execution_count": 18,
          "metadata": {},
          "output_type": "execute_result"
        }
      ],
      "source": [
        "# sessions_uk with titles instead of ids. ready for NLP\n",
        "sessions_uk.head()\n"
      ]
    },
    {
      "cell_type": "code",
      "execution_count": 19,
      "id": "b556846e",
      "metadata": {
        "colab": {
          "base_uri": "https://localhost:8080/"
        },
        "id": "b556846e",
        "outputId": "43a90bfb-2a41-4bb2-cfea-63d056cb126c"
      },
      "outputs": [
        {
          "data": {
            "text/plain": [
              "['Ikea Lack Small Coffee Table Wood Beige',\n",
              " 'VASAGLE Bar Table Narrow Rectangular Bar Table Kitchen Table Pub Dining High Table Steel Frame 100 x 40 x 90 cm Easy Assembly Industrial Rustic Brown and Black']"
            ]
          },
          "execution_count": 19,
          "metadata": {},
          "output_type": "execute_result"
        }
      ],
      "source": [
        "session = sessions_uk['prev_items']\n",
        "session.iloc[0]\n"
      ]
    },
    {
      "cell_type": "code",
      "execution_count": 20,
      "id": "CIRks6351Z3g",
      "metadata": {
        "colab": {
          "base_uri": "https://localhost:8080/",
          "height": 71
        },
        "id": "CIRks6351Z3g",
        "outputId": "be422e82-f6bc-40c6-b4e5-73f3fa17d2ba"
      },
      "outputs": [
        {
          "data": {
            "text/plain": [
              "'Ikea Lack Small Coffee Table Wood Beige,VASAGLE Bar Table Narrow Rectangular Bar Table Kitchen Table Pub Dining High Table Steel Frame 100 x 40 x 90 cm Easy Assembly Industrial Rustic Brown and Black'"
            ]
          },
          "execution_count": 20,
          "metadata": {},
          "output_type": "execute_result"
        }
      ],
      "source": [
        "# prepare \"prev_items\" for T5 input, the string with separator \",\"\n",
        "sessions_uk['prev_items'] = sessions_uk['prev_items'].apply(lambda x: ','.join(map(str, x)))\n",
        "session = sessions_uk['prev_items'].iloc[0]\n",
        "session"
      ]
    },
    {
      "cell_type": "code",
      "execution_count": 21,
      "id": "9SjnBMes6XHm",
      "metadata": {
        "colab": {
          "base_uri": "https://localhost:8080/"
        },
        "id": "9SjnBMes6XHm",
        "outputId": "1f1c53dc-3b96-4690-c1bb-a9d12558f6ed"
      },
      "outputs": [
        {
          "data": {
            "text/plain": [
              "0    Ikea Lack Small Coffee Table Wood Beige,VASAGL...\n",
              "1    Lepro Camping Lights Battery Powered Camping L...\n",
              "Name: prev_items, dtype: object"
            ]
          },
          "execution_count": 21,
          "metadata": {},
          "output_type": "execute_result"
        }
      ],
      "source": [
        "# check if we have a string of all titles in the session separated by \",\"\n",
        "sessions_uk['prev_items'].iloc[0:2]"
      ]
    },
    {
      "cell_type": "code",
      "execution_count": 22,
      "id": "SH3iV1_K60Sp",
      "metadata": {
        "colab": {
          "base_uri": "https://localhost:8080/"
        },
        "id": "SH3iV1_K60Sp",
        "outputId": "7f19eff2-f2d6-46c3-825c-24e868d372ec"
      },
      "outputs": [
        {
          "data": {
            "text/plain": [
              "(100000, 4)"
            ]
          },
          "execution_count": 22,
          "metadata": {},
          "output_type": "execute_result"
        }
      ],
      "source": [
        "# take first 100 000 rows to train with \n",
        "sessions_uk_train = sessions_uk.head(100000)\n",
        "sessions_uk_train.shape"
      ]
    },
    {
      "cell_type": "code",
      "execution_count": 23,
      "id": "CzXOXExDryS1",
      "metadata": {
        "colab": {
          "base_uri": "https://localhost:8080/"
        },
        "id": "CzXOXExDryS1",
        "outputId": "c9a6ad11-df81-42f2-81bc-b168f7844012"
      },
      "outputs": [
        {
          "name": "stdout",
          "output_type": "stream",
          "text": [
            "\u001b[33mWARNING: Skipping /Users/evgenynazarenko/opt/anaconda3/envs/nlp_course_labs/lib/python3.11/site-packages/numpy-1.23.5.dist-info due to invalid metadata entry 'name'\u001b[0m\u001b[33m\n",
            "\u001b[0m\u001b[33mWARNING: Skipping /Users/evgenynazarenko/opt/anaconda3/envs/nlp_course_labs/lib/python3.11/site-packages/numpy-1.23.5.dist-info due to invalid metadata entry 'name'\u001b[0m\u001b[33m\n",
            "\u001b[0mRequirement already satisfied: torch in /Users/evgenynazarenko/opt/anaconda3/envs/nlp_course_labs/lib/python3.11/site-packages (2.0.1)\n",
            "Requirement already satisfied: transformers in /Users/evgenynazarenko/opt/anaconda3/envs/nlp_course_labs/lib/python3.11/site-packages (2.1.1)\n",
            "Requirement already satisfied: filelock in /Users/evgenynazarenko/opt/anaconda3/envs/nlp_course_labs/lib/python3.11/site-packages (from torch) (3.9.0)\n",
            "Requirement already satisfied: typing-extensions in /Users/evgenynazarenko/opt/anaconda3/envs/nlp_course_labs/lib/python3.11/site-packages (from torch) (4.5.0)\n",
            "Requirement already satisfied: sympy in /Users/evgenynazarenko/opt/anaconda3/envs/nlp_course_labs/lib/python3.11/site-packages (from torch) (1.11.1)\n",
            "Requirement already satisfied: networkx in /Users/evgenynazarenko/opt/anaconda3/envs/nlp_course_labs/lib/python3.11/site-packages (from torch) (2.8.4)\n",
            "Requirement already satisfied: jinja2 in /Users/evgenynazarenko/opt/anaconda3/envs/nlp_course_labs/lib/python3.11/site-packages (from torch) (3.1.2)\n",
            "Requirement already satisfied: numpy in /Users/evgenynazarenko/opt/anaconda3/envs/nlp_course_labs/lib/python3.11/site-packages (from transformers) (1.24.3)\n",
            "Requirement already satisfied: boto3 in /Users/evgenynazarenko/opt/anaconda3/envs/nlp_course_labs/lib/python3.11/site-packages (from transformers) (1.24.28)\n",
            "Requirement already satisfied: requests in /Users/evgenynazarenko/opt/anaconda3/envs/nlp_course_labs/lib/python3.11/site-packages (from transformers) (2.29.0)\n",
            "Requirement already satisfied: tqdm in /Users/evgenynazarenko/opt/anaconda3/envs/nlp_course_labs/lib/python3.11/site-packages (from transformers) (4.65.0)\n",
            "Requirement already satisfied: regex in /Users/evgenynazarenko/opt/anaconda3/envs/nlp_course_labs/lib/python3.11/site-packages (from transformers) (2022.7.9)\n",
            "Collecting sentencepiece\n",
            "  Downloading sentencepiece-0.1.99-cp311-cp311-macosx_10_9_x86_64.whl (1.2 MB)\n",
            "\u001b[2K     \u001b[90m━━━━━━━━━━━━━━━━━━━━━━━━━━━━━━━━━━━━━━━━\u001b[0m \u001b[32m1.2/1.2 MB\u001b[0m \u001b[31m8.6 MB/s\u001b[0m eta \u001b[36m0:00:00\u001b[0ma \u001b[36m0:00:01\u001b[0m\n",
            "\u001b[?25hRequirement already satisfied: sacremoses in /Users/evgenynazarenko/opt/anaconda3/envs/nlp_course_labs/lib/python3.11/site-packages/sacremoses-0.0.43-py3.8.egg (from transformers) (0.0.43)\n",
            "Requirement already satisfied: botocore<1.28.0,>=1.27.28 in /Users/evgenynazarenko/opt/anaconda3/envs/nlp_course_labs/lib/python3.11/site-packages (from boto3->transformers) (1.27.59)\n",
            "Requirement already satisfied: jmespath<2.0.0,>=0.7.1 in /Users/evgenynazarenko/opt/anaconda3/envs/nlp_course_labs/lib/python3.11/site-packages (from boto3->transformers) (0.10.0)\n",
            "Requirement already satisfied: s3transfer<0.7.0,>=0.6.0 in /Users/evgenynazarenko/opt/anaconda3/envs/nlp_course_labs/lib/python3.11/site-packages (from boto3->transformers) (0.6.0)\n",
            "Requirement already satisfied: MarkupSafe>=2.0 in /Users/evgenynazarenko/opt/anaconda3/envs/nlp_course_labs/lib/python3.11/site-packages (from jinja2->torch) (2.1.1)\n",
            "Requirement already satisfied: charset-normalizer<4,>=2 in /Users/evgenynazarenko/opt/anaconda3/envs/nlp_course_labs/lib/python3.11/site-packages (from requests->transformers) (2.0.4)\n",
            "Requirement already satisfied: idna<4,>=2.5 in /Users/evgenynazarenko/opt/anaconda3/envs/nlp_course_labs/lib/python3.11/site-packages (from requests->transformers) (3.4)\n",
            "Requirement already satisfied: urllib3<1.27,>=1.21.1 in /Users/evgenynazarenko/opt/anaconda3/envs/nlp_course_labs/lib/python3.11/site-packages (from requests->transformers) (1.26.15)\n",
            "Requirement already satisfied: certifi>=2017.4.17 in /Users/evgenynazarenko/opt/anaconda3/envs/nlp_course_labs/lib/python3.11/site-packages (from requests->transformers) (2023.5.7)\n",
            "Requirement already satisfied: six in /Users/evgenynazarenko/opt/anaconda3/envs/nlp_course_labs/lib/python3.11/site-packages (from sacremoses->transformers) (1.16.0)\n",
            "Requirement already satisfied: click in /Users/evgenynazarenko/opt/anaconda3/envs/nlp_course_labs/lib/python3.11/site-packages (from sacremoses->transformers) (8.0.4)\n",
            "Requirement already satisfied: joblib in /Users/evgenynazarenko/opt/anaconda3/envs/nlp_course_labs/lib/python3.11/site-packages (from sacremoses->transformers) (1.1.1)\n",
            "Requirement already satisfied: mpmath>=0.19 in /Users/evgenynazarenko/opt/anaconda3/envs/nlp_course_labs/lib/python3.11/site-packages (from sympy->torch) (1.2.1)\n",
            "Requirement already satisfied: python-dateutil<3.0.0,>=2.1 in /Users/evgenynazarenko/opt/anaconda3/envs/nlp_course_labs/lib/python3.11/site-packages (from botocore<1.28.0,>=1.27.28->boto3->transformers) (2.8.2)\n",
            "\u001b[33mWARNING: Skipping /Users/evgenynazarenko/opt/anaconda3/envs/nlp_course_labs/lib/python3.11/site-packages/numpy-1.23.5.dist-info due to invalid metadata entry 'name'\u001b[0m\u001b[33m\n",
            "\u001b[0mInstalling collected packages: sentencepiece\n",
            "\u001b[33mWARNING: Skipping /Users/evgenynazarenko/opt/anaconda3/envs/nlp_course_labs/lib/python3.11/site-packages/numpy-1.23.5.dist-info due to invalid metadata entry 'name'\u001b[0m\u001b[33m\n",
            "\u001b[0mSuccessfully installed sentencepiece-0.1.99\n",
            "\u001b[33mWARNING: Skipping /Users/evgenynazarenko/opt/anaconda3/envs/nlp_course_labs/lib/python3.11/site-packages/numpy-1.23.5.dist-info due to invalid metadata entry 'name'\u001b[0m\u001b[33m\n",
            "\u001b[0m"
          ]
        }
      ],
      "source": [
        "!pip install torch transformers\n"
      ]
    },
    {
      "cell_type": "code",
      "execution_count": 1,
      "id": "Rj8thZWDuKdw",
      "metadata": {
        "colab": {
          "base_uri": "https://localhost:8080/"
        },
        "id": "Rj8thZWDuKdw",
        "outputId": "dc9ca6a8-217f-4dda-ae0e-898235f26f62"
      },
      "outputs": [
        {
          "name": "stdout",
          "output_type": "stream",
          "text": [
            "\u001b[33mWARNING: Skipping /Users/evgenynazarenko/opt/anaconda3/envs/nlp_course_labs/lib/python3.11/site-packages/numpy-1.23.5.dist-info due to invalid metadata entry 'name'\u001b[0m\u001b[33m\n",
            "\u001b[0m\u001b[33mWARNING: Skipping /Users/evgenynazarenko/opt/anaconda3/envs/nlp_course_labs/lib/python3.11/site-packages/numpy-1.23.5.dist-info due to invalid metadata entry 'name'\u001b[0m\u001b[33m\n",
            "\u001b[0mRequirement already satisfied: sentencepiece in /Users/evgenynazarenko/opt/anaconda3/envs/nlp_course_labs/lib/python3.11/site-packages (0.1.99)\n",
            "\u001b[33mWARNING: Skipping /Users/evgenynazarenko/opt/anaconda3/envs/nlp_course_labs/lib/python3.11/site-packages/numpy-1.23.5.dist-info due to invalid metadata entry 'name'\u001b[0m\u001b[33m\n",
            "\u001b[0m\u001b[33mWARNING: Skipping /Users/evgenynazarenko/opt/anaconda3/envs/nlp_course_labs/lib/python3.11/site-packages/numpy-1.23.5.dist-info due to invalid metadata entry 'name'\u001b[0m\u001b[33m\n",
            "\u001b[0mNote: you may need to restart the kernel to use updated packages.\n"
          ]
        }
      ],
      "source": [
        "%pip install sentencepiece\n"
      ]
    },
    {
      "cell_type": "code",
      "execution_count": 2,
      "id": "bf143e25",
      "metadata": {},
      "outputs": [
        {
          "name": "stdout",
          "output_type": "stream",
          "text": [
            "Intel MKL WARNING: Support of Intel(R) Streaming SIMD Extensions 4.2 (Intel(R) SSE4.2) enabled only processors has been deprecated. Intel oneAPI Math Kernel Library 2025.0 will require Intel(R) Advanced Vector Extensions (Intel(R) AVX) instructions.\n",
            "Intel MKL WARNING: Support of Intel(R) Streaming SIMD Extensions 4.2 (Intel(R) SSE4.2) enabled only processors has been deprecated. Intel oneAPI Math Kernel Library 2025.0 will require Intel(R) Advanced Vector Extensions (Intel(R) AVX) instructions.\n",
            "2.0.1\n"
          ]
        }
      ],
      "source": [
        "import torch\n",
        "print(torch.__version__)\n"
      ]
    },
    {
      "cell_type": "code",
      "execution_count": 25,
      "id": "x9TDwuZAsDsu",
      "metadata": {
        "colab": {
          "base_uri": "https://localhost:8080/"
        },
        "id": "x9TDwuZAsDsu",
        "outputId": "bdc632f7-02df-4e18-c725-32f30ccdfa31"
      },
      "outputs": [
        {
          "ename": "",
          "evalue": "",
          "output_type": "error",
          "traceback": [
            "\u001b[1;31mCanceled future for execute_request message before replies were done"
          ]
        },
        {
          "ename": "",
          "evalue": "",
          "output_type": "error",
          "traceback": [
            "\u001b[1;31mThe Kernel crashed while executing code in the the current cell or a previous cell. Please review the code in the cell(s) to identify a possible cause of the failure. Click <a href='https://aka.ms/vscodeJupyterKernelCrash'>here</a> for more info. View Jupyter <a href='command:jupyter.viewOutput'>log</a> for further details."
          ]
        }
      ],
      "source": [
        "import torch\n",
        "from torch.utils.data import Dataset, DataLoader, random_split\n",
        "from transformers import T5Tokenizer, T5ForConditionalGeneration, AdamW\n",
        "from torch.nn.utils.rnn import pad_sequence\n",
        "\n",
        "\n",
        "tokenizer = T5Tokenizer.from_pretrained('t5-base')\n",
        "\n",
        "class SessionDataset(Dataset):\n",
        "    def __init__(self, sessions, tokenizer, max_length=512):\n",
        "        self.sessions = sessions\n",
        "        self.tokenizer = tokenizer\n",
        "        self.max_length = max_length\n",
        "\n",
        "    def __len__(self):\n",
        "        return len(self.sessions)\n",
        "\n",
        "    def __getitem__(self, idx):\n",
        "        session = self.sessions.iloc[idx]\n",
        "        encoding = self.tokenizer(session['prev_items'], truncation=True, max_length=self.max_length, padding='max_length')\n",
        "        target_encoding = self.tokenizer(session['next_item'], truncation=True, max_length=self.max_length, padding='max_length')\n",
        "\n",
        "        return {\n",
        "            'input_ids': torch.tensor(encoding.input_ids, dtype=torch.long),\n",
        "            'attention_mask': torch.tensor(encoding.attention_mask, dtype=torch.long),\n",
        "            'labels': torch.tensor(target_encoding.input_ids, dtype=torch.long),\n",
        "        }\n",
        "def collate_fn(batch):\n",
        "    input_ids = [item['input_ids'] for item in batch]\n",
        "    labels = [item['labels'] for item in batch]\n",
        "    \n",
        "    input_ids = pad_sequence(input_ids, batch_first=True, padding_value=tokenizer.pad_token_id)\n",
        "    labels = pad_sequence(labels, batch_first=True, padding_value=-100)\n",
        "    \n",
        "    return {'input_ids': input_ids, 'labels': labels}"
      ]
    },
    {
      "cell_type": "code",
      "execution_count": null,
      "id": "0aa5d9f9",
      "metadata": {
        "colab": {
          "base_uri": "https://localhost:8080/"
        },
        "id": "0aa5d9f9",
        "outputId": "1da3d4ea-5f1b-4871-b56d-d038e95d8da0"
      },
      "outputs": [
        {
          "name": "stderr",
          "output_type": "stream",
          "text": [
            "/usr/local/lib/python3.10/dist-packages/transformers/optimization.py:407: FutureWarning: This implementation of AdamW is deprecated and will be removed in a future version. Use the PyTorch implementation torch.optim.AdamW instead, or set `no_deprecation_warning=True` to disable this warning\n",
            "  warnings.warn(\n"
          ]
        }
      ],
      "source": [
        "\n",
        "\n",
        "\n",
        "\n",
        "dataset = SessionDataset(sessions_uk_train, tokenizer)\n",
        "train_size = int(0.8 * len(dataset))\n",
        "val_size = len(dataset) - train_size\n",
        "train_dataset, val_dataset = random_split(dataset, [train_size, val_size])\n",
        "\n",
        "train_loader = DataLoader(train_dataset, batch_size=2, shuffle=True,collate_fn=collate_fn)\n",
        "val_loader = DataLoader(val_dataset, batch_size=2, shuffle=False,collate_fn=collate_fn)\n",
        "\n",
        "model = T5ForConditionalGeneration.from_pretrained('t5-base')\n",
        "\n",
        "optimizer = AdamW(model.parameters(), lr=1e-4)\n",
        "\n",
        "device = torch.device('cuda') if torch.cuda.is_available() else torch.device('cpu')\n",
        "model.to(device)\n",
        "\n",
        "for epoch in range(1):  \n",
        "    running_loss = 0.0\n",
        "    model.train()  # set model to training mode\n",
        "    for i, data in enumerate(train_loader, 0):\n",
        "        inputs, labels = data['input_ids'].to(device), data['labels'].to(device)\n",
        "        optimizer.zero_grad()\n",
        "        outputs = model(input_ids=inputs, labels=labels)\n",
        "        loss = outputs.loss\n",
        "        loss.backward()\n",
        "        optimizer.step()\n",
        "        running_loss += loss.item()\n",
        "        if i % 2000 == 1999: \n",
        "            print('[%d, %5d] training loss: %.3f' %\n",
        "                  (epoch + 1, i + 1, running_loss / 2000))\n",
        "            running_loss = 0.0\n",
        "\n",
        "    # validation loop\n",
        "    model.eval()  # set model to eval mode\n",
        "    running_val_loss = 0.0\n",
        "    with torch.no_grad():  # no gradients for validation\n",
        "        for i, data in enumerate(val_loader, 0):\n",
        "            inputs, labels = data['input_ids'].to(device), data['labels'].to(device)\n",
        "            outputs = model(input_ids=inputs, labels=labels)\n",
        "            loss = outputs.loss\n",
        "            running_val_loss += loss.item()\n",
        "    print('[%d] validation loss: %.3f' %\n",
        "          (epoch + 1, running_val_loss / len(val_loader)))\n",
        "\n",
        "print('Finished Training')\n",
        "\n",
        "# Save the trained model\n",
        "torch.save(model.state_dict(), '/content/drive/MyDrive/Colab Notebooks/NLP_group_project/t5_trained_model.pt')\n"
      ]
    }
  ],
  "metadata": {
    "accelerator": "GPU",
    "colab": {
      "gpuType": "T4",
      "provenance": []
    },
    "kernelspec": {
      "display_name": "Python 3",
      "name": "python3"
    },
    "language_info": {
      "codemirror_mode": {
        "name": "ipython",
        "version": 3
      },
      "file_extension": ".py",
      "mimetype": "text/x-python",
      "name": "python",
      "nbconvert_exporter": "python",
      "pygments_lexer": "ipython3",
      "version": "3.11.2"
    }
  },
  "nbformat": 4,
  "nbformat_minor": 5
}
