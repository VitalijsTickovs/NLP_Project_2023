{
 "cells": [
  {
   "cell_type": "code",
   "execution_count": 2,
   "id": "ab8cae9d",
   "metadata": {},
   "outputs": [],
   "source": [
    "import pandas as pd\n",
    "import numpy as np\n",
    "import seaborn as sns\n",
    "import matplotlib.pyplot as plt\n",
    "%matplotlib inline"
   ]
  },
  {
   "cell_type": "code",
   "execution_count": 3,
   "id": "518f7362",
   "metadata": {},
   "outputs": [],
   "source": [
    "import re    # for regular expressions\n",
    "from string import punctuation\n",
    "from nltk.stem import SnowballStemmer    #if you are brave enough to do stemming\n",
    "from nltk.corpus import stopwords      #if you want to remove stopwords\n",
    "from nltk.tokenize import word_tokenize\n",
    "import string\n",
    "from collections import Counter"
   ]
  },
  {
   "cell_type": "code",
   "execution_count": 4,
   "id": "2c9de719",
   "metadata": {},
   "outputs": [],
   "source": [
    "import gensim\n",
    "import pprint\n",
    "from gensim import corpora\n",
    "from gensim.utils import simple_preprocess\n",
    "from gensim import models\n",
    "from gensim.similarities.annoy import AnnoyIndexer"
   ]
  },
  {
   "cell_type": "markdown",
   "id": "72c75dae",
   "metadata": {},
   "source": [
    "### Data visualization"
   ]
  },
  {
   "cell_type": "code",
   "execution_count": 5,
   "id": "ebfe51d2",
   "metadata": {},
   "outputs": [
    {
     "data": {
      "text/html": [
       "<div>\n",
       "<style scoped>\n",
       "    .dataframe tbody tr th:only-of-type {\n",
       "        vertical-align: middle;\n",
       "    }\n",
       "\n",
       "    .dataframe tbody tr th {\n",
       "        vertical-align: top;\n",
       "    }\n",
       "\n",
       "    .dataframe thead th {\n",
       "        text-align: right;\n",
       "    }\n",
       "</style>\n",
       "<table border=\"1\" class=\"dataframe\">\n",
       "  <thead>\n",
       "    <tr style=\"text-align: right;\">\n",
       "      <th></th>\n",
       "      <th>id</th>\n",
       "      <th>locale</th>\n",
       "      <th>title</th>\n",
       "      <th>price</th>\n",
       "      <th>brand</th>\n",
       "      <th>color</th>\n",
       "      <th>size</th>\n",
       "      <th>model</th>\n",
       "      <th>material</th>\n",
       "      <th>author</th>\n",
       "      <th>desc</th>\n",
       "    </tr>\n",
       "  </thead>\n",
       "  <tbody>\n",
       "    <tr>\n",
       "      <th>0</th>\n",
       "      <td>B005ZSSN10</td>\n",
       "      <td>DE</td>\n",
       "      <td>RED DRAGON Amberjack 3 - Steel Tip 22 Gramm Wo...</td>\n",
       "      <td>30.95</td>\n",
       "      <td>RED DRAGON</td>\n",
       "      <td>NaN</td>\n",
       "      <td>NaN</td>\n",
       "      <td>RDD0089</td>\n",
       "      <td>NaN</td>\n",
       "      <td>NaN</td>\n",
       "      <td>Amberjacks Steel Dartpfeile sind verfügbar in ...</td>\n",
       "    </tr>\n",
       "    <tr>\n",
       "      <th>1</th>\n",
       "      <td>B08PRYN6LD</td>\n",
       "      <td>DE</td>\n",
       "      <td>Simply Keto Lower Carb* Schokodrops ohne Zucke...</td>\n",
       "      <td>17.90</td>\n",
       "      <td>Simply Keto</td>\n",
       "      <td>NaN</td>\n",
       "      <td>750 g (1er Pack)</td>\n",
       "      <td>NaN</td>\n",
       "      <td>NaN</td>\n",
       "      <td>NaN</td>\n",
       "      <td>🌱 NATÜRLICHE SÜSSE DURCH ERYTHRIT - Wir stelle...</td>\n",
       "    </tr>\n",
       "    <tr>\n",
       "      <th>2</th>\n",
       "      <td>B09MBZJ48V</td>\n",
       "      <td>DE</td>\n",
       "      <td>Sennheiser 508377 PC 5.2 Chat, Stilvolles Mult...</td>\n",
       "      <td>68.89</td>\n",
       "      <td>Sennheiser</td>\n",
       "      <td>Multi-Colour</td>\n",
       "      <td>One size</td>\n",
       "      <td>508377</td>\n",
       "      <td>Kunstleder</td>\n",
       "      <td>NaN</td>\n",
       "      <td>3.5 MM BUCHSE - Kann problemlos an Geräte mit ...</td>\n",
       "    </tr>\n",
       "    <tr>\n",
       "      <th>3</th>\n",
       "      <td>B08ZN6F26S</td>\n",
       "      <td>DE</td>\n",
       "      <td>AmyBenton Auto ab 1 2 3 ahre - Baby Aufziehbar...</td>\n",
       "      <td>18.99</td>\n",
       "      <td>Amy &amp; Benton</td>\n",
       "      <td>Animal Car</td>\n",
       "      <td>NaN</td>\n",
       "      <td>2008B</td>\n",
       "      <td>aufziehauto 1 jahr</td>\n",
       "      <td>NaN</td>\n",
       "      <td>【Auto aufziehbar】: Drücken Sie einfach leicht ...</td>\n",
       "    </tr>\n",
       "    <tr>\n",
       "      <th>4</th>\n",
       "      <td>B094DGRV7D</td>\n",
       "      <td>DE</td>\n",
       "      <td>PLAYMOBIL - 70522 - Cavaliere mit grauem Pony</td>\n",
       "      <td>7.17</td>\n",
       "      <td>PLAYMOBIL</td>\n",
       "      <td>Nicht Zutreffend.</td>\n",
       "      <td>OneSize</td>\n",
       "      <td>70522</td>\n",
       "      <td>Polypropylen</td>\n",
       "      <td>NaN</td>\n",
       "      <td>Inhalt: 1 Stück</td>\n",
       "    </tr>\n",
       "  </tbody>\n",
       "</table>\n",
       "</div>"
      ],
      "text/plain": [
       "           id locale                                              title  \\\n",
       "0  B005ZSSN10     DE  RED DRAGON Amberjack 3 - Steel Tip 22 Gramm Wo...   \n",
       "1  B08PRYN6LD     DE  Simply Keto Lower Carb* Schokodrops ohne Zucke...   \n",
       "2  B09MBZJ48V     DE  Sennheiser 508377 PC 5.2 Chat, Stilvolles Mult...   \n",
       "3  B08ZN6F26S     DE  AmyBenton Auto ab 1 2 3 ahre - Baby Aufziehbar...   \n",
       "4  B094DGRV7D     DE      PLAYMOBIL - 70522 - Cavaliere mit grauem Pony   \n",
       "\n",
       "   price         brand              color              size    model  \\\n",
       "0  30.95    RED DRAGON                NaN               NaN  RDD0089   \n",
       "1  17.90   Simply Keto                NaN  750 g (1er Pack)      NaN   \n",
       "2  68.89    Sennheiser       Multi-Colour          One size   508377   \n",
       "3  18.99  Amy & Benton         Animal Car               NaN    2008B   \n",
       "4   7.17     PLAYMOBIL  Nicht Zutreffend.           OneSize    70522   \n",
       "\n",
       "             material author  \\\n",
       "0                 NaN    NaN   \n",
       "1                 NaN    NaN   \n",
       "2          Kunstleder    NaN   \n",
       "3  aufziehauto 1 jahr    NaN   \n",
       "4        Polypropylen    NaN   \n",
       "\n",
       "                                                desc  \n",
       "0  Amberjacks Steel Dartpfeile sind verfügbar in ...  \n",
       "1  🌱 NATÜRLICHE SÜSSE DURCH ERYTHRIT - Wir stelle...  \n",
       "2  3.5 MM BUCHSE - Kann problemlos an Geräte mit ...  \n",
       "3  【Auto aufziehbar】: Drücken Sie einfach leicht ...  \n",
       "4                                    Inhalt: 1 Stück  "
      ]
     },
     "execution_count": 5,
     "metadata": {},
     "output_type": "execute_result"
    }
   ],
   "source": [
    "# Import products\n",
    "\n",
    "products = pd.read_csv('products_train.csv')\n",
    "products.head()"
   ]
  },
  {
   "cell_type": "code",
   "execution_count": 6,
   "id": "1560fe91",
   "metadata": {},
   "outputs": [
    {
     "data": {
      "text/html": [
       "<div>\n",
       "<style scoped>\n",
       "    .dataframe tbody tr th:only-of-type {\n",
       "        vertical-align: middle;\n",
       "    }\n",
       "\n",
       "    .dataframe tbody tr th {\n",
       "        vertical-align: top;\n",
       "    }\n",
       "\n",
       "    .dataframe thead th {\n",
       "        text-align: right;\n",
       "    }\n",
       "</style>\n",
       "<table border=\"1\" class=\"dataframe\">\n",
       "  <thead>\n",
       "    <tr style=\"text-align: right;\">\n",
       "      <th></th>\n",
       "      <th>prev_items</th>\n",
       "      <th>next_item</th>\n",
       "      <th>locale</th>\n",
       "    </tr>\n",
       "  </thead>\n",
       "  <tbody>\n",
       "    <tr>\n",
       "      <th>0</th>\n",
       "      <td>['B09W9FND7K' 'B09JSPLN1M']</td>\n",
       "      <td>B09M7GY217</td>\n",
       "      <td>DE</td>\n",
       "    </tr>\n",
       "    <tr>\n",
       "      <th>1</th>\n",
       "      <td>['B076THCGSG' 'B007MO8IME' 'B08MF65MLV' 'B001B...</td>\n",
       "      <td>B001B4THSA</td>\n",
       "      <td>DE</td>\n",
       "    </tr>\n",
       "    <tr>\n",
       "      <th>2</th>\n",
       "      <td>['B0B1LGXWDS' 'B00AZYORS2' 'B0B1LGXWDS' 'B00AZ...</td>\n",
       "      <td>B0767DTG2Q</td>\n",
       "      <td>DE</td>\n",
       "    </tr>\n",
       "    <tr>\n",
       "      <th>3</th>\n",
       "      <td>['B09XMTWDVT' 'B0B4MZZ8MB' 'B0B7HZ2GWX' 'B09XM...</td>\n",
       "      <td>B0B4R9NN4B</td>\n",
       "      <td>DE</td>\n",
       "    </tr>\n",
       "    <tr>\n",
       "      <th>4</th>\n",
       "      <td>['B09Y5CSL3T' 'B09Y5DPTXN' 'B09FKD61R8']</td>\n",
       "      <td>B0BGVBKWGZ</td>\n",
       "      <td>DE</td>\n",
       "    </tr>\n",
       "  </tbody>\n",
       "</table>\n",
       "</div>"
      ],
      "text/plain": [
       "                                          prev_items   next_item locale\n",
       "0                        ['B09W9FND7K' 'B09JSPLN1M']  B09M7GY217     DE\n",
       "1  ['B076THCGSG' 'B007MO8IME' 'B08MF65MLV' 'B001B...  B001B4THSA     DE\n",
       "2  ['B0B1LGXWDS' 'B00AZYORS2' 'B0B1LGXWDS' 'B00AZ...  B0767DTG2Q     DE\n",
       "3  ['B09XMTWDVT' 'B0B4MZZ8MB' 'B0B7HZ2GWX' 'B09XM...  B0B4R9NN4B     DE\n",
       "4           ['B09Y5CSL3T' 'B09Y5DPTXN' 'B09FKD61R8']  B0BGVBKWGZ     DE"
      ]
     },
     "execution_count": 6,
     "metadata": {},
     "output_type": "execute_result"
    }
   ],
   "source": [
    "# Import sessions\n",
    "\n",
    "sessions = pd.read_csv('sessions_train.csv')\n",
    "sessions.head()"
   ]
  },
  {
   "cell_type": "code",
   "execution_count": 7,
   "id": "6026237f",
   "metadata": {},
   "outputs": [],
   "source": [
    "sessions_eng = sessions[sessions['locale']=='UK']"
   ]
  },
  {
   "cell_type": "code",
   "execution_count": 8,
   "id": "c208913c",
   "metadata": {},
   "outputs": [],
   "source": [
    "def clean_items(text):\n",
    "\n",
    "    text = text[1:-1]\n",
    "    text = re.findall(r\"'([^']*)'\", text)\n",
    "\n",
    "    return text"
   ]
  },
  {
   "cell_type": "code",
   "execution_count": 9,
   "id": "5b640fef",
   "metadata": {},
   "outputs": [
    {
     "name": "stderr",
     "output_type": "stream",
     "text": [
      "C:\\Users\\Dacia Logan\\AppData\\Local\\Temp\\ipykernel_9776\\932254714.py:1: SettingWithCopyWarning: \n",
      "A value is trying to be set on a copy of a slice from a DataFrame.\n",
      "Try using .loc[row_indexer,col_indexer] = value instead\n",
      "\n",
      "See the caveats in the documentation: https://pandas.pydata.org/pandas-docs/stable/user_guide/indexing.html#returning-a-view-versus-a-copy\n",
      "  sessions_eng['prev_items'] = sessions_eng['prev_items'].apply(clean_items)\n"
     ]
    }
   ],
   "source": [
    "sessions_eng['prev_items'] = sessions_eng['prev_items'].apply(clean_items)"
   ]
  },
  {
   "cell_type": "code",
   "execution_count": 10,
   "id": "c350a1be",
   "metadata": {},
   "outputs": [],
   "source": [
    "interacted_items = list(sessions_eng['prev_items'])\n",
    "# interacted_items"
   ]
  },
  {
   "cell_type": "code",
   "execution_count": 11,
   "id": "b92ca3ca",
   "metadata": {},
   "outputs": [],
   "source": [
    "unique_items = list(set(i for j in interacted_items for i in j))\n",
    "# unique_items"
   ]
  },
  {
   "cell_type": "code",
   "execution_count": 12,
   "id": "2fc17e4c",
   "metadata": {},
   "outputs": [
    {
     "data": {
      "text/plain": [
       "470148"
      ]
     },
     "execution_count": 12,
     "metadata": {},
     "output_type": "execute_result"
    }
   ],
   "source": [
    "len(unique_items)"
   ]
  },
  {
   "cell_type": "code",
   "execution_count": 13,
   "id": "fa41426d",
   "metadata": {},
   "outputs": [
    {
     "data": {
      "text/plain": [
       "array(['DE', 'JP', 'UK', 'ES', 'FR', 'IT'], dtype=object)"
      ]
     },
     "execution_count": 13,
     "metadata": {},
     "output_type": "execute_result"
    }
   ],
   "source": [
    "# Check unique locations\n",
    "\n",
    "products['locale'].unique()"
   ]
  },
  {
   "cell_type": "code",
   "execution_count": 14,
   "id": "591c5373",
   "metadata": {},
   "outputs": [],
   "source": [
    "# Exctract the English products only (UK)\n",
    "\n",
    "products_eng = products[products['locale']=='UK']"
   ]
  },
  {
   "cell_type": "code",
   "execution_count": 15,
   "id": "6e89173f",
   "metadata": {},
   "outputs": [],
   "source": [
    "products_eng = products_eng[products_eng['id'].isin(unique_items)]"
   ]
  },
  {
   "cell_type": "markdown",
   "id": "4accb8a0",
   "metadata": {},
   "source": [
    "We see that we have more items than distinct sessions"
   ]
  },
  {
   "cell_type": "markdown",
   "id": "0139a011",
   "metadata": {},
   "source": [
    "### Clean"
   ]
  },
  {
   "cell_type": "code",
   "execution_count": 16,
   "id": "a24a5c37",
   "metadata": {},
   "outputs": [],
   "source": [
    "import re\n",
    "import nltk"
   ]
  },
  {
   "cell_type": "code",
   "execution_count": 17,
   "id": "0859796d",
   "metadata": {},
   "outputs": [],
   "source": [
    "titles = np.array(products_eng['title'])\n",
    "titles = \" \".join(titles)"
   ]
  },
  {
   "cell_type": "code",
   "execution_count": 18,
   "id": "dd5c4b9d",
   "metadata": {},
   "outputs": [],
   "source": [
    "words = re.findall(r'\\w+', titles)"
   ]
  },
  {
   "cell_type": "code",
   "execution_count": 19,
   "id": "967ab3d2",
   "metadata": {},
   "outputs": [],
   "source": [
    "word_counter = Counter(words)"
   ]
  },
  {
   "cell_type": "code",
   "execution_count": 20,
   "id": "0ef27d51",
   "metadata": {},
   "outputs": [],
   "source": [
    "word_frequencies = np.array(list(word_counter.values()))"
   ]
  },
  {
   "cell_type": "code",
   "execution_count": 21,
   "id": "b677edbc",
   "metadata": {},
   "outputs": [
    {
     "data": {
      "text/plain": [
       "array([1., 1., 2.])"
      ]
     },
     "execution_count": 21,
     "metadata": {},
     "output_type": "execute_result"
    }
   ],
   "source": [
    "word_quartiles = np.quantile(word_frequencies, [0,.45,0.5])\n",
    "word_quartiles"
   ]
  },
  {
   "cell_type": "code",
   "execution_count": 22,
   "id": "3882d158",
   "metadata": {},
   "outputs": [
    {
     "data": {
      "text/plain": [
       "176991"
      ]
     },
     "execution_count": 22,
     "metadata": {},
     "output_type": "execute_result"
    }
   ],
   "source": [
    "len(word_frequencies)"
   ]
  },
  {
   "cell_type": "code",
   "execution_count": 23,
   "id": "ec6f4f10",
   "metadata": {},
   "outputs": [],
   "source": [
    "word_freq_2_more = [k for k,v in word_counter.items() if float(v) >= 2]"
   ]
  },
  {
   "cell_type": "code",
   "execution_count": 24,
   "id": "b1fc99d6",
   "metadata": {},
   "outputs": [
    {
     "data": {
      "text/plain": [
       "94355"
      ]
     },
     "execution_count": 24,
     "metadata": {},
     "output_type": "execute_result"
    }
   ],
   "source": [
    "len(word_freq_2_more)"
   ]
  },
  {
   "cell_type": "code",
   "execution_count": 25,
   "id": "a70a0d9f",
   "metadata": {},
   "outputs": [],
   "source": [
    "big_count = 0\n",
    "\n",
    "def clean(text, stem_words=True):\n",
    "    \n",
    "#     text = re.sub('(?<=[0-9])\\,(?=[0-9])', \"\", text)\n",
    "#     print(text)\n",
    "#     text = re.sub('^(?!.[a-zA-Z])(?!.\\d)[a-zA-Z0-9]+$', \"\", text)\n",
    "    text = re.findall(r'\\b(?:[a-zA-Z]+|\\d+)\\b', text)\n",
    "\n",
    "    new_text = []\n",
    "    for word in text:\n",
    "        if word_counter[word] > 1:\n",
    "            new_text.append(word)\n",
    "    text = new_text\n",
    "\n",
    "#     global big_count\n",
    "#     big_count += 1\n",
    "#     print(big_count)\n",
    "    \n",
    "    text = \" \".join(text)\n",
    "    \n",
    "    return text"
   ]
  },
  {
   "cell_type": "code",
   "execution_count": 26,
   "id": "8668f83c",
   "metadata": {},
   "outputs": [],
   "source": [
    "products_eng['title'] = products_eng['title'].apply(clean)"
   ]
  },
  {
   "cell_type": "markdown",
   "id": "53f49b28",
   "metadata": {},
   "source": [
    "### Model creation"
   ]
  },
  {
   "cell_type": "code",
   "execution_count": 27,
   "id": "dd8229fc",
   "metadata": {},
   "outputs": [],
   "source": [
    "from sklearn.feature_extraction.text import TfidfVectorizer\n",
    "from sklearn.model_selection import train_test_split\n",
    "from sklearn.metrics.pairwise import linear_kernel\n",
    "from sklearn.metrics.pairwise import cosine_similarity"
   ]
  },
  {
   "cell_type": "markdown",
   "id": "7269918a",
   "metadata": {},
   "source": [
    "Problems:\n",
    "- items with no description\n",
    "\n",
    "Need to do:\n",
    "- normalize text (make undercase, no italic, no bold)"
   ]
  },
  {
   "cell_type": "code",
   "execution_count": 28,
   "id": "e58ba1ac",
   "metadata": {},
   "outputs": [
    {
     "data": {
      "text/plain": [
       "(470148, 62117)"
      ]
     },
     "execution_count": 28,
     "metadata": {},
     "output_type": "execute_result"
    }
   ],
   "source": [
    "# Train a model that finds similar items based on the title of the items only\n",
    "# https://www.datacamp.com/tutorial/recommender-systems-python\n",
    "\n",
    "#Define a TF-IDF Vectorizer Object. Remove all english stop words such as 'the', 'a'\n",
    "tfidf = TfidfVectorizer(stop_words='english')\n",
    "\n",
    "# #Replace NaN with an empty string\n",
    "# products_eng['title'] = products_eng['title'].fillna('')\n",
    "\n",
    "#Construct the required TF-IDF matrix by fitting and transforming the data\n",
    "tfidf_matrix = tfidf.fit_transform(products_eng['title'])\n",
    "\n",
    "#Output the shape of tfidf_matrix\n",
    "tfidf_matrix.shape"
   ]
  },
  {
   "cell_type": "code",
   "execution_count": 29,
   "id": "0b247227",
   "metadata": {},
   "outputs": [],
   "source": [
    "item_index_to_tfidf_index = {k: v for v, k in enumerate(products_eng.index)}"
   ]
  },
  {
   "cell_type": "code",
   "execution_count": 30,
   "id": "d1d67d90",
   "metadata": {},
   "outputs": [],
   "source": [
    "tfidf_index_to_item_index = {v: k for k, v in item_index_to_tfidf_index.items()}"
   ]
  },
  {
   "cell_type": "code",
   "execution_count": 31,
   "id": "cb8c71c8",
   "metadata": {},
   "outputs": [],
   "source": [
    "import pysparnn.cluster_index as ci"
   ]
  },
  {
   "cell_type": "code",
   "execution_count": 32,
   "id": "86975e7d",
   "metadata": {},
   "outputs": [],
   "source": [
    "features_vec = tfidf.transform(products_eng['title'])"
   ]
  },
  {
   "cell_type": "code",
   "execution_count": 33,
   "id": "32759b82",
   "metadata": {},
   "outputs": [
    {
     "name": "stderr",
     "output_type": "stream",
     "text": [
      "C:\\Users\\Dacia Logan\\Desktop\\NLP\\code\\NLP_Project_2023\\pysparnn\\matrix_distance.py:192: RuntimeWarning: divide by zero encountered in divide\n",
      "  magnitude = 1.0 / (a_root_sum_square * self.matrix_root_sum_square)\n"
     ]
    }
   ],
   "source": [
    "cp = ci.MultiClusterIndex(features_vec, products_eng['title'])"
   ]
  },
  {
   "cell_type": "code",
   "execution_count": 50,
   "id": "02345d80",
   "metadata": {},
   "outputs": [],
   "source": [
    "search_features_vec = tfidf_matrix[2]\n",
    "# search_features_vec"
   ]
  },
  {
   "cell_type": "code",
   "execution_count": 55,
   "id": "132276d0",
   "metadata": {},
   "outputs": [
    {
     "data": {
      "text/plain": [
       "[['500 Easy Recipes for Every Machine Both Stovetop and Electric A Cookbook',\n",
       "  'An Cookbook']]"
      ]
     },
     "execution_count": 55,
     "metadata": {},
     "output_type": "execute_result"
    }
   ],
   "source": [
    "cp.search(search_features_vec, k=2, k_clusters=2, return_distance=False)"
   ]
  },
  {
   "cell_type": "code",
   "execution_count": 52,
   "id": "0b8eb9b1",
   "metadata": {},
   "outputs": [
    {
     "data": {
      "text/plain": [
       "'500 Easy Recipes for Every Machine Both Stovetop and Electric A Cookbook'"
      ]
     },
     "execution_count": 52,
     "metadata": {},
     "output_type": "execute_result"
    }
   ],
   "source": [
    "products_eng.iloc[2].title"
   ]
  },
  {
   "cell_type": "markdown",
   "id": "d6033416",
   "metadata": {},
   "source": [
    "### Test"
   ]
  },
  {
   "cell_type": "code",
   "execution_count": 56,
   "id": "2cd2d25d",
   "metadata": {},
   "outputs": [],
   "source": [
    "item_index_to_item_commercial_id = dict(zip(products_eng.index, products_eng.id))"
   ]
  },
  {
   "cell_type": "code",
   "execution_count": 57,
   "id": "3f9715b1",
   "metadata": {},
   "outputs": [],
   "source": [
    "item_commercial_id_to_item_index = {v: k for k, v in item_index_to_item_commercial_id.items()}"
   ]
  },
  {
   "cell_type": "code",
   "execution_count": 108,
   "id": "44b31ded",
   "metadata": {},
   "outputs": [],
   "source": [
    "def recommend_most_similar_for_last_item(item_list):\n",
    "    \n",
    "    last_item_commercial_id = item_list[-1]\n",
    "#     print(last_item_commercial_id)\n",
    "    last_item_commercial_index = item_commercial_id_to_item_index[last_item_commercial_id]\n",
    "    \n",
    "    item_index = item_index_to_tfidf_index[last_item_commercial_index]\n",
    "    item_vector = tfidf_matrix[item_index]\n",
    "    \n",
    "    recommenders = cp.search(item_vector, k=100, k_clusters=2, return_distance=False)\n",
    "#     print(recommenders)\n",
    "    recommended_item = recommenders[0][1]\n",
    "#     print()\n",
    "    \n",
    "#     recommended_items = get_closest_item(last_item_commercial_index)\n",
    "#     recommended_items = item_index_to_item_commercial_id[recommended_items]\n",
    "    \n",
    "#     if recommended_items not in comercial_id_to_title:\n",
    "#         return np.nan\n",
    "#     title = comercial_id_to_title[recommended_items]\n",
    "    \n",
    "    global count\n",
    "    count += 1\n",
    "    print(count, end='\\r')\n",
    "    \n",
    "    return recommended_item"
   ]
  },
  {
   "cell_type": "code",
   "execution_count": 109,
   "id": "f9fefb74",
   "metadata": {
    "scrolled": false
   },
   "outputs": [
    {
     "name": "stdout",
     "output_type": "stream",
     "text": [
      "1182181\r"
     ]
    },
    {
     "name": "stderr",
     "output_type": "stream",
     "text": [
      "C:\\Users\\Dacia Logan\\AppData\\Local\\Temp\\ipykernel_9776\\3470358999.py:2: SettingWithCopyWarning: \n",
      "A value is trying to be set on a copy of a slice from a DataFrame.\n",
      "Try using .loc[row_indexer,col_indexer] = value instead\n",
      "\n",
      "See the caveats in the documentation: https://pandas.pydata.org/pandas-docs/stable/user_guide/indexing.html#returning-a-view-versus-a-copy\n",
      "  sessions_eng['prev_items'] = sessions_eng['prev_items'].apply(recommend_most_similar_for_last_item)\n"
     ]
    }
   ],
   "source": [
    "count = 0\n",
    "sessions_eng['prev_items'] = sessions_eng['prev_items'].apply(recommend_most_similar_for_last_item)"
   ]
  },
  {
   "cell_type": "code",
   "execution_count": 112,
   "id": "6c6a7133",
   "metadata": {},
   "outputs": [],
   "source": [
    "comercial_id_to_title = dict(zip(products_eng.id, products_eng.title))"
   ]
  },
  {
   "cell_type": "code",
   "execution_count": 113,
   "id": "bed1e255",
   "metadata": {},
   "outputs": [],
   "source": [
    "def from_commercial_id_to_title(commercial_id):\n",
    "    \n",
    "    if commercial_id not in comercial_id_to_title:\n",
    "        return np.nan\n",
    "        \n",
    "    dataframe_row = comercial_id_to_title[commercial_id]\n",
    "    dataframe_row\n",
    "    \n",
    "    return dataframe_row"
   ]
  },
  {
   "cell_type": "code",
   "execution_count": 115,
   "id": "e656d933",
   "metadata": {},
   "outputs": [
    {
     "name": "stderr",
     "output_type": "stream",
     "text": [
      "C:\\Users\\Dacia Logan\\AppData\\Local\\Temp\\ipykernel_9776\\1974226734.py:1: SettingWithCopyWarning: \n",
      "A value is trying to be set on a copy of a slice from a DataFrame.\n",
      "Try using .loc[row_indexer,col_indexer] = value instead\n",
      "\n",
      "See the caveats in the documentation: https://pandas.pydata.org/pandas-docs/stable/user_guide/indexing.html#returning-a-view-versus-a-copy\n",
      "  sessions_eng['next_item'] = sessions_eng['next_item'].apply(from_commercial_id_to_title)\n"
     ]
    }
   ],
   "source": [
    "sessions_eng['next_item'] = sessions_eng['next_item'].apply(from_commercial_id_to_title)"
   ]
  },
  {
   "cell_type": "code",
   "execution_count": 121,
   "id": "9ce1f2c4",
   "metadata": {},
   "outputs": [
    {
     "data": {
      "text/html": [
       "<div>\n",
       "<style scoped>\n",
       "    .dataframe tbody tr th:only-of-type {\n",
       "        vertical-align: middle;\n",
       "    }\n",
       "\n",
       "    .dataframe tbody tr th {\n",
       "        vertical-align: top;\n",
       "    }\n",
       "\n",
       "    .dataframe thead th {\n",
       "        text-align: right;\n",
       "    }\n",
       "</style>\n",
       "<table border=\"1\" class=\"dataframe\">\n",
       "  <thead>\n",
       "    <tr style=\"text-align: right;\">\n",
       "      <th></th>\n",
       "      <th>prev_items</th>\n",
       "      <th>next_item</th>\n",
       "      <th>locale</th>\n",
       "    </tr>\n",
       "  </thead>\n",
       "  <tbody>\n",
       "    <tr>\n",
       "      <th>2090535</th>\n",
       "      <td>ADOV Vegetable Chopper 14 in 1 Multi Function ...</td>\n",
       "      <td>ADOV Vegetable Chopper 14 in 1 Multi Function ...</td>\n",
       "      <td>UK</td>\n",
       "    </tr>\n",
       "    <tr>\n",
       "      <th>2090536</th>\n",
       "      <td>BT Home Phone with Nuisance Call Blocking and ...</td>\n",
       "      <td>Bedsure White Voile Sheer Curtains 2 Panels Wi...</td>\n",
       "      <td>UK</td>\n",
       "    </tr>\n",
       "    <tr>\n",
       "      <th>2090537</th>\n",
       "      <td>Seven Seas Cod Liver Oil Tablets Plus Multivit...</td>\n",
       "      <td>Seven Seas Omega 3 FISH Oil Plus Cod Liver Oil...</td>\n",
       "      <td>UK</td>\n",
       "    </tr>\n",
       "    <tr>\n",
       "      <th>2090538</th>\n",
       "      <td>Rubie s Official Halloween Haunted House Skele...</td>\n",
       "      <td>Rubie s Official Halloween Haunted House Skele...</td>\n",
       "      <td>UK</td>\n",
       "    </tr>\n",
       "    <tr>\n",
       "      <th>2090539</th>\n",
       "      <td>Command Decorating Clips Value Pack of 40 Mini...</td>\n",
       "      <td>Command Assorted Picture Hanging Strips White ...</td>\n",
       "      <td>UK</td>\n",
       "    </tr>\n",
       "    <tr>\n",
       "      <th>...</th>\n",
       "      <td>...</td>\n",
       "      <td>...</td>\n",
       "      <td>...</td>\n",
       "    </tr>\n",
       "    <tr>\n",
       "      <th>3272711</th>\n",
       "      <td>WILLWELL SPORT Money belt RFID Blocking Waterp...</td>\n",
       "      <td>MYCARBON Travel Money Belt RFID Against Invisi...</td>\n",
       "      <td>UK</td>\n",
       "    </tr>\n",
       "    <tr>\n",
       "      <th>3272712</th>\n",
       "      <td>Backpack Womens Waterproof School Backpack Gif...</td>\n",
       "      <td>Laptop Backpack Womens 15 6 Inch School Bag wi...</td>\n",
       "      <td>UK</td>\n",
       "    </tr>\n",
       "    <tr>\n",
       "      <th>3272713</th>\n",
       "      <td>Regatta unisex child Kids Stormbrk O T Trouser...</td>\n",
       "      <td>Zinc Carbon Triple AAA Batteries 1 Heavy Duty ...</td>\n",
       "      <td>UK</td>\n",
       "    </tr>\n",
       "    <tr>\n",
       "      <th>3272714</th>\n",
       "      <td>19 Crimes Cabernet Sauvignon 6 x</td>\n",
       "      <td>El Malbec Argentinian Red Wine 1 x</td>\n",
       "      <td>UK</td>\n",
       "    </tr>\n",
       "    <tr>\n",
       "      <th>3272715</th>\n",
       "      <td>Lepro WiFi Smart Bulb RGB and Warm to Cool Whi...</td>\n",
       "      <td>Lepro WiFi Smart Bulb RGB and Warm to Cool Whi...</td>\n",
       "      <td>UK</td>\n",
       "    </tr>\n",
       "  </tbody>\n",
       "</table>\n",
       "<p>1182181 rows × 3 columns</p>\n",
       "</div>"
      ],
      "text/plain": [
       "                                                prev_items  \\\n",
       "2090535  ADOV Vegetable Chopper 14 in 1 Multi Function ...   \n",
       "2090536  BT Home Phone with Nuisance Call Blocking and ...   \n",
       "2090537  Seven Seas Cod Liver Oil Tablets Plus Multivit...   \n",
       "2090538  Rubie s Official Halloween Haunted House Skele...   \n",
       "2090539  Command Decorating Clips Value Pack of 40 Mini...   \n",
       "...                                                    ...   \n",
       "3272711  WILLWELL SPORT Money belt RFID Blocking Waterp...   \n",
       "3272712  Backpack Womens Waterproof School Backpack Gif...   \n",
       "3272713  Regatta unisex child Kids Stormbrk O T Trouser...   \n",
       "3272714                   19 Crimes Cabernet Sauvignon 6 x   \n",
       "3272715  Lepro WiFi Smart Bulb RGB and Warm to Cool Whi...   \n",
       "\n",
       "                                                 next_item locale  \n",
       "2090535  ADOV Vegetable Chopper 14 in 1 Multi Function ...     UK  \n",
       "2090536  Bedsure White Voile Sheer Curtains 2 Panels Wi...     UK  \n",
       "2090537  Seven Seas Omega 3 FISH Oil Plus Cod Liver Oil...     UK  \n",
       "2090538  Rubie s Official Halloween Haunted House Skele...     UK  \n",
       "2090539  Command Assorted Picture Hanging Strips White ...     UK  \n",
       "...                                                    ...    ...  \n",
       "3272711  MYCARBON Travel Money Belt RFID Against Invisi...     UK  \n",
       "3272712  Laptop Backpack Womens 15 6 Inch School Bag wi...     UK  \n",
       "3272713  Zinc Carbon Triple AAA Batteries 1 Heavy Duty ...     UK  \n",
       "3272714                 El Malbec Argentinian Red Wine 1 x     UK  \n",
       "3272715  Lepro WiFi Smart Bulb RGB and Warm to Cool Whi...     UK  \n",
       "\n",
       "[1182181 rows x 3 columns]"
      ]
     },
     "execution_count": 121,
     "metadata": {},
     "output_type": "execute_result"
    }
   ],
   "source": [
    "sessions_eng"
   ]
  },
  {
   "cell_type": "code",
   "execution_count": 129,
   "id": "a3145525",
   "metadata": {},
   "outputs": [
    {
     "name": "stderr",
     "output_type": "stream",
     "text": [
      "E:\\anaconda3\\lib\\site-packages\\pandas\\util\\_decorators.py:311: SettingWithCopyWarning: \n",
      "A value is trying to be set on a copy of a slice from a DataFrame\n",
      "\n",
      "See the caveats in the documentation: https://pandas.pydata.org/pandas-docs/stable/user_guide/indexing.html#returning-a-view-versus-a-copy\n",
      "  return func(*args, **kwargs)\n"
     ]
    }
   ],
   "source": [
    "sessions_eng.dropna(subset=['next_item'], inplace=True)"
   ]
  },
  {
   "cell_type": "code",
   "execution_count": 130,
   "id": "a9aa0f77",
   "metadata": {},
   "outputs": [],
   "source": [
    "sessions_eng.dropna(subset=['prev_items'], inplace=True)"
   ]
  },
  {
   "cell_type": "code",
   "execution_count": 117,
   "id": "4d9836e5",
   "metadata": {},
   "outputs": [],
   "source": [
    "from nltk.translate.bleu_score import corpus_bleu"
   ]
  },
  {
   "cell_type": "code",
   "execution_count": 133,
   "id": "18f1679b",
   "metadata": {},
   "outputs": [],
   "source": [
    "hypotheses = list(sessions_eng['prev_items'])\n",
    "hypotheses = [k.split() for k in hypotheses]"
   ]
  },
  {
   "cell_type": "code",
   "execution_count": 131,
   "id": "50937ecb",
   "metadata": {},
   "outputs": [],
   "source": [
    "list_of_references = list(sessions_eng['next_item'])\n",
    "list_of_references = [[sent.split()] for sent in list_of_references]"
   ]
  },
  {
   "cell_type": "code",
   "execution_count": 134,
   "id": "0fc3b254",
   "metadata": {},
   "outputs": [
    {
     "data": {
      "text/plain": [
       "0.29126463627091104"
      ]
     },
     "execution_count": 134,
     "metadata": {},
     "output_type": "execute_result"
    }
   ],
   "source": [
    "corpus_bleu(list_of_references, hypotheses)"
   ]
  }
 ],
 "metadata": {
  "kernelspec": {
   "display_name": "Python 3 (ipykernel)",
   "language": "python",
   "name": "python3"
  },
  "language_info": {
   "codemirror_mode": {
    "name": "ipython",
    "version": 3
   },
   "file_extension": ".py",
   "mimetype": "text/x-python",
   "name": "python",
   "nbconvert_exporter": "python",
   "pygments_lexer": "ipython3",
   "version": "3.9.7"
  }
 },
 "nbformat": 4,
 "nbformat_minor": 5
}
