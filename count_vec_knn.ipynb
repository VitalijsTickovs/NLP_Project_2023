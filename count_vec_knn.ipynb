{
 "cells": [
  {
   "cell_type": "code",
   "execution_count": 1,
   "id": "ab8cae9d",
   "metadata": {},
   "outputs": [],
   "source": [
    "import pandas as pd\n",
    "import numpy as np\n",
    "import seaborn as sns\n",
    "import matplotlib.pyplot as plt\n",
    "%matplotlib inline"
   ]
  },
  {
   "cell_type": "code",
   "execution_count": 2,
   "id": "518f7362",
   "metadata": {},
   "outputs": [],
   "source": [
    "import re    # for regular expressions\n",
    "from string import punctuation\n",
    "from nltk.stem import SnowballStemmer    #if you are brave enough to do stemming\n",
    "from nltk.corpus import stopwords      #if you want to remove stopwords\n",
    "from nltk.tokenize import word_tokenize\n",
    "import string\n",
    "from collections import Counter"
   ]
  },
  {
   "cell_type": "markdown",
   "id": "72c75dae",
   "metadata": {},
   "source": [
    "### Data visualization"
   ]
  },
  {
   "cell_type": "code",
   "execution_count": 3,
   "id": "ebfe51d2",
   "metadata": {},
   "outputs": [
    {
     "data": {
      "text/html": [
       "<div>\n",
       "<style scoped>\n",
       "    .dataframe tbody tr th:only-of-type {\n",
       "        vertical-align: middle;\n",
       "    }\n",
       "\n",
       "    .dataframe tbody tr th {\n",
       "        vertical-align: top;\n",
       "    }\n",
       "\n",
       "    .dataframe thead th {\n",
       "        text-align: right;\n",
       "    }\n",
       "</style>\n",
       "<table border=\"1\" class=\"dataframe\">\n",
       "  <thead>\n",
       "    <tr style=\"text-align: right;\">\n",
       "      <th></th>\n",
       "      <th>id</th>\n",
       "      <th>locale</th>\n",
       "      <th>title</th>\n",
       "      <th>price</th>\n",
       "      <th>brand</th>\n",
       "      <th>color</th>\n",
       "      <th>size</th>\n",
       "      <th>model</th>\n",
       "      <th>material</th>\n",
       "      <th>author</th>\n",
       "      <th>desc</th>\n",
       "    </tr>\n",
       "  </thead>\n",
       "  <tbody>\n",
       "    <tr>\n",
       "      <th>0</th>\n",
       "      <td>B005ZSSN10</td>\n",
       "      <td>DE</td>\n",
       "      <td>RED DRAGON Amberjack 3 - Steel Tip 22 Gramm Wo...</td>\n",
       "      <td>30.95</td>\n",
       "      <td>RED DRAGON</td>\n",
       "      <td>NaN</td>\n",
       "      <td>NaN</td>\n",
       "      <td>RDD0089</td>\n",
       "      <td>NaN</td>\n",
       "      <td>NaN</td>\n",
       "      <td>Amberjacks Steel Dartpfeile sind verfügbar in ...</td>\n",
       "    </tr>\n",
       "    <tr>\n",
       "      <th>1</th>\n",
       "      <td>B08PRYN6LD</td>\n",
       "      <td>DE</td>\n",
       "      <td>Simply Keto Lower Carb* Schokodrops ohne Zucke...</td>\n",
       "      <td>17.90</td>\n",
       "      <td>Simply Keto</td>\n",
       "      <td>NaN</td>\n",
       "      <td>750 g (1er Pack)</td>\n",
       "      <td>NaN</td>\n",
       "      <td>NaN</td>\n",
       "      <td>NaN</td>\n",
       "      <td>🌱 NATÜRLICHE SÜSSE DURCH ERYTHRIT - Wir stelle...</td>\n",
       "    </tr>\n",
       "    <tr>\n",
       "      <th>2</th>\n",
       "      <td>B09MBZJ48V</td>\n",
       "      <td>DE</td>\n",
       "      <td>Sennheiser 508377 PC 5.2 Chat, Stilvolles Mult...</td>\n",
       "      <td>68.89</td>\n",
       "      <td>Sennheiser</td>\n",
       "      <td>Multi-Colour</td>\n",
       "      <td>One size</td>\n",
       "      <td>508377</td>\n",
       "      <td>Kunstleder</td>\n",
       "      <td>NaN</td>\n",
       "      <td>3.5 MM BUCHSE - Kann problemlos an Geräte mit ...</td>\n",
       "    </tr>\n",
       "    <tr>\n",
       "      <th>3</th>\n",
       "      <td>B08ZN6F26S</td>\n",
       "      <td>DE</td>\n",
       "      <td>AmyBenton Auto ab 1 2 3 ahre - Baby Aufziehbar...</td>\n",
       "      <td>18.99</td>\n",
       "      <td>Amy &amp; Benton</td>\n",
       "      <td>Animal Car</td>\n",
       "      <td>NaN</td>\n",
       "      <td>2008B</td>\n",
       "      <td>aufziehauto 1 jahr</td>\n",
       "      <td>NaN</td>\n",
       "      <td>【Auto aufziehbar】: Drücken Sie einfach leicht ...</td>\n",
       "    </tr>\n",
       "    <tr>\n",
       "      <th>4</th>\n",
       "      <td>B094DGRV7D</td>\n",
       "      <td>DE</td>\n",
       "      <td>PLAYMOBIL - 70522 - Cavaliere mit grauem Pony</td>\n",
       "      <td>7.17</td>\n",
       "      <td>PLAYMOBIL</td>\n",
       "      <td>Nicht Zutreffend.</td>\n",
       "      <td>OneSize</td>\n",
       "      <td>70522</td>\n",
       "      <td>Polypropylen</td>\n",
       "      <td>NaN</td>\n",
       "      <td>Inhalt: 1 Stück</td>\n",
       "    </tr>\n",
       "  </tbody>\n",
       "</table>\n",
       "</div>"
      ],
      "text/plain": [
       "           id locale                                              title  \\\n",
       "0  B005ZSSN10     DE  RED DRAGON Amberjack 3 - Steel Tip 22 Gramm Wo...   \n",
       "1  B08PRYN6LD     DE  Simply Keto Lower Carb* Schokodrops ohne Zucke...   \n",
       "2  B09MBZJ48V     DE  Sennheiser 508377 PC 5.2 Chat, Stilvolles Mult...   \n",
       "3  B08ZN6F26S     DE  AmyBenton Auto ab 1 2 3 ahre - Baby Aufziehbar...   \n",
       "4  B094DGRV7D     DE      PLAYMOBIL - 70522 - Cavaliere mit grauem Pony   \n",
       "\n",
       "   price         brand              color              size    model  \\\n",
       "0  30.95    RED DRAGON                NaN               NaN  RDD0089   \n",
       "1  17.90   Simply Keto                NaN  750 g (1er Pack)      NaN   \n",
       "2  68.89    Sennheiser       Multi-Colour          One size   508377   \n",
       "3  18.99  Amy & Benton         Animal Car               NaN    2008B   \n",
       "4   7.17     PLAYMOBIL  Nicht Zutreffend.           OneSize    70522   \n",
       "\n",
       "             material author  \\\n",
       "0                 NaN    NaN   \n",
       "1                 NaN    NaN   \n",
       "2          Kunstleder    NaN   \n",
       "3  aufziehauto 1 jahr    NaN   \n",
       "4        Polypropylen    NaN   \n",
       "\n",
       "                                                desc  \n",
       "0  Amberjacks Steel Dartpfeile sind verfügbar in ...  \n",
       "1  🌱 NATÜRLICHE SÜSSE DURCH ERYTHRIT - Wir stelle...  \n",
       "2  3.5 MM BUCHSE - Kann problemlos an Geräte mit ...  \n",
       "3  【Auto aufziehbar】: Drücken Sie einfach leicht ...  \n",
       "4                                    Inhalt: 1 Stück  "
      ]
     },
     "execution_count": 3,
     "metadata": {},
     "output_type": "execute_result"
    }
   ],
   "source": [
    "# Import products\n",
    "\n",
    "products = pd.read_csv('products_train.csv')\n",
    "products.head()"
   ]
  },
  {
   "cell_type": "code",
   "execution_count": 4,
   "id": "1560fe91",
   "metadata": {},
   "outputs": [
    {
     "data": {
      "text/html": [
       "<div>\n",
       "<style scoped>\n",
       "    .dataframe tbody tr th:only-of-type {\n",
       "        vertical-align: middle;\n",
       "    }\n",
       "\n",
       "    .dataframe tbody tr th {\n",
       "        vertical-align: top;\n",
       "    }\n",
       "\n",
       "    .dataframe thead th {\n",
       "        text-align: right;\n",
       "    }\n",
       "</style>\n",
       "<table border=\"1\" class=\"dataframe\">\n",
       "  <thead>\n",
       "    <tr style=\"text-align: right;\">\n",
       "      <th></th>\n",
       "      <th>prev_items</th>\n",
       "      <th>next_item</th>\n",
       "      <th>locale</th>\n",
       "    </tr>\n",
       "  </thead>\n",
       "  <tbody>\n",
       "    <tr>\n",
       "      <th>0</th>\n",
       "      <td>['B09W9FND7K' 'B09JSPLN1M']</td>\n",
       "      <td>B09M7GY217</td>\n",
       "      <td>DE</td>\n",
       "    </tr>\n",
       "    <tr>\n",
       "      <th>1</th>\n",
       "      <td>['B076THCGSG' 'B007MO8IME' 'B08MF65MLV' 'B001B...</td>\n",
       "      <td>B001B4THSA</td>\n",
       "      <td>DE</td>\n",
       "    </tr>\n",
       "    <tr>\n",
       "      <th>2</th>\n",
       "      <td>['B0B1LGXWDS' 'B00AZYORS2' 'B0B1LGXWDS' 'B00AZ...</td>\n",
       "      <td>B0767DTG2Q</td>\n",
       "      <td>DE</td>\n",
       "    </tr>\n",
       "    <tr>\n",
       "      <th>3</th>\n",
       "      <td>['B09XMTWDVT' 'B0B4MZZ8MB' 'B0B7HZ2GWX' 'B09XM...</td>\n",
       "      <td>B0B4R9NN4B</td>\n",
       "      <td>DE</td>\n",
       "    </tr>\n",
       "    <tr>\n",
       "      <th>4</th>\n",
       "      <td>['B09Y5CSL3T' 'B09Y5DPTXN' 'B09FKD61R8']</td>\n",
       "      <td>B0BGVBKWGZ</td>\n",
       "      <td>DE</td>\n",
       "    </tr>\n",
       "  </tbody>\n",
       "</table>\n",
       "</div>"
      ],
      "text/plain": [
       "                                          prev_items   next_item locale\n",
       "0                        ['B09W9FND7K' 'B09JSPLN1M']  B09M7GY217     DE\n",
       "1  ['B076THCGSG' 'B007MO8IME' 'B08MF65MLV' 'B001B...  B001B4THSA     DE\n",
       "2  ['B0B1LGXWDS' 'B00AZYORS2' 'B0B1LGXWDS' 'B00AZ...  B0767DTG2Q     DE\n",
       "3  ['B09XMTWDVT' 'B0B4MZZ8MB' 'B0B7HZ2GWX' 'B09XM...  B0B4R9NN4B     DE\n",
       "4           ['B09Y5CSL3T' 'B09Y5DPTXN' 'B09FKD61R8']  B0BGVBKWGZ     DE"
      ]
     },
     "execution_count": 4,
     "metadata": {},
     "output_type": "execute_result"
    }
   ],
   "source": [
    "# Import sessions\n",
    "\n",
    "sessions = pd.read_csv('sessions_train.csv')\n",
    "sessions.head()"
   ]
  },
  {
   "cell_type": "code",
   "execution_count": 5,
   "id": "6026237f",
   "metadata": {},
   "outputs": [],
   "source": [
    "sessions_eng = sessions[sessions['locale']=='UK']"
   ]
  },
  {
   "cell_type": "code",
   "execution_count": 6,
   "id": "303429a8",
   "metadata": {},
   "outputs": [
    {
     "data": {
      "text/plain": [
       "(1182181, 3)"
      ]
     },
     "execution_count": 6,
     "metadata": {},
     "output_type": "execute_result"
    }
   ],
   "source": [
    "sessions_eng.shape"
   ]
  },
  {
   "cell_type": "code",
   "execution_count": 7,
   "id": "c208913c",
   "metadata": {},
   "outputs": [],
   "source": [
    "def clean_items(text):\n",
    "\n",
    "    text = text[1:-1]\n",
    "    text = re.findall(r\"'([^']*)'\", text)\n",
    "\n",
    "    return text"
   ]
  },
  {
   "cell_type": "code",
   "execution_count": 8,
   "id": "5b640fef",
   "metadata": {},
   "outputs": [
    {
     "name": "stderr",
     "output_type": "stream",
     "text": [
      "C:\\Users\\Dacia Logan\\AppData\\Local\\Temp\\ipykernel_10992\\932254714.py:1: SettingWithCopyWarning: \n",
      "A value is trying to be set on a copy of a slice from a DataFrame.\n",
      "Try using .loc[row_indexer,col_indexer] = value instead\n",
      "\n",
      "See the caveats in the documentation: https://pandas.pydata.org/pandas-docs/stable/user_guide/indexing.html#returning-a-view-versus-a-copy\n",
      "  sessions_eng['prev_items'] = sessions_eng['prev_items'].apply(clean_items)\n"
     ]
    }
   ],
   "source": [
    "sessions_eng['prev_items'] = sessions_eng['prev_items'].apply(clean_items)"
   ]
  },
  {
   "cell_type": "code",
   "execution_count": 9,
   "id": "c350a1be",
   "metadata": {},
   "outputs": [],
   "source": [
    "interacted_items = list(sessions_eng['prev_items'])\n",
    "# interacted_items"
   ]
  },
  {
   "cell_type": "code",
   "execution_count": 10,
   "id": "b92ca3ca",
   "metadata": {},
   "outputs": [],
   "source": [
    "unique_items = list(set(i for j in interacted_items for i in j))\n",
    "# unique_items"
   ]
  },
  {
   "cell_type": "code",
   "execution_count": 11,
   "id": "2fc17e4c",
   "metadata": {},
   "outputs": [
    {
     "data": {
      "text/plain": [
       "470148"
      ]
     },
     "execution_count": 11,
     "metadata": {},
     "output_type": "execute_result"
    }
   ],
   "source": [
    "len(unique_items)"
   ]
  },
  {
   "cell_type": "code",
   "execution_count": 12,
   "id": "fa41426d",
   "metadata": {},
   "outputs": [
    {
     "data": {
      "text/plain": [
       "array(['DE', 'JP', 'UK', 'ES', 'FR', 'IT'], dtype=object)"
      ]
     },
     "execution_count": 12,
     "metadata": {},
     "output_type": "execute_result"
    }
   ],
   "source": [
    "# Check unique locations\n",
    "\n",
    "products['locale'].unique()"
   ]
  },
  {
   "cell_type": "code",
   "execution_count": 13,
   "id": "591c5373",
   "metadata": {},
   "outputs": [],
   "source": [
    "# Exctract the English products only (UK)\n",
    "\n",
    "products_eng = products[products['locale']=='UK']"
   ]
  },
  {
   "cell_type": "code",
   "execution_count": 14,
   "id": "6e89173f",
   "metadata": {},
   "outputs": [],
   "source": [
    "products_eng = products_eng[products_eng['id'].isin(unique_items)]"
   ]
  },
  {
   "cell_type": "markdown",
   "id": "4accb8a0",
   "metadata": {},
   "source": [
    "We see that we have more items than distinct sessions"
   ]
  },
  {
   "cell_type": "markdown",
   "id": "0139a011",
   "metadata": {},
   "source": [
    "### Clean"
   ]
  },
  {
   "cell_type": "code",
   "execution_count": 16,
   "id": "a24a5c37",
   "metadata": {},
   "outputs": [],
   "source": [
    "import re\n",
    "import nltk"
   ]
  },
  {
   "cell_type": "code",
   "execution_count": 17,
   "id": "0859796d",
   "metadata": {},
   "outputs": [],
   "source": [
    "titles = np.array(products_eng['title'])\n",
    "titles = \" \".join(titles)"
   ]
  },
  {
   "cell_type": "code",
   "execution_count": 18,
   "id": "dd5c4b9d",
   "metadata": {},
   "outputs": [],
   "source": [
    "words = re.findall(r'\\w+', titles)"
   ]
  },
  {
   "cell_type": "code",
   "execution_count": 19,
   "id": "967ab3d2",
   "metadata": {},
   "outputs": [],
   "source": [
    "word_counter = Counter(words)"
   ]
  },
  {
   "cell_type": "code",
   "execution_count": 20,
   "id": "0ef27d51",
   "metadata": {},
   "outputs": [],
   "source": [
    "word_frequencies = np.array(list(word_counter.values()))"
   ]
  },
  {
   "cell_type": "code",
   "execution_count": 21,
   "id": "b677edbc",
   "metadata": {},
   "outputs": [
    {
     "data": {
      "text/plain": [
       "array([1., 1., 2.])"
      ]
     },
     "execution_count": 21,
     "metadata": {},
     "output_type": "execute_result"
    }
   ],
   "source": [
    "word_quartiles = np.quantile(word_frequencies, [0,.45,0.5])\n",
    "word_quartiles"
   ]
  },
  {
   "cell_type": "code",
   "execution_count": 22,
   "id": "3882d158",
   "metadata": {},
   "outputs": [
    {
     "data": {
      "text/plain": [
       "176991"
      ]
     },
     "execution_count": 22,
     "metadata": {},
     "output_type": "execute_result"
    }
   ],
   "source": [
    "len(word_frequencies)"
   ]
  },
  {
   "cell_type": "code",
   "execution_count": 23,
   "id": "ec6f4f10",
   "metadata": {},
   "outputs": [],
   "source": [
    "word_freq_2_more = [k for k,v in word_counter.items() if float(v) >= 2]"
   ]
  },
  {
   "cell_type": "code",
   "execution_count": 24,
   "id": "b1fc99d6",
   "metadata": {},
   "outputs": [
    {
     "data": {
      "text/plain": [
       "94355"
      ]
     },
     "execution_count": 24,
     "metadata": {},
     "output_type": "execute_result"
    }
   ],
   "source": [
    "len(word_freq_2_more)"
   ]
  },
  {
   "cell_type": "code",
   "execution_count": 25,
   "id": "a70a0d9f",
   "metadata": {},
   "outputs": [],
   "source": [
    "big_count = 0\n",
    "\n",
    "def clean(text, stem_words=True):\n",
    "    \n",
    "#     text = re.sub('(?<=[0-9])\\,(?=[0-9])', \"\", text)\n",
    "#     print(text)\n",
    "#     text = re.sub('^(?!.[a-zA-Z])(?!.\\d)[a-zA-Z0-9]+$', \"\", text)\n",
    "    text = re.findall(r'\\b(?:[a-zA-Z]+|\\d+)\\b', text)\n",
    "\n",
    "    new_text = []\n",
    "    for word in text:\n",
    "        if word_counter[word] > 1:\n",
    "            new_text.append(word)\n",
    "    text = new_text\n",
    "\n",
    "#     global big_count\n",
    "#     big_count += 1\n",
    "#     print(big_count)\n",
    "    \n",
    "    text = \" \".join(text)\n",
    "    \n",
    "    return text"
   ]
  },
  {
   "cell_type": "code",
   "execution_count": 26,
   "id": "8668f83c",
   "metadata": {},
   "outputs": [],
   "source": [
    "products_eng['title'] = products_eng['title'].apply(clean)"
   ]
  },
  {
   "cell_type": "markdown",
   "id": "53f49b28",
   "metadata": {},
   "source": [
    "### Model creation"
   ]
  },
  {
   "cell_type": "code",
   "execution_count": 27,
   "id": "be84634c",
   "metadata": {},
   "outputs": [],
   "source": [
    "from sklearn.feature_extraction.text import CountVectorizer\n",
    "from sklearn.model_selection import train_test_split\n",
    "from sklearn.metrics.pairwise import linear_kernel\n",
    "from sklearn.metrics.pairwise import cosine_similarity"
   ]
  },
  {
   "cell_type": "markdown",
   "id": "7269918a",
   "metadata": {},
   "source": [
    "Problems:\n",
    "- items with no description\n",
    "\n",
    "Need to do:\n",
    "- normalize text (make undercase, no italic, no bold)"
   ]
  },
  {
   "cell_type": "code",
   "execution_count": 28,
   "id": "0c3da648",
   "metadata": {},
   "outputs": [
    {
     "data": {
      "text/plain": [
       "(470148, 62117)"
      ]
     },
     "execution_count": 28,
     "metadata": {},
     "output_type": "execute_result"
    }
   ],
   "source": [
    "# Train a model that finds similar items based on the title of the items only\n",
    "# https://www.datacamp.com/tutorial/recommender-systems-python\n",
    "\n",
    "#Define a TF-IDF Vectorizer Object. Remove all english stop words such as 'the', 'a'\n",
    "count_vec = CountVectorizer(stop_words='english')\n",
    "\n",
    "# #Replace NaN with an empty string\n",
    "# products_eng['title'] = products_eng['title'].fillna('')\n",
    "\n",
    "#Construct the required TF-IDF matrix by fitting and transforming the data\n",
    "count_vec_matrix = count_vec.fit_transform(products_eng['title'])\n",
    "\n",
    "#Output the shape of tfidf_matrix\n",
    "count_vec_matrix.shape"
   ]
  },
  {
   "cell_type": "code",
   "execution_count": 29,
   "id": "2c0ae9b5",
   "metadata": {},
   "outputs": [],
   "source": [
    "item_index_to_matrix_index = {k: v for v, k in enumerate(products_eng.index)}"
   ]
  },
  {
   "cell_type": "code",
   "execution_count": 30,
   "id": "c0b4a78c",
   "metadata": {},
   "outputs": [],
   "source": [
    "matrix_index_to_item_index = {v: k for k, v in item_index_to_matrix_index.items()}"
   ]
  },
  {
   "cell_type": "code",
   "execution_count": 34,
   "id": "55b6a655",
   "metadata": {},
   "outputs": [],
   "source": [
    "def get_closest_item(item_id, n):\n",
    "    \n",
    "    \"\"\"\n",
    "    Input: id of the item corresponding to the original dataframe\n",
    "    Output: list of top n most similar items, excluding the input item, indexes from the original dataframe\n",
    "    \"\"\"\n",
    "    \n",
    "    matrix_item_id = item_index_to_matrix_index[item_id]\n",
    "    item_vector = count_vec_matrix.getrow(matrix_item_id)\n",
    "    similarity_vector = cosine_similarity(item_vector, count_vec_matrix)[0]\n",
    "    \n",
    "    ind = similarity_vector.argsort()[-(n+1):][::-1]\n",
    "    ind = np.delete(ind, np.where(ind == matrix_item_id))\n",
    "    ind = ind[:n]\n",
    "    \n",
    "    dataframe_idexes = []\n",
    "    similarities = []\n",
    "    \n",
    "    for index in ind:\n",
    "        similarities.append(similarity_vector[index])\n",
    "        dataframe_idexes.append(matrix_index_to_item_index[index])\n",
    "        \n",
    "    return dataframe_idexes, similarities"
   ]
  },
  {
   "cell_type": "code",
   "execution_count": 35,
   "id": "06e75a3c",
   "metadata": {},
   "outputs": [],
   "source": [
    "def get_closest_item(item_id):\n",
    "    \n",
    "    \"\"\"\n",
    "    Input: id of the item corresponding to the original dataframe\n",
    "    Output: list of top n most similar items, excluding the input item, indexes from the original dataframe\n",
    "    \"\"\"\n",
    "    n = 1\n",
    "    \n",
    "    matrix_item_id = item_index_to_matrix_index[item_id]\n",
    "    item_vector = count_vec_matrix.getrow(matrix_item_id)\n",
    "    similarity_vector = linear_kernel(item_vector, count_vec_matrix)[0]\n",
    "    \n",
    "    ind = similarity_vector.argsort()[-2:][::-1]\n",
    "    ind = np.delete(ind, np.where(ind == matrix_item_id))\n",
    "    ind = ind[:1]\n",
    "    \n",
    "    dataframe_idexes = []\n",
    "    similarities = []\n",
    "    \n",
    "    for index in ind:\n",
    "        similarities.append(similarity_vector[index])\n",
    "        dataframe_idexes.append(matrix_index_to_item_index[index])\n",
    "        \n",
    "    return matrix_index_to_item_index[ind[0]]"
   ]
  },
  {
   "cell_type": "code",
   "execution_count": 37,
   "id": "1d75fb2b",
   "metadata": {},
   "outputs": [
    {
     "data": {
      "text/plain": [
       "998562"
      ]
     },
     "execution_count": 37,
     "metadata": {},
     "output_type": "execute_result"
    }
   ],
   "source": [
    "get_closest_item(913340)"
   ]
  },
  {
   "cell_type": "code",
   "execution_count": 42,
   "id": "a191d8e8",
   "metadata": {},
   "outputs": [],
   "source": [
    "# get_closest_item(913336,2)"
   ]
  },
  {
   "cell_type": "markdown",
   "id": "ff91a3a8",
   "metadata": {},
   "source": [
    "### Test recommendations"
   ]
  },
  {
   "cell_type": "code",
   "execution_count": 39,
   "id": "a8b2a7c1",
   "metadata": {},
   "outputs": [],
   "source": [
    "test_sessions_eng = sessions_eng.copy()"
   ]
  },
  {
   "cell_type": "code",
   "execution_count": 40,
   "id": "a377e043",
   "metadata": {},
   "outputs": [],
   "source": [
    "comercial_id_to_title = dict(zip(products_eng.id, products_eng.title))"
   ]
  },
  {
   "cell_type": "code",
   "execution_count": 41,
   "id": "db42599c",
   "metadata": {},
   "outputs": [],
   "source": [
    "def from_commercial_id_to_title(commercial_id):\n",
    "    \n",
    "    if commercial_id not in comercial_id_to_title:\n",
    "        return np.nan\n",
    "        \n",
    "    dataframe_row = comercial_id_to_title[commercial_id]\n",
    "    dataframe_row\n",
    "    \n",
    "    return dataframe_row"
   ]
  },
  {
   "cell_type": "code",
   "execution_count": 43,
   "id": "95ee476a",
   "metadata": {},
   "outputs": [],
   "source": [
    "test_sessions_eng['next_item'] = test_sessions_eng['next_item'].apply(from_commercial_id_to_title)"
   ]
  },
  {
   "cell_type": "code",
   "execution_count": 44,
   "id": "43614576",
   "metadata": {},
   "outputs": [
    {
     "data": {
      "text/html": [
       "<div>\n",
       "<style scoped>\n",
       "    .dataframe tbody tr th:only-of-type {\n",
       "        vertical-align: middle;\n",
       "    }\n",
       "\n",
       "    .dataframe tbody tr th {\n",
       "        vertical-align: top;\n",
       "    }\n",
       "\n",
       "    .dataframe thead th {\n",
       "        text-align: right;\n",
       "    }\n",
       "</style>\n",
       "<table border=\"1\" class=\"dataframe\">\n",
       "  <thead>\n",
       "    <tr style=\"text-align: right;\">\n",
       "      <th></th>\n",
       "      <th>prev_items</th>\n",
       "      <th>next_item</th>\n",
       "      <th>locale</th>\n",
       "    </tr>\n",
       "  </thead>\n",
       "  <tbody>\n",
       "    <tr>\n",
       "      <th>2090535</th>\n",
       "      <td>[B0BFDL54Y7, B0BFDR9X13, B07J4WF8VH, B07Y21LDJX]</td>\n",
       "      <td>ADOV Vegetable Chopper 14 in 1 Multi Function ...</td>\n",
       "      <td>UK</td>\n",
       "    </tr>\n",
       "    <tr>\n",
       "      <th>2090536</th>\n",
       "      <td>[B07FM2GLNQ, B07GZW3P4W]</td>\n",
       "      <td>Bedsure White Voile Sheer Curtains 2 Panels Wi...</td>\n",
       "      <td>UK</td>\n",
       "    </tr>\n",
       "    <tr>\n",
       "      <th>2090537</th>\n",
       "      <td>[B0021L95HU, B07DDL77RY, B07DDL77RY]</td>\n",
       "      <td>Seven Seas Omega 3 FISH Oil Plus Cod Liver Oil...</td>\n",
       "      <td>UK</td>\n",
       "    </tr>\n",
       "    <tr>\n",
       "      <th>2090538</th>\n",
       "      <td>[B0B2WSZYL2, B000I8XZ7O]</td>\n",
       "      <td>Rubie s Official Halloween Haunted House Skele...</td>\n",
       "      <td>UK</td>\n",
       "    </tr>\n",
       "    <tr>\n",
       "      <th>2090539</th>\n",
       "      <td>[B00LW1APOC, B00LW1APOC, B00OI6NQUI, B09HLDN8W1]</td>\n",
       "      <td>Command Assorted Picture Hanging Strips White ...</td>\n",
       "      <td>UK</td>\n",
       "    </tr>\n",
       "    <tr>\n",
       "      <th>...</th>\n",
       "      <td>...</td>\n",
       "      <td>...</td>\n",
       "      <td>...</td>\n",
       "    </tr>\n",
       "    <tr>\n",
       "      <th>3272711</th>\n",
       "      <td>[B06XK89969, B01NGT5NF4, B00D5Z89C8, B07ZVGCHR...</td>\n",
       "      <td>MYCARBON Travel Money Belt RFID Against Invisi...</td>\n",
       "      <td>UK</td>\n",
       "    </tr>\n",
       "    <tr>\n",
       "      <th>3272712</th>\n",
       "      <td>[B076M85W1K, B07L8792Q9, B095RW318L, B095RVVX9T]</td>\n",
       "      <td>Laptop Backpack Womens 15 6 Inch School Bag wi...</td>\n",
       "      <td>UK</td>\n",
       "    </tr>\n",
       "    <tr>\n",
       "      <th>3272713</th>\n",
       "      <td>[B00JQDIQRQ, B001O59QQE]</td>\n",
       "      <td>Zinc Carbon Triple AAA Batteries 1 Heavy Duty ...</td>\n",
       "      <td>UK</td>\n",
       "    </tr>\n",
       "    <tr>\n",
       "      <th>3272714</th>\n",
       "      <td>[B07QMHMLJZ, B07FPYYMC4]</td>\n",
       "      <td>El Malbec Argentinian Red Wine 1 x</td>\n",
       "      <td>UK</td>\n",
       "    </tr>\n",
       "    <tr>\n",
       "      <th>3272715</th>\n",
       "      <td>[B06XC9TW57, B08WYQ4S11]</td>\n",
       "      <td>Lepro WiFi Smart Bulb RGB and Warm to Cool Whi...</td>\n",
       "      <td>UK</td>\n",
       "    </tr>\n",
       "  </tbody>\n",
       "</table>\n",
       "<p>1182181 rows × 3 columns</p>\n",
       "</div>"
      ],
      "text/plain": [
       "                                                prev_items  \\\n",
       "2090535   [B0BFDL54Y7, B0BFDR9X13, B07J4WF8VH, B07Y21LDJX]   \n",
       "2090536                           [B07FM2GLNQ, B07GZW3P4W]   \n",
       "2090537               [B0021L95HU, B07DDL77RY, B07DDL77RY]   \n",
       "2090538                           [B0B2WSZYL2, B000I8XZ7O]   \n",
       "2090539   [B00LW1APOC, B00LW1APOC, B00OI6NQUI, B09HLDN8W1]   \n",
       "...                                                    ...   \n",
       "3272711  [B06XK89969, B01NGT5NF4, B00D5Z89C8, B07ZVGCHR...   \n",
       "3272712   [B076M85W1K, B07L8792Q9, B095RW318L, B095RVVX9T]   \n",
       "3272713                           [B00JQDIQRQ, B001O59QQE]   \n",
       "3272714                           [B07QMHMLJZ, B07FPYYMC4]   \n",
       "3272715                           [B06XC9TW57, B08WYQ4S11]   \n",
       "\n",
       "                                                 next_item locale  \n",
       "2090535  ADOV Vegetable Chopper 14 in 1 Multi Function ...     UK  \n",
       "2090536  Bedsure White Voile Sheer Curtains 2 Panels Wi...     UK  \n",
       "2090537  Seven Seas Omega 3 FISH Oil Plus Cod Liver Oil...     UK  \n",
       "2090538  Rubie s Official Halloween Haunted House Skele...     UK  \n",
       "2090539  Command Assorted Picture Hanging Strips White ...     UK  \n",
       "...                                                    ...    ...  \n",
       "3272711  MYCARBON Travel Money Belt RFID Against Invisi...     UK  \n",
       "3272712  Laptop Backpack Womens 15 6 Inch School Bag wi...     UK  \n",
       "3272713  Zinc Carbon Triple AAA Batteries 1 Heavy Duty ...     UK  \n",
       "3272714                 El Malbec Argentinian Red Wine 1 x     UK  \n",
       "3272715  Lepro WiFi Smart Bulb RGB and Warm to Cool Whi...     UK  \n",
       "\n",
       "[1182181 rows x 3 columns]"
      ]
     },
     "execution_count": 44,
     "metadata": {},
     "output_type": "execute_result"
    }
   ],
   "source": [
    "test_sessions_eng"
   ]
  },
  {
   "cell_type": "code",
   "execution_count": 45,
   "id": "3c1e7d14",
   "metadata": {},
   "outputs": [],
   "source": [
    "item_index_to_item_commercial_id = dict(zip(products_eng.index, products_eng.id))"
   ]
  },
  {
   "cell_type": "code",
   "execution_count": 46,
   "id": "917b30d1",
   "metadata": {},
   "outputs": [],
   "source": [
    "item_commercial_id_to_item_index = {v: k for k, v in item_index_to_item_commercial_id.items()}"
   ]
  },
  {
   "cell_type": "code",
   "execution_count": 47,
   "id": "87360551",
   "metadata": {},
   "outputs": [],
   "source": [
    "def recommend_most_similar_for_last_item(item_list):\n",
    "    \n",
    "    last_item_commercial_id = item_list[-1]\n",
    "    last_item_commercial_index = item_commercial_id_to_item_index[last_item_commercial_id]\n",
    "#     recommended_items = get_closest_item(last_item_commercial_index, 1)\n",
    "#     recommended_items = [[913336]]\n",
    "#     recommended_items = recommended_items[0][0]\n",
    "    recommended_items = get_closest_item(last_item_commercial_index)\n",
    "    recommended_items = item_index_to_item_commercial_id[recommended_items]\n",
    "#     print(recommended_items)\n",
    "    if recommended_items not in comercial_id_to_title:\n",
    "        return np.nan\n",
    "    title = comercial_id_to_title[recommended_items]\n",
    "    \n",
    "    global count\n",
    "    count += 1\n",
    "    print(count, end='\\r')\n",
    "    \n",
    "    return title"
   ]
  },
  {
   "cell_type": "code",
   "execution_count": 155,
   "id": "1d243aed",
   "metadata": {},
   "outputs": [],
   "source": [
    "train_test_sessions_eng, test_test_sessions_eng = train_test_split(test_sessions_eng, train_size=0.001)\n",
    "# train_test_sessions_eng"
   ]
  },
  {
   "cell_type": "code",
   "execution_count": 156,
   "id": "490dacaf",
   "metadata": {},
   "outputs": [
    {
     "name": "stdout",
     "output_type": "stream",
     "text": [
      "1182\r"
     ]
    }
   ],
   "source": [
    "count = 0\n",
    "train_test_sessions_eng['prev_items'] = train_test_sessions_eng['prev_items'].apply(recommend_most_similar_for_last_item)"
   ]
  },
  {
   "cell_type": "code",
   "execution_count": 157,
   "id": "1010595a",
   "metadata": {},
   "outputs": [],
   "source": [
    "# train_test_sessions_eng"
   ]
  },
  {
   "cell_type": "code",
   "execution_count": 158,
   "id": "eab6eba8",
   "metadata": {},
   "outputs": [],
   "source": [
    "train_test_sessions_eng.dropna(subset=['next_item'], inplace=True)"
   ]
  },
  {
   "cell_type": "code",
   "execution_count": 159,
   "id": "8ef71ff0",
   "metadata": {},
   "outputs": [],
   "source": [
    "train_test_sessions_eng.dropna(subset=['prev_items'], inplace=True)"
   ]
  },
  {
   "cell_type": "code",
   "execution_count": 160,
   "id": "f3bdfe6b",
   "metadata": {},
   "outputs": [],
   "source": [
    "# train_test_sessions_eng"
   ]
  },
  {
   "cell_type": "code",
   "execution_count": 161,
   "id": "285ce338",
   "metadata": {},
   "outputs": [],
   "source": [
    "from nltk.translate.bleu_score import corpus_bleu"
   ]
  },
  {
   "cell_type": "code",
   "execution_count": 162,
   "id": "8b08b9c6",
   "metadata": {},
   "outputs": [],
   "source": [
    "hypotheses = list(train_test_sessions_eng['prev_items'])\n",
    "hypotheses = [k.split() for k in hypotheses]"
   ]
  },
  {
   "cell_type": "code",
   "execution_count": 163,
   "id": "dcddbd1e",
   "metadata": {},
   "outputs": [],
   "source": [
    "list_of_references = list(train_test_sessions_eng['next_item'])\n",
    "list_of_references = [[k.split()] for k in list_of_references]"
   ]
  },
  {
   "cell_type": "code",
   "execution_count": 164,
   "id": "5240b24b",
   "metadata": {},
   "outputs": [
    {
     "data": {
      "text/plain": [
       "0.13590907594788346"
      ]
     },
     "execution_count": 164,
     "metadata": {},
     "output_type": "execute_result"
    }
   ],
   "source": [
    "corpus_bleu(list_of_references, hypotheses)"
   ]
  },
  {
   "cell_type": "markdown",
   "id": "b7689058",
   "metadata": {},
   "source": [
    "<p>Cosine + whole dataset item x item + 0.001 test set from eng sessions<br><br>\n",
    "    0.1667217510417645<br>\n",
    "    0.1292944371553369<br>\n",
    "    0.13353606283420982<br>\n",
    "    0.14055986577633375<br>\n",
    "    0.14922825335800283<br>\n",
    "    0.14528829389341216<br>\n",
    "    0.14582478358217155<br>\n",
    "    0.12976546254615157<br>\n",
    "    0.14876081250624038<br>\n",
    "    0.13590907594788346<br>\n",
    "</p>"
   ]
  },
  {
   "cell_type": "code",
   "execution_count": 165,
   "id": "a69f6ceb",
   "metadata": {},
   "outputs": [
    {
     "data": {
      "text/plain": [
       "0.14248840000000002"
      ]
     },
     "execution_count": 165,
     "metadata": {},
     "output_type": "execute_result"
    }
   ],
   "source": [
    "(0.166721+0.129294+0.133536+0.140559+0.149228+0.145288+0.145824+0.129765+0.148760+0.135909)/10"
   ]
  }
 ],
 "metadata": {
  "kernelspec": {
   "display_name": "Python 3 (ipykernel)",
   "language": "python",
   "name": "python3"
  },
  "language_info": {
   "codemirror_mode": {
    "name": "ipython",
    "version": 3
   },
   "file_extension": ".py",
   "mimetype": "text/x-python",
   "name": "python",
   "nbconvert_exporter": "python",
   "pygments_lexer": "ipython3",
   "version": "3.9.7"
  }
 },
 "nbformat": 4,
 "nbformat_minor": 5
}
