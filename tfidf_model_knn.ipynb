{
 "cells": [
  {
   "cell_type": "code",
   "execution_count": 31,
   "id": "ab8cae9d",
   "metadata": {},
   "outputs": [],
   "source": [
    "import pandas as pd\n",
    "import numpy as np\n",
    "import seaborn as sns\n",
    "import matplotlib.pyplot as plt\n",
    "%matplotlib inline"
   ]
  },
  {
   "cell_type": "code",
   "execution_count": 32,
   "id": "518f7362",
   "metadata": {},
   "outputs": [],
   "source": [
    "import re    # for regular expressions\n",
    "from string import punctuation\n",
    "from nltk.stem import SnowballStemmer    #if you are brave enough to do stemming\n",
    "from nltk.corpus import stopwords      #if you want to remove stopwords\n",
    "from nltk.tokenize import word_tokenize\n",
    "import string\n",
    "from collections import Counter"
   ]
  },
  {
   "cell_type": "markdown",
   "id": "72c75dae",
   "metadata": {},
   "source": [
    "### Data visualization"
   ]
  },
  {
   "cell_type": "code",
   "execution_count": 33,
   "id": "ebfe51d2",
   "metadata": {},
   "outputs": [
    {
     "data": {
      "text/html": [
       "<div>\n",
       "<style scoped>\n",
       "    .dataframe tbody tr th:only-of-type {\n",
       "        vertical-align: middle;\n",
       "    }\n",
       "\n",
       "    .dataframe tbody tr th {\n",
       "        vertical-align: top;\n",
       "    }\n",
       "\n",
       "    .dataframe thead th {\n",
       "        text-align: right;\n",
       "    }\n",
       "</style>\n",
       "<table border=\"1\" class=\"dataframe\">\n",
       "  <thead>\n",
       "    <tr style=\"text-align: right;\">\n",
       "      <th></th>\n",
       "      <th>id</th>\n",
       "      <th>locale</th>\n",
       "      <th>title</th>\n",
       "      <th>price</th>\n",
       "      <th>brand</th>\n",
       "      <th>color</th>\n",
       "      <th>size</th>\n",
       "      <th>model</th>\n",
       "      <th>material</th>\n",
       "      <th>author</th>\n",
       "      <th>desc</th>\n",
       "    </tr>\n",
       "  </thead>\n",
       "  <tbody>\n",
       "    <tr>\n",
       "      <th>0</th>\n",
       "      <td>B005ZSSN10</td>\n",
       "      <td>DE</td>\n",
       "      <td>RED DRAGON Amberjack 3 - Steel Tip 22 Gramm Wo...</td>\n",
       "      <td>30.95</td>\n",
       "      <td>RED DRAGON</td>\n",
       "      <td>NaN</td>\n",
       "      <td>NaN</td>\n",
       "      <td>RDD0089</td>\n",
       "      <td>NaN</td>\n",
       "      <td>NaN</td>\n",
       "      <td>Amberjacks Steel Dartpfeile sind verfügbar in ...</td>\n",
       "    </tr>\n",
       "    <tr>\n",
       "      <th>1</th>\n",
       "      <td>B08PRYN6LD</td>\n",
       "      <td>DE</td>\n",
       "      <td>Simply Keto Lower Carb* Schokodrops ohne Zucke...</td>\n",
       "      <td>17.90</td>\n",
       "      <td>Simply Keto</td>\n",
       "      <td>NaN</td>\n",
       "      <td>750 g (1er Pack)</td>\n",
       "      <td>NaN</td>\n",
       "      <td>NaN</td>\n",
       "      <td>NaN</td>\n",
       "      <td>🌱 NATÜRLICHE SÜSSE DURCH ERYTHRIT - Wir stelle...</td>\n",
       "    </tr>\n",
       "    <tr>\n",
       "      <th>2</th>\n",
       "      <td>B09MBZJ48V</td>\n",
       "      <td>DE</td>\n",
       "      <td>Sennheiser 508377 PC 5.2 Chat, Stilvolles Mult...</td>\n",
       "      <td>68.89</td>\n",
       "      <td>Sennheiser</td>\n",
       "      <td>Multi-Colour</td>\n",
       "      <td>One size</td>\n",
       "      <td>508377</td>\n",
       "      <td>Kunstleder</td>\n",
       "      <td>NaN</td>\n",
       "      <td>3.5 MM BUCHSE - Kann problemlos an Geräte mit ...</td>\n",
       "    </tr>\n",
       "    <tr>\n",
       "      <th>3</th>\n",
       "      <td>B08ZN6F26S</td>\n",
       "      <td>DE</td>\n",
       "      <td>AmyBenton Auto ab 1 2 3 ahre - Baby Aufziehbar...</td>\n",
       "      <td>18.99</td>\n",
       "      <td>Amy &amp; Benton</td>\n",
       "      <td>Animal Car</td>\n",
       "      <td>NaN</td>\n",
       "      <td>2008B</td>\n",
       "      <td>aufziehauto 1 jahr</td>\n",
       "      <td>NaN</td>\n",
       "      <td>【Auto aufziehbar】: Drücken Sie einfach leicht ...</td>\n",
       "    </tr>\n",
       "    <tr>\n",
       "      <th>4</th>\n",
       "      <td>B094DGRV7D</td>\n",
       "      <td>DE</td>\n",
       "      <td>PLAYMOBIL - 70522 - Cavaliere mit grauem Pony</td>\n",
       "      <td>7.17</td>\n",
       "      <td>PLAYMOBIL</td>\n",
       "      <td>Nicht Zutreffend.</td>\n",
       "      <td>OneSize</td>\n",
       "      <td>70522</td>\n",
       "      <td>Polypropylen</td>\n",
       "      <td>NaN</td>\n",
       "      <td>Inhalt: 1 Stück</td>\n",
       "    </tr>\n",
       "  </tbody>\n",
       "</table>\n",
       "</div>"
      ],
      "text/plain": [
       "           id locale                                              title  \\\n",
       "0  B005ZSSN10     DE  RED DRAGON Amberjack 3 - Steel Tip 22 Gramm Wo...   \n",
       "1  B08PRYN6LD     DE  Simply Keto Lower Carb* Schokodrops ohne Zucke...   \n",
       "2  B09MBZJ48V     DE  Sennheiser 508377 PC 5.2 Chat, Stilvolles Mult...   \n",
       "3  B08ZN6F26S     DE  AmyBenton Auto ab 1 2 3 ahre - Baby Aufziehbar...   \n",
       "4  B094DGRV7D     DE      PLAYMOBIL - 70522 - Cavaliere mit grauem Pony   \n",
       "\n",
       "   price         brand              color              size    model  \\\n",
       "0  30.95    RED DRAGON                NaN               NaN  RDD0089   \n",
       "1  17.90   Simply Keto                NaN  750 g (1er Pack)      NaN   \n",
       "2  68.89    Sennheiser       Multi-Colour          One size   508377   \n",
       "3  18.99  Amy & Benton         Animal Car               NaN    2008B   \n",
       "4   7.17     PLAYMOBIL  Nicht Zutreffend.           OneSize    70522   \n",
       "\n",
       "             material author  \\\n",
       "0                 NaN    NaN   \n",
       "1                 NaN    NaN   \n",
       "2          Kunstleder    NaN   \n",
       "3  aufziehauto 1 jahr    NaN   \n",
       "4        Polypropylen    NaN   \n",
       "\n",
       "                                                desc  \n",
       "0  Amberjacks Steel Dartpfeile sind verfügbar in ...  \n",
       "1  🌱 NATÜRLICHE SÜSSE DURCH ERYTHRIT - Wir stelle...  \n",
       "2  3.5 MM BUCHSE - Kann problemlos an Geräte mit ...  \n",
       "3  【Auto aufziehbar】: Drücken Sie einfach leicht ...  \n",
       "4                                    Inhalt: 1 Stück  "
      ]
     },
     "execution_count": 33,
     "metadata": {},
     "output_type": "execute_result"
    }
   ],
   "source": [
    "# Import products\n",
    "\n",
    "products = pd.read_csv('products_train.csv')\n",
    "products.head()"
   ]
  },
  {
   "cell_type": "code",
   "execution_count": 34,
   "id": "1560fe91",
   "metadata": {},
   "outputs": [
    {
     "data": {
      "text/html": [
       "<div>\n",
       "<style scoped>\n",
       "    .dataframe tbody tr th:only-of-type {\n",
       "        vertical-align: middle;\n",
       "    }\n",
       "\n",
       "    .dataframe tbody tr th {\n",
       "        vertical-align: top;\n",
       "    }\n",
       "\n",
       "    .dataframe thead th {\n",
       "        text-align: right;\n",
       "    }\n",
       "</style>\n",
       "<table border=\"1\" class=\"dataframe\">\n",
       "  <thead>\n",
       "    <tr style=\"text-align: right;\">\n",
       "      <th></th>\n",
       "      <th>prev_items</th>\n",
       "      <th>next_item</th>\n",
       "      <th>locale</th>\n",
       "    </tr>\n",
       "  </thead>\n",
       "  <tbody>\n",
       "    <tr>\n",
       "      <th>0</th>\n",
       "      <td>['B09W9FND7K' 'B09JSPLN1M']</td>\n",
       "      <td>B09M7GY217</td>\n",
       "      <td>DE</td>\n",
       "    </tr>\n",
       "    <tr>\n",
       "      <th>1</th>\n",
       "      <td>['B076THCGSG' 'B007MO8IME' 'B08MF65MLV' 'B001B...</td>\n",
       "      <td>B001B4THSA</td>\n",
       "      <td>DE</td>\n",
       "    </tr>\n",
       "    <tr>\n",
       "      <th>2</th>\n",
       "      <td>['B0B1LGXWDS' 'B00AZYORS2' 'B0B1LGXWDS' 'B00AZ...</td>\n",
       "      <td>B0767DTG2Q</td>\n",
       "      <td>DE</td>\n",
       "    </tr>\n",
       "    <tr>\n",
       "      <th>3</th>\n",
       "      <td>['B09XMTWDVT' 'B0B4MZZ8MB' 'B0B7HZ2GWX' 'B09XM...</td>\n",
       "      <td>B0B4R9NN4B</td>\n",
       "      <td>DE</td>\n",
       "    </tr>\n",
       "    <tr>\n",
       "      <th>4</th>\n",
       "      <td>['B09Y5CSL3T' 'B09Y5DPTXN' 'B09FKD61R8']</td>\n",
       "      <td>B0BGVBKWGZ</td>\n",
       "      <td>DE</td>\n",
       "    </tr>\n",
       "  </tbody>\n",
       "</table>\n",
       "</div>"
      ],
      "text/plain": [
       "                                          prev_items   next_item locale\n",
       "0                        ['B09W9FND7K' 'B09JSPLN1M']  B09M7GY217     DE\n",
       "1  ['B076THCGSG' 'B007MO8IME' 'B08MF65MLV' 'B001B...  B001B4THSA     DE\n",
       "2  ['B0B1LGXWDS' 'B00AZYORS2' 'B0B1LGXWDS' 'B00AZ...  B0767DTG2Q     DE\n",
       "3  ['B09XMTWDVT' 'B0B4MZZ8MB' 'B0B7HZ2GWX' 'B09XM...  B0B4R9NN4B     DE\n",
       "4           ['B09Y5CSL3T' 'B09Y5DPTXN' 'B09FKD61R8']  B0BGVBKWGZ     DE"
      ]
     },
     "execution_count": 34,
     "metadata": {},
     "output_type": "execute_result"
    }
   ],
   "source": [
    "# Import sessions\n",
    "\n",
    "sessions = pd.read_csv('sessions_train.csv')\n",
    "sessions.head()"
   ]
  },
  {
   "cell_type": "code",
   "execution_count": 35,
   "id": "c11a7f04",
   "metadata": {},
   "outputs": [],
   "source": [
    "# temp_session = sessions.copy()"
   ]
  },
  {
   "cell_type": "code",
   "execution_count": 36,
   "id": "6026237f",
   "metadata": {},
   "outputs": [],
   "source": [
    "sessions_eng = sessions[sessions['locale']=='UK']"
   ]
  },
  {
   "cell_type": "code",
   "execution_count": 37,
   "id": "16cd77f7",
   "metadata": {},
   "outputs": [
    {
     "data": {
      "text/plain": [
       "(1182181, 3)"
      ]
     },
     "execution_count": 37,
     "metadata": {},
     "output_type": "execute_result"
    }
   ],
   "source": [
    "sessions_eng.shape"
   ]
  },
  {
   "cell_type": "code",
   "execution_count": 7,
   "id": "c208913c",
   "metadata": {},
   "outputs": [],
   "source": [
    "def clean_items(text):\n",
    "\n",
    "    text = text[1:-1]\n",
    "    text = re.findall(r\"'([^']*)'\", text)\n",
    "\n",
    "    return text"
   ]
  },
  {
   "cell_type": "code",
   "execution_count": 8,
   "id": "5b640fef",
   "metadata": {},
   "outputs": [
    {
     "name": "stderr",
     "output_type": "stream",
     "text": [
      "C:\\Users\\Dacia Logan\\AppData\\Local\\Temp\\ipykernel_13548\\932254714.py:1: SettingWithCopyWarning: \n",
      "A value is trying to be set on a copy of a slice from a DataFrame.\n",
      "Try using .loc[row_indexer,col_indexer] = value instead\n",
      "\n",
      "See the caveats in the documentation: https://pandas.pydata.org/pandas-docs/stable/user_guide/indexing.html#returning-a-view-versus-a-copy\n",
      "  sessions_eng['prev_items'] = sessions_eng['prev_items'].apply(clean_items)\n"
     ]
    }
   ],
   "source": [
    "sessions_eng['prev_items'] = sessions_eng['prev_items'].apply(clean_items)"
   ]
  },
  {
   "cell_type": "code",
   "execution_count": 9,
   "id": "c350a1be",
   "metadata": {},
   "outputs": [],
   "source": [
    "interacted_items = list(sessions_eng['prev_items'])\n",
    "# interacted_items"
   ]
  },
  {
   "cell_type": "code",
   "execution_count": 10,
   "id": "b92ca3ca",
   "metadata": {},
   "outputs": [],
   "source": [
    "unique_items = list(set(i for j in interacted_items for i in j))\n",
    "# unique_items"
   ]
  },
  {
   "cell_type": "code",
   "execution_count": 11,
   "id": "2fc17e4c",
   "metadata": {},
   "outputs": [
    {
     "data": {
      "text/plain": [
       "470148"
      ]
     },
     "execution_count": 11,
     "metadata": {},
     "output_type": "execute_result"
    }
   ],
   "source": [
    "len(unique_items)"
   ]
  },
  {
   "cell_type": "code",
   "execution_count": 12,
   "id": "fa41426d",
   "metadata": {},
   "outputs": [
    {
     "data": {
      "text/plain": [
       "array(['DE', 'JP', 'UK', 'ES', 'FR', 'IT'], dtype=object)"
      ]
     },
     "execution_count": 12,
     "metadata": {},
     "output_type": "execute_result"
    }
   ],
   "source": [
    "# Check unique locations\n",
    "\n",
    "products['locale'].unique()"
   ]
  },
  {
   "cell_type": "code",
   "execution_count": 13,
   "id": "591c5373",
   "metadata": {},
   "outputs": [],
   "source": [
    "# Exctract the English products only (UK)\n",
    "\n",
    "products_eng = products[products['locale']=='UK']"
   ]
  },
  {
   "cell_type": "code",
   "execution_count": 14,
   "id": "6e89173f",
   "metadata": {},
   "outputs": [],
   "source": [
    "products_eng = products_eng[products_eng['id'].isin(unique_items)]"
   ]
  },
  {
   "cell_type": "code",
   "execution_count": 15,
   "id": "27449200",
   "metadata": {},
   "outputs": [],
   "source": [
    "# from sklearn.model_selection import train_test_split"
   ]
  },
  {
   "cell_type": "code",
   "execution_count": 16,
   "id": "2e0533f7",
   "metadata": {},
   "outputs": [],
   "source": [
    "# products_eng_used, products_eng_unused = train_test_split(products_eng, train_size=0.5, random_state=42)"
   ]
  },
  {
   "cell_type": "code",
   "execution_count": 17,
   "id": "e3f17ccf",
   "metadata": {},
   "outputs": [],
   "source": [
    "# Check the number of products in the English set\n",
    "\n",
    "# products_eng.size"
   ]
  },
  {
   "cell_type": "code",
   "execution_count": 18,
   "id": "e131d59a",
   "metadata": {},
   "outputs": [],
   "source": [
    "# Exctract the English sessions only (UK)\n",
    "\n",
    "# sessions_eng = sessions[sessions['locale']=='UK']"
   ]
  },
  {
   "cell_type": "code",
   "execution_count": 19,
   "id": "788e5723",
   "metadata": {},
   "outputs": [],
   "source": [
    "# Check the number of sessions in the English set\n",
    "\n",
    "# sessions_eng.size"
   ]
  },
  {
   "cell_type": "markdown",
   "id": "4accb8a0",
   "metadata": {},
   "source": [
    "We see that we have more items than distinct sessions"
   ]
  },
  {
   "cell_type": "markdown",
   "id": "0139a011",
   "metadata": {},
   "source": [
    "### Clean"
   ]
  },
  {
   "cell_type": "code",
   "execution_count": 15,
   "id": "a24a5c37",
   "metadata": {},
   "outputs": [],
   "source": [
    "import re\n",
    "import nltk"
   ]
  },
  {
   "cell_type": "code",
   "execution_count": 16,
   "id": "0859796d",
   "metadata": {},
   "outputs": [],
   "source": [
    "titles = np.array(products_eng['title'])\n",
    "titles = \" \".join(titles)"
   ]
  },
  {
   "cell_type": "code",
   "execution_count": 17,
   "id": "dd5c4b9d",
   "metadata": {},
   "outputs": [],
   "source": [
    "words = re.findall(r'\\w+', titles)"
   ]
  },
  {
   "cell_type": "code",
   "execution_count": 18,
   "id": "967ab3d2",
   "metadata": {},
   "outputs": [],
   "source": [
    "word_counter = Counter(words)"
   ]
  },
  {
   "cell_type": "code",
   "execution_count": 19,
   "id": "0ef27d51",
   "metadata": {},
   "outputs": [],
   "source": [
    "word_frequencies = np.array(list(word_counter.values()))"
   ]
  },
  {
   "cell_type": "code",
   "execution_count": 20,
   "id": "b677edbc",
   "metadata": {},
   "outputs": [
    {
     "data": {
      "text/plain": [
       "array([1., 1., 2.])"
      ]
     },
     "execution_count": 20,
     "metadata": {},
     "output_type": "execute_result"
    }
   ],
   "source": [
    "word_quartiles = np.quantile(word_frequencies, [0,.45,0.5])\n",
    "word_quartiles"
   ]
  },
  {
   "cell_type": "code",
   "execution_count": 21,
   "id": "3882d158",
   "metadata": {},
   "outputs": [
    {
     "data": {
      "text/plain": [
       "176991"
      ]
     },
     "execution_count": 21,
     "metadata": {},
     "output_type": "execute_result"
    }
   ],
   "source": [
    "len(word_frequencies)"
   ]
  },
  {
   "cell_type": "code",
   "execution_count": 22,
   "id": "ec6f4f10",
   "metadata": {},
   "outputs": [],
   "source": [
    "word_freq_2_more = [k for k,v in word_counter.items() if float(v) >= 2]"
   ]
  },
  {
   "cell_type": "code",
   "execution_count": 23,
   "id": "b1fc99d6",
   "metadata": {},
   "outputs": [
    {
     "data": {
      "text/plain": [
       "94355"
      ]
     },
     "execution_count": 23,
     "metadata": {},
     "output_type": "execute_result"
    }
   ],
   "source": [
    "len(word_freq_2_more)"
   ]
  },
  {
   "cell_type": "code",
   "execution_count": 24,
   "id": "a70a0d9f",
   "metadata": {},
   "outputs": [],
   "source": [
    "big_count = 0\n",
    "\n",
    "def clean(text, stem_words=True):\n",
    "    \n",
    "#     text = re.sub('(?<=[0-9])\\,(?=[0-9])', \"\", text)\n",
    "#     print(text)\n",
    "#     text = re.sub('^(?!.[a-zA-Z])(?!.\\d)[a-zA-Z0-9]+$', \"\", text)\n",
    "    text = re.findall(r'\\b(?:[a-zA-Z]+|\\d+)\\b', text)\n",
    "\n",
    "    new_text = []\n",
    "    for word in text:\n",
    "        if word_counter[word] > 1:\n",
    "            new_text.append(word)\n",
    "    text = new_text\n",
    "\n",
    "#     global big_count\n",
    "#     big_count += 1\n",
    "#     print(big_count)\n",
    "    \n",
    "    text = \" \".join(text)\n",
    "    \n",
    "    return text"
   ]
  },
  {
   "cell_type": "code",
   "execution_count": 25,
   "id": "8668f83c",
   "metadata": {},
   "outputs": [],
   "source": [
    "products_eng['title'] = products_eng['title'].apply(clean)"
   ]
  },
  {
   "cell_type": "markdown",
   "id": "53f49b28",
   "metadata": {},
   "source": [
    "### Model creation"
   ]
  },
  {
   "cell_type": "code",
   "execution_count": 30,
   "id": "be84634c",
   "metadata": {},
   "outputs": [],
   "source": [
    "from sklearn.feature_extraction.text import TfidfVectorizer\n",
    "from sklearn.model_selection import train_test_split\n",
    "from sklearn.metrics.pairwise import linear_kernel\n",
    "from sklearn.metrics.pairwise import cosine_similarity"
   ]
  },
  {
   "cell_type": "markdown",
   "id": "7269918a",
   "metadata": {},
   "source": [
    "Problems:\n",
    "- items with no description\n",
    "\n",
    "Need to do:\n",
    "- normalize text (make undercase, no italic, no bold)"
   ]
  },
  {
   "cell_type": "code",
   "execution_count": 27,
   "id": "0c3da648",
   "metadata": {},
   "outputs": [
    {
     "data": {
      "text/plain": [
       "(470148, 62117)"
      ]
     },
     "execution_count": 27,
     "metadata": {},
     "output_type": "execute_result"
    }
   ],
   "source": [
    "# Train a model that finds similar items based on the title of the items only\n",
    "# https://www.datacamp.com/tutorial/recommender-systems-python\n",
    "\n",
    "#Define a TF-IDF Vectorizer Object. Remove all english stop words such as 'the', 'a'\n",
    "tfidf = TfidfVectorizer(stop_words='english')\n",
    "\n",
    "# #Replace NaN with an empty string\n",
    "# products_eng['title'] = products_eng['title'].fillna('')\n",
    "\n",
    "#Construct the required TF-IDF matrix by fitting and transforming the data\n",
    "tfidf_matrix = tfidf.fit_transform(products_eng['title'])\n",
    "\n",
    "#Output the shape of tfidf_matrix\n",
    "tfidf_matrix.shape"
   ]
  },
  {
   "cell_type": "code",
   "execution_count": 34,
   "id": "8ed591fa",
   "metadata": {},
   "outputs": [],
   "source": [
    "#Array mapping from feature integer indices to feature name\n",
    "\n",
    "# tfidf.get_feature_names_out()[-1000:]"
   ]
  },
  {
   "cell_type": "code",
   "execution_count": null,
   "id": "d838abf1",
   "metadata": {},
   "outputs": [],
   "source": []
  },
  {
   "cell_type": "code",
   "execution_count": 29,
   "id": "f878adb9",
   "metadata": {},
   "outputs": [],
   "source": [
    "from sklearn.neighbors import NearestNeighbors"
   ]
  },
  {
   "cell_type": "code",
   "execution_count": null,
   "id": "5e460feb",
   "metadata": {},
   "outputs": [],
   "source": [
    "model = NearestNeighbors(n_neighbors=n_neighbor,\n",
    "                         metric='cosine',\n",
    "                         algorithm='brute',\n",
    "                         n_jobs=-1)"
   ]
  },
  {
   "cell_type": "code",
   "execution_count": null,
   "id": "20a1c7c9",
   "metadata": {},
   "outputs": [],
   "source": []
  },
  {
   "cell_type": "code",
   "execution_count": 116,
   "id": "e4497712",
   "metadata": {},
   "outputs": [],
   "source": [
    "# # https://github.com/AlexanderNixon/Machine-learning-reads/blob/master/Movie-content-based-recommender-using-tf-idf.ipynb\n",
    "\n",
    "# cosine_sim = cosine_similarity(tfidf_matrix)"
   ]
  },
  {
   "cell_type": "code",
   "execution_count": 117,
   "id": "b07c1be9",
   "metadata": {},
   "outputs": [],
   "source": [
    "# tfidf_matrix = tfidf_matrix.astype('float32')"
   ]
  },
  {
   "cell_type": "code",
   "execution_count": 42,
   "id": "2c0ae9b5",
   "metadata": {},
   "outputs": [],
   "source": [
    "item_index_to_matrix_index = {k: v for v, k in enumerate(products_eng.index)}"
   ]
  },
  {
   "cell_type": "code",
   "execution_count": 45,
   "id": "c0b4a78c",
   "metadata": {},
   "outputs": [],
   "source": [
    "matrix_index_to_item_index = {v: k for k, v in item_index_to_matrix_index.items()}"
   ]
  },
  {
   "cell_type": "code",
   "execution_count": 112,
   "id": "55b6a655",
   "metadata": {},
   "outputs": [],
   "source": [
    "def get_closest_item(item_id, n):\n",
    "    \n",
    "    \"\"\"\n",
    "    Input: id of the item corresponding to the original dataframe\n",
    "    Output: list of top n most similar items, excluding the input item, indexes from the original dataframe\n",
    "    \"\"\"\n",
    "    \n",
    "    matrix_item_id = item_index_to_matrix_index[item_id]\n",
    "    item_vector = tfidf_matrix.getrow(matrix_item_id)\n",
    "    similarity_vector = cosine_similarity(item_vector, tfidf_matrix)[0]\n",
    "    \n",
    "    ind = similarity_vector.argsort()[-(n+1):][::-1]\n",
    "    ind = np.delete(ind, np.where(ind == matrix_item_id))\n",
    "    ind = ind[:n]\n",
    "    \n",
    "    dataframe_idexes = []\n",
    "    similarities = []\n",
    "    \n",
    "    for index in ind:\n",
    "        similarities.append(similarity_vector[index])\n",
    "        dataframe_idexes.append(matrix_index_to_item_index[index])\n",
    "        \n",
    "    return dataframe_idexes, similarities"
   ]
  },
  {
   "cell_type": "code",
   "execution_count": 278,
   "id": "06e75a3c",
   "metadata": {},
   "outputs": [],
   "source": [
    "def get_closest_item(item_id):\n",
    "    \n",
    "    \"\"\"\n",
    "    Input: id of the item corresponding to the original dataframe\n",
    "    Output: list of top n most similar items, excluding the input item, indexes from the original dataframe\n",
    "    \"\"\"\n",
    "    n = 1\n",
    "    \n",
    "    matrix_item_id = item_index_to_matrix_index[item_id]\n",
    "    item_vector = tfidf_matrix.getrow(matrix_item_id)\n",
    "    similarity_vector = linear_kernel(item_vector, tfidf_matrix)[0]\n",
    "    \n",
    "    ind = similarity_vector.argsort()[-2:][::-1]\n",
    "    ind = np.delete(ind, np.where(ind == matrix_item_id))\n",
    "    ind = ind[:1]\n",
    "    \n",
    "    dataframe_idexes = []\n",
    "    similarities = []\n",
    "    \n",
    "    for index in ind:\n",
    "        similarities.append(similarity_vector[index])\n",
    "        dataframe_idexes.append(matrix_index_to_item_index[index])\n",
    "        \n",
    "    return matrix_index_to_item_index[ind[0]]"
   ]
  },
  {
   "cell_type": "code",
   "execution_count": 219,
   "id": "1d75fb2b",
   "metadata": {},
   "outputs": [
    {
     "data": {
      "text/plain": [
       "1263071"
      ]
     },
     "execution_count": 219,
     "metadata": {},
     "output_type": "execute_result"
    }
   ],
   "source": [
    "get_closest_item(913340)"
   ]
  },
  {
   "cell_type": "code",
   "execution_count": 113,
   "id": "a191d8e8",
   "metadata": {},
   "outputs": [
    {
     "data": {
      "text/plain": [
       "([1339655, 1051538], [0.9542421315568143, 0.9146442927057199])"
      ]
     },
     "execution_count": 113,
     "metadata": {},
     "output_type": "execute_result"
    }
   ],
   "source": [
    "get_closest_item(913336,2)"
   ]
  },
  {
   "cell_type": "markdown",
   "id": "ff91a3a8",
   "metadata": {},
   "source": [
    "### Test recommendations"
   ]
  },
  {
   "cell_type": "code",
   "execution_count": 164,
   "id": "a8b2a7c1",
   "metadata": {},
   "outputs": [],
   "source": [
    "test_sessions_eng = sessions_eng.copy()"
   ]
  },
  {
   "cell_type": "code",
   "execution_count": 165,
   "id": "a377e043",
   "metadata": {},
   "outputs": [],
   "source": [
    "comercial_id_to_title = dict(zip(products_eng.id, products_eng.title))"
   ]
  },
  {
   "cell_type": "code",
   "execution_count": 166,
   "id": "db42599c",
   "metadata": {},
   "outputs": [],
   "source": [
    "def from_commercial_id_to_title(commercial_id):\n",
    "    \n",
    "    if commercial_id not in comercial_id_to_title:\n",
    "        return np.nan\n",
    "        \n",
    "    dataframe_row = comercial_id_to_title[commercial_id]\n",
    "    dataframe_row\n",
    "    \n",
    "    return dataframe_row"
   ]
  },
  {
   "cell_type": "code",
   "execution_count": 167,
   "id": "95ee476a",
   "metadata": {},
   "outputs": [],
   "source": [
    "test_sessions_eng['next_item'] = test_sessions_eng['next_item'].apply(from_commercial_id_to_title)"
   ]
  },
  {
   "cell_type": "code",
   "execution_count": 168,
   "id": "43614576",
   "metadata": {},
   "outputs": [
    {
     "data": {
      "text/html": [
       "<div>\n",
       "<style scoped>\n",
       "    .dataframe tbody tr th:only-of-type {\n",
       "        vertical-align: middle;\n",
       "    }\n",
       "\n",
       "    .dataframe tbody tr th {\n",
       "        vertical-align: top;\n",
       "    }\n",
       "\n",
       "    .dataframe thead th {\n",
       "        text-align: right;\n",
       "    }\n",
       "</style>\n",
       "<table border=\"1\" class=\"dataframe\">\n",
       "  <thead>\n",
       "    <tr style=\"text-align: right;\">\n",
       "      <th></th>\n",
       "      <th>prev_items</th>\n",
       "      <th>next_item</th>\n",
       "      <th>locale</th>\n",
       "    </tr>\n",
       "  </thead>\n",
       "  <tbody>\n",
       "    <tr>\n",
       "      <th>2090535</th>\n",
       "      <td>[B0BFDL54Y7, B0BFDR9X13, B07J4WF8VH, B07Y21LDJX]</td>\n",
       "      <td>ADOV Vegetable Chopper 14 in 1 Multi Function ...</td>\n",
       "      <td>UK</td>\n",
       "    </tr>\n",
       "    <tr>\n",
       "      <th>2090536</th>\n",
       "      <td>[B07FM2GLNQ, B07GZW3P4W]</td>\n",
       "      <td>Bedsure White Voile Sheer Curtains 2 Panels Wi...</td>\n",
       "      <td>UK</td>\n",
       "    </tr>\n",
       "    <tr>\n",
       "      <th>2090537</th>\n",
       "      <td>[B0021L95HU, B07DDL77RY, B07DDL77RY]</td>\n",
       "      <td>Seven Seas Omega 3 FISH Oil Plus Cod Liver Oil...</td>\n",
       "      <td>UK</td>\n",
       "    </tr>\n",
       "    <tr>\n",
       "      <th>2090538</th>\n",
       "      <td>[B0B2WSZYL2, B000I8XZ7O]</td>\n",
       "      <td>Rubie s Official Halloween Haunted House Skele...</td>\n",
       "      <td>UK</td>\n",
       "    </tr>\n",
       "    <tr>\n",
       "      <th>2090539</th>\n",
       "      <td>[B00LW1APOC, B00LW1APOC, B00OI6NQUI, B09HLDN8W1]</td>\n",
       "      <td>Command Assorted Picture Hanging Strips White ...</td>\n",
       "      <td>UK</td>\n",
       "    </tr>\n",
       "    <tr>\n",
       "      <th>...</th>\n",
       "      <td>...</td>\n",
       "      <td>...</td>\n",
       "      <td>...</td>\n",
       "    </tr>\n",
       "    <tr>\n",
       "      <th>3272711</th>\n",
       "      <td>[B06XK89969, B01NGT5NF4, B00D5Z89C8, B07ZVGCHR...</td>\n",
       "      <td>MYCARBON Travel Money Belt RFID Against Invisi...</td>\n",
       "      <td>UK</td>\n",
       "    </tr>\n",
       "    <tr>\n",
       "      <th>3272712</th>\n",
       "      <td>[B076M85W1K, B07L8792Q9, B095RW318L, B095RVVX9T]</td>\n",
       "      <td>Laptop Backpack Womens 15 6 Inch School Bag wi...</td>\n",
       "      <td>UK</td>\n",
       "    </tr>\n",
       "    <tr>\n",
       "      <th>3272713</th>\n",
       "      <td>[B00JQDIQRQ, B001O59QQE]</td>\n",
       "      <td>Zinc Carbon Triple AAA Batteries 1 Heavy Duty ...</td>\n",
       "      <td>UK</td>\n",
       "    </tr>\n",
       "    <tr>\n",
       "      <th>3272714</th>\n",
       "      <td>[B07QMHMLJZ, B07FPYYMC4]</td>\n",
       "      <td>El Malbec Argentinian Red Wine 1 x</td>\n",
       "      <td>UK</td>\n",
       "    </tr>\n",
       "    <tr>\n",
       "      <th>3272715</th>\n",
       "      <td>[B06XC9TW57, B08WYQ4S11]</td>\n",
       "      <td>Lepro WiFi Smart Bulb RGB and Warm to Cool Whi...</td>\n",
       "      <td>UK</td>\n",
       "    </tr>\n",
       "  </tbody>\n",
       "</table>\n",
       "<p>1182181 rows × 3 columns</p>\n",
       "</div>"
      ],
      "text/plain": [
       "                                                prev_items  \\\n",
       "2090535   [B0BFDL54Y7, B0BFDR9X13, B07J4WF8VH, B07Y21LDJX]   \n",
       "2090536                           [B07FM2GLNQ, B07GZW3P4W]   \n",
       "2090537               [B0021L95HU, B07DDL77RY, B07DDL77RY]   \n",
       "2090538                           [B0B2WSZYL2, B000I8XZ7O]   \n",
       "2090539   [B00LW1APOC, B00LW1APOC, B00OI6NQUI, B09HLDN8W1]   \n",
       "...                                                    ...   \n",
       "3272711  [B06XK89969, B01NGT5NF4, B00D5Z89C8, B07ZVGCHR...   \n",
       "3272712   [B076M85W1K, B07L8792Q9, B095RW318L, B095RVVX9T]   \n",
       "3272713                           [B00JQDIQRQ, B001O59QQE]   \n",
       "3272714                           [B07QMHMLJZ, B07FPYYMC4]   \n",
       "3272715                           [B06XC9TW57, B08WYQ4S11]   \n",
       "\n",
       "                                                 next_item locale  \n",
       "2090535  ADOV Vegetable Chopper 14 in 1 Multi Function ...     UK  \n",
       "2090536  Bedsure White Voile Sheer Curtains 2 Panels Wi...     UK  \n",
       "2090537  Seven Seas Omega 3 FISH Oil Plus Cod Liver Oil...     UK  \n",
       "2090538  Rubie s Official Halloween Haunted House Skele...     UK  \n",
       "2090539  Command Assorted Picture Hanging Strips White ...     UK  \n",
       "...                                                    ...    ...  \n",
       "3272711  MYCARBON Travel Money Belt RFID Against Invisi...     UK  \n",
       "3272712  Laptop Backpack Womens 15 6 Inch School Bag wi...     UK  \n",
       "3272713  Zinc Carbon Triple AAA Batteries 1 Heavy Duty ...     UK  \n",
       "3272714                 El Malbec Argentinian Red Wine 1 x     UK  \n",
       "3272715  Lepro WiFi Smart Bulb RGB and Warm to Cool Whi...     UK  \n",
       "\n",
       "[1182181 rows x 3 columns]"
      ]
     },
     "execution_count": 168,
     "metadata": {},
     "output_type": "execute_result"
    }
   ],
   "source": [
    "test_sessions_eng"
   ]
  },
  {
   "cell_type": "code",
   "execution_count": 169,
   "id": "3c1e7d14",
   "metadata": {},
   "outputs": [],
   "source": [
    "item_index_to_item_commercial_id = dict(zip(products_eng.index, products_eng.id))"
   ]
  },
  {
   "cell_type": "code",
   "execution_count": 171,
   "id": "917b30d1",
   "metadata": {},
   "outputs": [],
   "source": [
    "item_commercial_id_to_item_index = {v: k for k, v in item_index_to_item_commercial_id.items()}"
   ]
  },
  {
   "cell_type": "code",
   "execution_count": 279,
   "id": "87360551",
   "metadata": {},
   "outputs": [],
   "source": [
    "def recommend_most_similar_for_last_item(item_list):\n",
    "    \n",
    "    last_item_commercial_id = item_list[-1]\n",
    "    last_item_commercial_index = item_commercial_id_to_item_index[last_item_commercial_id]\n",
    "#     recommended_items = get_closest_item(last_item_commercial_index, 1)\n",
    "#     recommended_items = [[913336]]\n",
    "#     recommended_items = recommended_items[0][0]\n",
    "    recommended_items = get_closest_item(last_item_commercial_index)\n",
    "    recommended_items = item_index_to_item_commercial_id[recommended_items]\n",
    "#     print(recommended_items)\n",
    "    if recommended_items not in comercial_id_to_title:\n",
    "        return np.nan\n",
    "    title = comercial_id_to_title[recommended_items]\n",
    "    \n",
    "    global count\n",
    "    count += 1\n",
    "    print(count, end='\\r')\n",
    "    \n",
    "    return title"
   ]
  },
  {
   "cell_type": "code",
   "execution_count": 330,
   "id": "1d243aed",
   "metadata": {},
   "outputs": [
    {
     "data": {
      "text/html": [
       "<div>\n",
       "<style scoped>\n",
       "    .dataframe tbody tr th:only-of-type {\n",
       "        vertical-align: middle;\n",
       "    }\n",
       "\n",
       "    .dataframe tbody tr th {\n",
       "        vertical-align: top;\n",
       "    }\n",
       "\n",
       "    .dataframe thead th {\n",
       "        text-align: right;\n",
       "    }\n",
       "</style>\n",
       "<table border=\"1\" class=\"dataframe\">\n",
       "  <thead>\n",
       "    <tr style=\"text-align: right;\">\n",
       "      <th></th>\n",
       "      <th>prev_items</th>\n",
       "      <th>next_item</th>\n",
       "      <th>locale</th>\n",
       "    </tr>\n",
       "  </thead>\n",
       "  <tbody>\n",
       "    <tr>\n",
       "      <th>3143235</th>\n",
       "      <td>[B08TCCVS28, B09QMJ87N7]</td>\n",
       "      <td>Busy B Mid Year Busy Life Diary August 2022 Au...</td>\n",
       "      <td>UK</td>\n",
       "    </tr>\n",
       "    <tr>\n",
       "      <th>2980385</th>\n",
       "      <td>[B00EVNXR66, B07GZD6DVQ, B00EVNXR66, B00EVNXR66]</td>\n",
       "      <td>RPM Power Door Pull Up Bars Heavy Duty Door Pu...</td>\n",
       "      <td>UK</td>\n",
       "    </tr>\n",
       "    <tr>\n",
       "      <th>2622482</th>\n",
       "      <td>[B0B18XBHS4, B089KVXX4B, B0B2ZZ3L8Q, B07BTR535...</td>\n",
       "      <td>Utopia Bedding Pillowcases Soft Brushed Microf...</td>\n",
       "      <td>UK</td>\n",
       "    </tr>\n",
       "    <tr>\n",
       "      <th>2329429</th>\n",
       "      <td>[B09VBJ1HSM, B091CNZYZZ]</td>\n",
       "      <td>LED Desk Lamp Reading Lamp with Touch Control ...</td>\n",
       "      <td>UK</td>\n",
       "    </tr>\n",
       "    <tr>\n",
       "      <th>2511697</th>\n",
       "      <td>[B08299JR38, B094KNYPVT]</td>\n",
       "      <td>Godmorn Humane Mouse Trap 2 Pack with Cleaning...</td>\n",
       "      <td>UK</td>\n",
       "    </tr>\n",
       "    <tr>\n",
       "      <th>...</th>\n",
       "      <td>...</td>\n",
       "      <td>...</td>\n",
       "      <td>...</td>\n",
       "    </tr>\n",
       "    <tr>\n",
       "      <th>2939488</th>\n",
       "      <td>[B07CL2RHX5, B075V5JK36, B083KQNHQH]</td>\n",
       "      <td>Amazon Basics USB C to HDMI adapter cable Thun...</td>\n",
       "      <td>UK</td>\n",
       "    </tr>\n",
       "    <tr>\n",
       "      <th>2826050</th>\n",
       "      <td>[B09ZTKZ3LN, B08JJ3VCXL, B08SHYRYZV, B08JJ51D7R]</td>\n",
       "      <td>Bra Extender 3 Hook Stretchy Bra Strap Extensi...</td>\n",
       "      <td>UK</td>\n",
       "    </tr>\n",
       "    <tr>\n",
       "      <th>2832100</th>\n",
       "      <td>[B08DCTDWTF, B091XQZL4X, B091XWLZ7B, B091Y3T2P...</td>\n",
       "      <td>Micoden for iPhone 12 Case Cute Girls Silicone...</td>\n",
       "      <td>UK</td>\n",
       "    </tr>\n",
       "    <tr>\n",
       "      <th>2555307</th>\n",
       "      <td>[B004RDYI04, B004RDYI04]</td>\n",
       "      <td>2 x Nose Spray Long Lasting Fast Acting</td>\n",
       "      <td>UK</td>\n",
       "    </tr>\n",
       "    <tr>\n",
       "      <th>2408505</th>\n",
       "      <td>[B077NXDP3T, B0B393KSGM]</td>\n",
       "      <td>Shower Head Holder Adjustable Removable Shower...</td>\n",
       "      <td>UK</td>\n",
       "    </tr>\n",
       "  </tbody>\n",
       "</table>\n",
       "<p>1182 rows × 3 columns</p>\n",
       "</div>"
      ],
      "text/plain": [
       "                                                prev_items  \\\n",
       "3143235                           [B08TCCVS28, B09QMJ87N7]   \n",
       "2980385   [B00EVNXR66, B07GZD6DVQ, B00EVNXR66, B00EVNXR66]   \n",
       "2622482  [B0B18XBHS4, B089KVXX4B, B0B2ZZ3L8Q, B07BTR535...   \n",
       "2329429                           [B09VBJ1HSM, B091CNZYZZ]   \n",
       "2511697                           [B08299JR38, B094KNYPVT]   \n",
       "...                                                    ...   \n",
       "2939488               [B07CL2RHX5, B075V5JK36, B083KQNHQH]   \n",
       "2826050   [B09ZTKZ3LN, B08JJ3VCXL, B08SHYRYZV, B08JJ51D7R]   \n",
       "2832100  [B08DCTDWTF, B091XQZL4X, B091XWLZ7B, B091Y3T2P...   \n",
       "2555307                           [B004RDYI04, B004RDYI04]   \n",
       "2408505                           [B077NXDP3T, B0B393KSGM]   \n",
       "\n",
       "                                                 next_item locale  \n",
       "3143235  Busy B Mid Year Busy Life Diary August 2022 Au...     UK  \n",
       "2980385  RPM Power Door Pull Up Bars Heavy Duty Door Pu...     UK  \n",
       "2622482  Utopia Bedding Pillowcases Soft Brushed Microf...     UK  \n",
       "2329429  LED Desk Lamp Reading Lamp with Touch Control ...     UK  \n",
       "2511697  Godmorn Humane Mouse Trap 2 Pack with Cleaning...     UK  \n",
       "...                                                    ...    ...  \n",
       "2939488  Amazon Basics USB C to HDMI adapter cable Thun...     UK  \n",
       "2826050  Bra Extender 3 Hook Stretchy Bra Strap Extensi...     UK  \n",
       "2832100  Micoden for iPhone 12 Case Cute Girls Silicone...     UK  \n",
       "2555307            2 x Nose Spray Long Lasting Fast Acting     UK  \n",
       "2408505  Shower Head Holder Adjustable Removable Shower...     UK  \n",
       "\n",
       "[1182 rows x 3 columns]"
      ]
     },
     "execution_count": 330,
     "metadata": {},
     "output_type": "execute_result"
    }
   ],
   "source": [
    "train_test_sessions_eng, test_test_sessions_eng = train_test_split(test_sessions_eng, train_size=0.001)\n",
    "train_test_sessions_eng"
   ]
  },
  {
   "cell_type": "code",
   "execution_count": 331,
   "id": "490dacaf",
   "metadata": {},
   "outputs": [
    {
     "name": "stdout",
     "output_type": "stream",
     "text": [
      "1182\r"
     ]
    }
   ],
   "source": [
    "count = 0\n",
    "train_test_sessions_eng['prev_items'] = train_test_sessions_eng['prev_items'].apply(recommend_most_similar_for_last_item)"
   ]
  },
  {
   "cell_type": "code",
   "execution_count": 332,
   "id": "1010595a",
   "metadata": {},
   "outputs": [
    {
     "data": {
      "text/html": [
       "<div>\n",
       "<style scoped>\n",
       "    .dataframe tbody tr th:only-of-type {\n",
       "        vertical-align: middle;\n",
       "    }\n",
       "\n",
       "    .dataframe tbody tr th {\n",
       "        vertical-align: top;\n",
       "    }\n",
       "\n",
       "    .dataframe thead th {\n",
       "        text-align: right;\n",
       "    }\n",
       "</style>\n",
       "<table border=\"1\" class=\"dataframe\">\n",
       "  <thead>\n",
       "    <tr style=\"text-align: right;\">\n",
       "      <th></th>\n",
       "      <th>prev_items</th>\n",
       "      <th>next_item</th>\n",
       "      <th>locale</th>\n",
       "    </tr>\n",
       "  </thead>\n",
       "  <tbody>\n",
       "    <tr>\n",
       "      <th>3143235</th>\n",
       "      <td>Busy B Mid Year Busy Life Diary August 2022 Au...</td>\n",
       "      <td>Busy B Mid Year Busy Life Diary August 2022 Au...</td>\n",
       "      <td>UK</td>\n",
       "    </tr>\n",
       "    <tr>\n",
       "      <th>2980385</th>\n",
       "      <td>adidas Duffle XS Gym Bag Black Black White NS</td>\n",
       "      <td>RPM Power Door Pull Up Bars Heavy Duty Door Pu...</td>\n",
       "      <td>UK</td>\n",
       "    </tr>\n",
       "    <tr>\n",
       "      <th>2622482</th>\n",
       "      <td>Silentnight Deep Sleep Pillow Pack of 6 Soft H...</td>\n",
       "      <td>Utopia Bedding Pillowcases Soft Brushed Microf...</td>\n",
       "      <td>UK</td>\n",
       "    </tr>\n",
       "    <tr>\n",
       "      <th>2329429</th>\n",
       "      <td>LED Desk Lamp Dimmable Eye Caring Table Lamp w...</td>\n",
       "      <td>LED Desk Lamp Reading Lamp with Touch Control ...</td>\n",
       "      <td>UK</td>\n",
       "    </tr>\n",
       "    <tr>\n",
       "      <th>2511697</th>\n",
       "      <td>KEPLIN Humane Mouse Trap No Kill the Mice Pets...</td>\n",
       "      <td>Godmorn Humane Mouse Trap 2 Pack with Cleaning...</td>\n",
       "      <td>UK</td>\n",
       "    </tr>\n",
       "    <tr>\n",
       "      <th>...</th>\n",
       "      <td>...</td>\n",
       "      <td>...</td>\n",
       "      <td>...</td>\n",
       "    </tr>\n",
       "    <tr>\n",
       "      <th>2939488</th>\n",
       "      <td>Amazon Basics USB C to HDMI adapter cable Thun...</td>\n",
       "      <td>Amazon Basics USB C to HDMI adapter cable Thun...</td>\n",
       "      <td>UK</td>\n",
       "    </tr>\n",
       "    <tr>\n",
       "      <th>2826050</th>\n",
       "      <td>Bra Extender 3 Hook Elastic Bra Strap Extensio...</td>\n",
       "      <td>Bra Extender 3 Hook Stretchy Bra Strap Extensi...</td>\n",
       "      <td>UK</td>\n",
       "    </tr>\n",
       "    <tr>\n",
       "      <th>2832100</th>\n",
       "      <td>Micoden for iPhone 12 Case Cute Girls Silicone...</td>\n",
       "      <td>Micoden for iPhone 12 Case Cute Girls Silicone...</td>\n",
       "      <td>UK</td>\n",
       "    </tr>\n",
       "    <tr>\n",
       "      <th>2555307</th>\n",
       "      <td>Sudafed Blocked Nose Spray x 4 Multipack</td>\n",
       "      <td>2 x Nose Spray Long Lasting Fast Acting</td>\n",
       "      <td>UK</td>\n",
       "    </tr>\n",
       "    <tr>\n",
       "      <th>2408505</th>\n",
       "      <td>Touchfutrue Shower Head Holder Universal Showe...</td>\n",
       "      <td>Shower Head Holder Adjustable Removable Shower...</td>\n",
       "      <td>UK</td>\n",
       "    </tr>\n",
       "  </tbody>\n",
       "</table>\n",
       "<p>1182 rows × 3 columns</p>\n",
       "</div>"
      ],
      "text/plain": [
       "                                                prev_items  \\\n",
       "3143235  Busy B Mid Year Busy Life Diary August 2022 Au...   \n",
       "2980385      adidas Duffle XS Gym Bag Black Black White NS   \n",
       "2622482  Silentnight Deep Sleep Pillow Pack of 6 Soft H...   \n",
       "2329429  LED Desk Lamp Dimmable Eye Caring Table Lamp w...   \n",
       "2511697  KEPLIN Humane Mouse Trap No Kill the Mice Pets...   \n",
       "...                                                    ...   \n",
       "2939488  Amazon Basics USB C to HDMI adapter cable Thun...   \n",
       "2826050  Bra Extender 3 Hook Elastic Bra Strap Extensio...   \n",
       "2832100  Micoden for iPhone 12 Case Cute Girls Silicone...   \n",
       "2555307           Sudafed Blocked Nose Spray x 4 Multipack   \n",
       "2408505  Touchfutrue Shower Head Holder Universal Showe...   \n",
       "\n",
       "                                                 next_item locale  \n",
       "3143235  Busy B Mid Year Busy Life Diary August 2022 Au...     UK  \n",
       "2980385  RPM Power Door Pull Up Bars Heavy Duty Door Pu...     UK  \n",
       "2622482  Utopia Bedding Pillowcases Soft Brushed Microf...     UK  \n",
       "2329429  LED Desk Lamp Reading Lamp with Touch Control ...     UK  \n",
       "2511697  Godmorn Humane Mouse Trap 2 Pack with Cleaning...     UK  \n",
       "...                                                    ...    ...  \n",
       "2939488  Amazon Basics USB C to HDMI adapter cable Thun...     UK  \n",
       "2826050  Bra Extender 3 Hook Stretchy Bra Strap Extensi...     UK  \n",
       "2832100  Micoden for iPhone 12 Case Cute Girls Silicone...     UK  \n",
       "2555307            2 x Nose Spray Long Lasting Fast Acting     UK  \n",
       "2408505  Shower Head Holder Adjustable Removable Shower...     UK  \n",
       "\n",
       "[1182 rows x 3 columns]"
      ]
     },
     "execution_count": 332,
     "metadata": {},
     "output_type": "execute_result"
    }
   ],
   "source": [
    "train_test_sessions_eng"
   ]
  },
  {
   "cell_type": "code",
   "execution_count": 333,
   "id": "eab6eba8",
   "metadata": {},
   "outputs": [],
   "source": [
    "train_test_sessions_eng.dropna(subset=['next_item'], inplace=True)"
   ]
  },
  {
   "cell_type": "code",
   "execution_count": 334,
   "id": "8ef71ff0",
   "metadata": {},
   "outputs": [],
   "source": [
    "train_test_sessions_eng.dropna(subset=['prev_items'], inplace=True)"
   ]
  },
  {
   "cell_type": "code",
   "execution_count": 335,
   "id": "f3bdfe6b",
   "metadata": {},
   "outputs": [
    {
     "data": {
      "text/html": [
       "<div>\n",
       "<style scoped>\n",
       "    .dataframe tbody tr th:only-of-type {\n",
       "        vertical-align: middle;\n",
       "    }\n",
       "\n",
       "    .dataframe tbody tr th {\n",
       "        vertical-align: top;\n",
       "    }\n",
       "\n",
       "    .dataframe thead th {\n",
       "        text-align: right;\n",
       "    }\n",
       "</style>\n",
       "<table border=\"1\" class=\"dataframe\">\n",
       "  <thead>\n",
       "    <tr style=\"text-align: right;\">\n",
       "      <th></th>\n",
       "      <th>prev_items</th>\n",
       "      <th>next_item</th>\n",
       "      <th>locale</th>\n",
       "    </tr>\n",
       "  </thead>\n",
       "  <tbody>\n",
       "    <tr>\n",
       "      <th>3143235</th>\n",
       "      <td>Busy B Mid Year Busy Life Diary August 2022 Au...</td>\n",
       "      <td>Busy B Mid Year Busy Life Diary August 2022 Au...</td>\n",
       "      <td>UK</td>\n",
       "    </tr>\n",
       "    <tr>\n",
       "      <th>2980385</th>\n",
       "      <td>adidas Duffle XS Gym Bag Black Black White NS</td>\n",
       "      <td>RPM Power Door Pull Up Bars Heavy Duty Door Pu...</td>\n",
       "      <td>UK</td>\n",
       "    </tr>\n",
       "    <tr>\n",
       "      <th>2622482</th>\n",
       "      <td>Silentnight Deep Sleep Pillow Pack of 6 Soft H...</td>\n",
       "      <td>Utopia Bedding Pillowcases Soft Brushed Microf...</td>\n",
       "      <td>UK</td>\n",
       "    </tr>\n",
       "    <tr>\n",
       "      <th>2329429</th>\n",
       "      <td>LED Desk Lamp Dimmable Eye Caring Table Lamp w...</td>\n",
       "      <td>LED Desk Lamp Reading Lamp with Touch Control ...</td>\n",
       "      <td>UK</td>\n",
       "    </tr>\n",
       "    <tr>\n",
       "      <th>2511697</th>\n",
       "      <td>KEPLIN Humane Mouse Trap No Kill the Mice Pets...</td>\n",
       "      <td>Godmorn Humane Mouse Trap 2 Pack with Cleaning...</td>\n",
       "      <td>UK</td>\n",
       "    </tr>\n",
       "    <tr>\n",
       "      <th>...</th>\n",
       "      <td>...</td>\n",
       "      <td>...</td>\n",
       "      <td>...</td>\n",
       "    </tr>\n",
       "    <tr>\n",
       "      <th>2939488</th>\n",
       "      <td>Amazon Basics USB C to HDMI adapter cable Thun...</td>\n",
       "      <td>Amazon Basics USB C to HDMI adapter cable Thun...</td>\n",
       "      <td>UK</td>\n",
       "    </tr>\n",
       "    <tr>\n",
       "      <th>2826050</th>\n",
       "      <td>Bra Extender 3 Hook Elastic Bra Strap Extensio...</td>\n",
       "      <td>Bra Extender 3 Hook Stretchy Bra Strap Extensi...</td>\n",
       "      <td>UK</td>\n",
       "    </tr>\n",
       "    <tr>\n",
       "      <th>2832100</th>\n",
       "      <td>Micoden for iPhone 12 Case Cute Girls Silicone...</td>\n",
       "      <td>Micoden for iPhone 12 Case Cute Girls Silicone...</td>\n",
       "      <td>UK</td>\n",
       "    </tr>\n",
       "    <tr>\n",
       "      <th>2555307</th>\n",
       "      <td>Sudafed Blocked Nose Spray x 4 Multipack</td>\n",
       "      <td>2 x Nose Spray Long Lasting Fast Acting</td>\n",
       "      <td>UK</td>\n",
       "    </tr>\n",
       "    <tr>\n",
       "      <th>2408505</th>\n",
       "      <td>Touchfutrue Shower Head Holder Universal Showe...</td>\n",
       "      <td>Shower Head Holder Adjustable Removable Shower...</td>\n",
       "      <td>UK</td>\n",
       "    </tr>\n",
       "  </tbody>\n",
       "</table>\n",
       "<p>1134 rows × 3 columns</p>\n",
       "</div>"
      ],
      "text/plain": [
       "                                                prev_items  \\\n",
       "3143235  Busy B Mid Year Busy Life Diary August 2022 Au...   \n",
       "2980385      adidas Duffle XS Gym Bag Black Black White NS   \n",
       "2622482  Silentnight Deep Sleep Pillow Pack of 6 Soft H...   \n",
       "2329429  LED Desk Lamp Dimmable Eye Caring Table Lamp w...   \n",
       "2511697  KEPLIN Humane Mouse Trap No Kill the Mice Pets...   \n",
       "...                                                    ...   \n",
       "2939488  Amazon Basics USB C to HDMI adapter cable Thun...   \n",
       "2826050  Bra Extender 3 Hook Elastic Bra Strap Extensio...   \n",
       "2832100  Micoden for iPhone 12 Case Cute Girls Silicone...   \n",
       "2555307           Sudafed Blocked Nose Spray x 4 Multipack   \n",
       "2408505  Touchfutrue Shower Head Holder Universal Showe...   \n",
       "\n",
       "                                                 next_item locale  \n",
       "3143235  Busy B Mid Year Busy Life Diary August 2022 Au...     UK  \n",
       "2980385  RPM Power Door Pull Up Bars Heavy Duty Door Pu...     UK  \n",
       "2622482  Utopia Bedding Pillowcases Soft Brushed Microf...     UK  \n",
       "2329429  LED Desk Lamp Reading Lamp with Touch Control ...     UK  \n",
       "2511697  Godmorn Humane Mouse Trap 2 Pack with Cleaning...     UK  \n",
       "...                                                    ...    ...  \n",
       "2939488  Amazon Basics USB C to HDMI adapter cable Thun...     UK  \n",
       "2826050  Bra Extender 3 Hook Stretchy Bra Strap Extensi...     UK  \n",
       "2832100  Micoden for iPhone 12 Case Cute Girls Silicone...     UK  \n",
       "2555307            2 x Nose Spray Long Lasting Fast Acting     UK  \n",
       "2408505  Shower Head Holder Adjustable Removable Shower...     UK  \n",
       "\n",
       "[1134 rows x 3 columns]"
      ]
     },
     "execution_count": 335,
     "metadata": {},
     "output_type": "execute_result"
    }
   ],
   "source": [
    "train_test_sessions_eng"
   ]
  },
  {
   "cell_type": "code",
   "execution_count": 336,
   "id": "285ce338",
   "metadata": {},
   "outputs": [],
   "source": [
    "from nltk.translate.bleu_score import corpus_bleu"
   ]
  },
  {
   "cell_type": "code",
   "execution_count": 337,
   "id": "8b08b9c6",
   "metadata": {},
   "outputs": [],
   "source": [
    "hypotheses = list(train_test_sessions_eng['prev_items'])\n",
    "hypotheses = [k.split() for k in hypotheses]"
   ]
  },
  {
   "cell_type": "code",
   "execution_count": 338,
   "id": "dcddbd1e",
   "metadata": {},
   "outputs": [],
   "source": [
    "list_of_references = list(train_test_sessions_eng['next_item'])\n",
    "list_of_references = [[k.split()] for k in list_of_references]"
   ]
  },
  {
   "cell_type": "code",
   "execution_count": 339,
   "id": "5240b24b",
   "metadata": {},
   "outputs": [
    {
     "data": {
      "text/plain": [
       "0.3114371278747136"
      ]
     },
     "execution_count": 339,
     "metadata": {},
     "output_type": "execute_result"
    }
   ],
   "source": [
    "corpus_bleu(list_of_references, hypotheses)"
   ]
  },
  {
   "cell_type": "markdown",
   "id": "b7689058",
   "metadata": {},
   "source": [
    "<p>Cosine + whole dataset item x item + 0.001 test set from eng sessions<br><br>\n",
    "    0.3345777847638878<br>\n",
    "    0.2944351033248738<br>\n",
    "    0.31359431393622406<br>\n",
    "    0.30993238217722233<br>\n",
    "    0.29221329254907863<br>\n",
    "    0.2931361051935785<br>\n",
    "    0.286349284129298<br>\n",
    "    0.3306727165724064<br>\n",
    "    0.33464147988807214<br>\n",
    "    0.3114371278747136<br>\n",
    "</p>"
   ]
  },
  {
   "cell_type": "code",
   "execution_count": 39,
   "id": "1c8a216d",
   "metadata": {},
   "outputs": [
    {
     "data": {
      "text/plain": [
       "0.3100986"
      ]
     },
     "execution_count": 39,
     "metadata": {},
     "output_type": "execute_result"
    }
   ],
   "source": [
    "(0.309932+0.334577+0.294435+0.313594+0.292213+0.293136+0.286349+0.330672+0.334641+0.311437)/10"
   ]
  },
  {
   "cell_type": "markdown",
   "id": "ba58f487",
   "metadata": {},
   "source": [
    "For report:\n",
    "\n",
    "- more than half of words used only once\n",
    "- a lot of products which are not rented\n",
    "- hard to create a matrix of similarity with whole product dataset -> hard to test on the sessions data"
   ]
  }
 ],
 "metadata": {
  "kernelspec": {
   "display_name": "Python 3 (ipykernel)",
   "language": "python",
   "name": "python3"
  },
  "language_info": {
   "codemirror_mode": {
    "name": "ipython",
    "version": 3
   },
   "file_extension": ".py",
   "mimetype": "text/x-python",
   "name": "python",
   "nbconvert_exporter": "python",
   "pygments_lexer": "ipython3",
   "version": "3.9.7"
  }
 },
 "nbformat": 4,
 "nbformat_minor": 5
}
